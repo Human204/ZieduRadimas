{
 "cells": [
  {
   "cell_type": "markdown",
   "metadata": {},
   "source": [
    "# Libraries"
   ]
  },
  {
   "cell_type": "code",
   "execution_count": 1,
   "metadata": {},
   "outputs": [],
   "source": [
    "import ast\n",
    "import math\n",
    "import os\n",
    "import gc\n",
    "\n",
    "import cv2\n",
    "from pathlib import Path\n",
    "\n",
    "from PIL import Image, ImageSequence\n",
    "import numpy as np\n",
    "from numpy.fft import fft2, fftshift, ifft2, ifftshift\n",
    "import matplotlib.pyplot as plt\n",
    "from scipy.signal import find_peaks, argrelextrema\n",
    "# from skfda import FDataGrid\n",
    "from numpy import unravel_index\n",
    "import statistics\n",
    "import heapq\n",
    "import pandas as pd\n",
    "\n",
    "# import tensorflow as tf\n",
    "# from tensorflow.keras import layers, models\n",
    "\n",
    "import itertools\n",
    "\n",
    "from scipy.ndimage import gaussian_filter\n",
    "from scipy.optimize import curve_fit\n",
    "from concurrent.futures import ThreadPoolExecutor, as_completed\n",
    "import matplotlib.patches as patches"
   ]
  },
  {
   "cell_type": "markdown",
   "metadata": {},
   "source": [
    "# Functions"
   ]
  },
  {
   "cell_type": "code",
   "execution_count": 2,
   "metadata": {},
   "outputs": [],
   "source": [
    "def interpolation(data):\n",
    "    return(np.interp([i for i in range(1,len(data)*50)],xp=[i*50 for i in range(0,len(data))],fp=data))"
   ]
  },
  {
   "cell_type": "code",
   "execution_count": 3,
   "metadata": {},
   "outputs": [],
   "source": [
    "def draw_circle(image,ccol,crow,circle_radius,result_folder,filename):\n",
    "    fig, ax = plt.subplots()\n",
    "    ax.imshow(image, cmap='gray')\n",
    "    circle_center=(ccol,crow)\n",
    "    circle = patches.Circle(circle_center, circle_radius, edgecolor='black', facecolor='none', linewidth=1)\n",
    "    ax.add_patch(circle)\n",
    "\n",
    "    cross_size = 10\n",
    "    ax.plot([circle_center[0] - cross_size, circle_center[0] + cross_size], \n",
    "                [circle_center[1], circle_center[1]], color='white', linewidth=2) \n",
    "    ax.plot([circle_center[0], circle_center[0]], \n",
    "            [circle_center[1] - cross_size, circle_center[1] + cross_size], color='white', linewidth=2) \n",
    "\n",
    "    fig.savefig(os.path.join(result_folder, f\"result_{filename}\"))\n",
    "    plt.cla()\n",
    "    plt.close(fig)\n",
    "    plt.close('all')\n",
    "    del fig,ax\n"
   ]
  },
  {
   "cell_type": "code",
   "execution_count": 4,
   "metadata": {},
   "outputs": [],
   "source": [
    "def process_image_low_movement(filename, output_path, preProcData, result_folder, i,df_list):\n",
    "    i=i*50\n",
    "    file_path = os.path.join(output_path, filename)\n",
    "\n",
    "    image = cv2.imread(file_path, cv2.IMREAD_GRAYSCALE)\n",
    "\n",
    "\n",
    "    movementNearFramesX=preProcData['diff_center_x'][i:i+100].sum()\n",
    "    movementNearFramesY=preProcData['diff_center_y'][i:i+100].sum()\n",
    "\n",
    "    if((movementNearFramesX+movementNearFramesY)>10):\n",
    "        ccol=preProcData['center_y(ccol)'][i]\n",
    "        crow=preProcData['center_x(crow)'][i]\n",
    "    else:\n",
    "        ccol=preProcData['smooth_center_y(ccol)'][i]\n",
    "        crow=preProcData['smooth_center_x(crow)'][i]\n",
    "\n",
    "    circle_radius = preProcData['circle_radius'][i]\n",
    "\n",
    "    new_data = pd.DataFrame({\n",
    "        'center_y(ccol)': [ccol],\n",
    "        'center_x(crow)': [crow],\n",
    "        'circle_radius': [circle_radius]\n",
    "    })\n",
    "    df_list.append(new_data)\n",
    "    draw_circle(image, ccol, crow, circle_radius,result_folder,filename)\n",
    "    # fig.imshow(fig, cmap='gray', vmin=0, vmax=255)\n",
    "    \n",
    "    \n",
    "    # if(i%100==0):\n",
    "    #     print(i)\n",
    "    "
   ]
  },
  {
   "cell_type": "code",
   "execution_count": 5,
   "metadata": {},
   "outputs": [],
   "source": [
    "def process_image_high_movement(filename, output_path, preProcData, result_folder, i,df_list):\n",
    "    i=i*50\n",
    "    file_path = os.path.join(output_path, filename)\n",
    "    \n",
    "    image = cv2.imread(file_path, cv2.IMREAD_GRAYSCALE)\n",
    "\n",
    "    ccol=preProcData['center_y(ccol)'][i]\n",
    "    crow=preProcData['center_x(crow)'][i]\n",
    "    circle_radius = preProcData['circle_radius'][i]\n",
    "\n",
    "    new_data = pd.DataFrame({\n",
    "        'center_y(ccol)': [ccol],\n",
    "        'center_x(crow)': [crow],\n",
    "        'circle_radius': [circle_radius]\n",
    "    })\n",
    "    df_list.append(new_data)\n",
    "\n",
    "    draw_circle(image, ccol, crow, circle_radius,result_folder,filename)\n",
    "    # plt.imshow(fig, cmap='gray', vmin=0, vmax=255)\n",
    "\n",
    "    \n",
    "    # if(i%100==0):\n",
    "    #     print(i)"
   ]
  },
  {
   "cell_type": "markdown",
   "metadata": {},
   "source": [
    "<!-- 1 pixel ~ 0.032mikrometrai -->"
   ]
  },
  {
   "cell_type": "markdown",
   "metadata": {},
   "source": [
    "# Main"
   ]
  },
  {
   "cell_type": "code",
   "execution_count": 6,
   "metadata": {},
   "outputs": [],
   "source": [
    "\n",
    "def post_processing(test_number,r_in, r_out, ring_index, allowed_change, input_path, input_tiff, output_base_path,output_path,result_folder,excel_input_path,excel_path,rolling_window, interpolationP=True):\n",
    "    # movement_threshold = 3500\n",
    "    movement_threshold = 70\n",
    "    # output_path = Path(output_base_path) / Path(input_tiff).stem\n",
    "    # print(output_path)\n",
    "    # output_path.mkdir(parents=True, exist_ok=True)\n",
    "    test_number = input_tiff.split('.')[1]\n",
    "\n",
    "    # result_folder = f\"Results_Validation_Large_Interpolated_Mean/{test_number}/\" + Path(input_tiff).stem + f\"_Results_bw{r_in}{r_out}_{ring_index}\"\n",
    "    Path(result_folder).mkdir(parents=True, exist_ok=True)\n",
    "\n",
    "    preProcData=pd.read_excel(excel_input_path)\n",
    "    if (interpolationP==True):\n",
    "        center_x_interpolated=interpolation(preProcData['center_x(crow)'])\n",
    "        center_y_interpolated=interpolation(preProcData['center_y(ccol)'])\n",
    "        circle_radius_interpolated=interpolation(preProcData['circle_radius'])\n",
    "        window=50\n",
    "\n",
    "        dfList=list(zip(center_x_interpolated,center_y_interpolated,circle_radius_interpolated))\n",
    "        preProcData=pd.DataFrame(dfList,columns=['center_x(crow)','center_y(ccol)','circle_radius'])\n",
    "    else:\n",
    "        window = 3\n",
    "\n",
    "    # calculating the sum of differences of the center (moving bead or stationary)\n",
    "    preProcData['diff_center_y'] = preProcData['center_y(ccol)'].diff().abs().fillna(0)\n",
    "    preProcData['diff_center_x'] = preProcData['center_x(crow)'].diff().abs().fillna(0)\n",
    "    # preProcData['total_movement'] = preProcData['diff_center_y'] + preProcData['diff_center_x']\n",
    "    totalMovement=0\n",
    "\n",
    "    for index, row in preProcData.iterrows():\n",
    "        totalMovement=totalMovement+row['diff_center_x']+row['diff_center_y']\n",
    "    if rolling_window == 'mean':\n",
    "        preProcData['smooth_center_y(ccol)'] = preProcData['center_y(ccol)'].rolling(window=window).mean()\n",
    "        preProcData['smooth_center_x(crow)'] = preProcData['center_x(crow)'].rolling(window=window).mean()\n",
    "        preProcData['smooth_radius'] = preProcData['circle_radius'].rolling(window=window).mean()\n",
    "    else:\n",
    "        preProcData['smooth_center_y(ccol)'] = preProcData['center_y(ccol)'].rolling(window=window).median()\n",
    "        preProcData['smooth_center_x(crow)'] = preProcData['center_x(crow)'].rolling(window=window).median()\n",
    "        preProcData['smooth_radius'] = preProcData['circle_radius'].rolling(window=window).median()\n",
    "\n",
    "    preProcData.fillna(method='bfill', inplace=True) # for the beginning\n",
    "    # .rolling(window=3)\n",
    "    df = pd.DataFrame(columns=['center_y(ccol)', 'center_x(crow)', 'circle_radius'])\n",
    "\n",
    "    totalMovement = preProcData['diff_center_x'].sum() + preProcData['diff_center_y'].sum()\n",
    "\n",
    "    df_list=[]\n",
    "    if totalMovement < movement_threshold:\n",
    "        with ThreadPoolExecutor(max_workers=1) as executor:\n",
    "            files = sorted(os.listdir(output_path))\n",
    "            \n",
    "            for i, filename in enumerate(files):\n",
    "                executor.submit(process_image_low_movement, filename, output_path, preProcData, result_folder, i,df_list)\n",
    "    else:\n",
    "        with ThreadPoolExecutor(max_workers=1) as executor:\n",
    "            files = sorted(os.listdir(output_path))\n",
    "            for i, filename in enumerate(files):\n",
    "                executor.submit(process_image_high_movement, filename, output_path, preProcData, result_folder, i,df_list)\n",
    "\n",
    "    df = pd.concat(df_list, ignore_index=True)\n",
    "    # print(df)\n",
    "    df.to_excel(excel_path)\n"
   ]
  },
  {
   "cell_type": "code",
   "execution_count": 7,
   "metadata": {},
   "outputs": [
    {
     "name": "stdout",
     "output_type": "stream",
     "text": [
      "{'test_number': 1, 'r_in': 3, 'r_out': 7, 'ring_index': 1, 'allowed_change': 1, 'input_path': 'Tiffs_Validation', 'input_tiff': 'Video1.tif', 'rolling_window': 'median', 'output_base_path': 'Results_Validation/Video1', 'output_path': '../../Results_Validation/Video1/Video1', 'result_folder': '../710centre37radiusMedian/Video1/Video1_Results_bw37_1', 'excel_input_path': '../ExcelsTesting/Video1_37_1_710center_37radius.xlsx', 'excel_path': '../ExcelsTesting/3637PostProcessed/Video1_37_1_710center_37radius_median.xlsx'}\n",
      "[Errno 2] No such file or directory: '../ExcelsTesting/Video1_37_1_710center_37radius.xlsx'\n",
      "{'test_number': 2, 'r_in': 3, 'r_out': 7, 'ring_index': 1, 'allowed_change': 1, 'input_path': 'Tiffs_Validation', 'input_tiff': 'Video2.tif', 'rolling_window': 'median', 'output_base_path': 'Results_Validation/Video2', 'output_path': '../../Results_Validation/Video2/Video2', 'result_folder': '../710centre37radiusMedian/Video2/Video2_Results_bw37_1', 'excel_input_path': '../ExcelsTesting/Video2_37_1_710center_37radius.xlsx', 'excel_path': '../ExcelsTesting/3637PostProcessed/Video2_37_1_710center_37radius_median.xlsx'}\n"
     ]
    },
    {
     "name": "stderr",
     "output_type": "stream",
     "text": [
      "C:\\Users\\Tautvydas\\AppData\\Local\\Temp\\ipykernel_5036\\827899230.py:41: FutureWarning: DataFrame.fillna with 'method' is deprecated and will raise in a future version. Use obj.ffill() or obj.bfill() instead.\n",
      "  preProcData.fillna(method='bfill', inplace=True) # for the beginning\n"
     ]
    },
    {
     "name": "stdout",
     "output_type": "stream",
     "text": [
      "{'test_number': 3, 'r_in': 3, 'r_out': 7, 'ring_index': 1, 'allowed_change': 1, 'input_path': 'Tiffs_Validation', 'input_tiff': 'Video3.tif', 'rolling_window': 'median', 'output_base_path': 'Results_Validation/Video3', 'output_path': '../../Results_Validation/Video3/Video3', 'result_folder': '../710centre37radiusMedian/Video3/Video3_Results_bw37_1', 'excel_input_path': '../ExcelsTesting/Video3_37_1_710center_37radius.xlsx', 'excel_path': '../ExcelsTesting/3637PostProcessed/Video3_37_1_710center_37radius_median.xlsx'}\n"
     ]
    },
    {
     "name": "stderr",
     "output_type": "stream",
     "text": [
      "C:\\Users\\Tautvydas\\AppData\\Local\\Temp\\ipykernel_5036\\827899230.py:41: FutureWarning: DataFrame.fillna with 'method' is deprecated and will raise in a future version. Use obj.ffill() or obj.bfill() instead.\n",
      "  preProcData.fillna(method='bfill', inplace=True) # for the beginning\n"
     ]
    },
    {
     "name": "stdout",
     "output_type": "stream",
     "text": [
      "{'test_number': 4, 'r_in': 3, 'r_out': 7, 'ring_index': 1, 'allowed_change': 1, 'input_path': 'Tiffs_Validation', 'input_tiff': 'Video4.tif', 'rolling_window': 'median', 'output_base_path': 'Results_Validation/Video4', 'output_path': '../../Results_Validation/Video4/Video4', 'result_folder': '../710centre37radiusMedian/Video4/Video4_Results_bw37_1', 'excel_input_path': '../ExcelsTesting/Video4_37_1_710center_37radius.xlsx', 'excel_path': '../ExcelsTesting/3637PostProcessed/Video4_37_1_710center_37radius_median.xlsx'}\n"
     ]
    },
    {
     "name": "stderr",
     "output_type": "stream",
     "text": [
      "C:\\Users\\Tautvydas\\AppData\\Local\\Temp\\ipykernel_5036\\827899230.py:41: FutureWarning: DataFrame.fillna with 'method' is deprecated and will raise in a future version. Use obj.ffill() or obj.bfill() instead.\n",
      "  preProcData.fillna(method='bfill', inplace=True) # for the beginning\n"
     ]
    },
    {
     "name": "stdout",
     "output_type": "stream",
     "text": [
      "{'test_number': 5, 'r_in': 3, 'r_out': 7, 'ring_index': 1, 'allowed_change': 1, 'input_path': 'Tiffs_Validation', 'input_tiff': 'Video5.tif', 'rolling_window': 'median', 'output_base_path': 'Results_Validation/Video5', 'output_path': '../../Results_Validation/Video5/Video5', 'result_folder': '../710centre37radiusMedian/Video5/Video5_Results_bw37_1', 'excel_input_path': '../ExcelsTesting/Video5_37_1_710center_37radius.xlsx', 'excel_path': '../ExcelsTesting/3637PostProcessed/Video5_37_1_710center_37radius_median.xlsx'}\n"
     ]
    },
    {
     "name": "stderr",
     "output_type": "stream",
     "text": [
      "C:\\Users\\Tautvydas\\AppData\\Local\\Temp\\ipykernel_5036\\827899230.py:41: FutureWarning: DataFrame.fillna with 'method' is deprecated and will raise in a future version. Use obj.ffill() or obj.bfill() instead.\n",
      "  preProcData.fillna(method='bfill', inplace=True) # for the beginning\n"
     ]
    },
    {
     "name": "stdout",
     "output_type": "stream",
     "text": [
      "{'test_number': 6, 'r_in': 3, 'r_out': 7, 'ring_index': 1, 'allowed_change': 1, 'input_path': 'Tiffs_Validation', 'input_tiff': 'Video6.tif', 'rolling_window': 'median', 'output_base_path': 'Results_Validation/Video6', 'output_path': '../../Results_Validation/Video6/Video6', 'result_folder': '../710centre37radiusMedian/Video6/Video6_Results_bw37_1', 'excel_input_path': '../ExcelsTesting/Video6_37_1_710center_37radius.xlsx', 'excel_path': '../ExcelsTesting/3637PostProcessed/Video6_37_1_710center_37radius_median.xlsx'}\n"
     ]
    },
    {
     "name": "stderr",
     "output_type": "stream",
     "text": [
      "C:\\Users\\Tautvydas\\AppData\\Local\\Temp\\ipykernel_5036\\827899230.py:41: FutureWarning: DataFrame.fillna with 'method' is deprecated and will raise in a future version. Use obj.ffill() or obj.bfill() instead.\n",
      "  preProcData.fillna(method='bfill', inplace=True) # for the beginning\n"
     ]
    },
    {
     "name": "stdout",
     "output_type": "stream",
     "text": [
      "{'test_number': 7, 'r_in': 3, 'r_out': 7, 'ring_index': 1, 'allowed_change': 1, 'input_path': 'Tiffs_Validation', 'input_tiff': 'Video7.tif', 'rolling_window': 'median', 'output_base_path': 'Results_Validation/Video7', 'output_path': '../../Results_Validation/Video7/Video7', 'result_folder': '../710centre37radiusMedian/Video7/Video7_Results_bw37_1', 'excel_input_path': '../ExcelsTesting/Video7_37_1_710center_37radius.xlsx', 'excel_path': '../ExcelsTesting/3637PostProcessed/Video7_37_1_710center_37radius_median.xlsx'}\n"
     ]
    },
    {
     "name": "stderr",
     "output_type": "stream",
     "text": [
      "C:\\Users\\Tautvydas\\AppData\\Local\\Temp\\ipykernel_5036\\827899230.py:41: FutureWarning: DataFrame.fillna with 'method' is deprecated and will raise in a future version. Use obj.ffill() or obj.bfill() instead.\n",
      "  preProcData.fillna(method='bfill', inplace=True) # for the beginning\n"
     ]
    },
    {
     "name": "stdout",
     "output_type": "stream",
     "text": [
      "{'test_number': 8, 'r_in': 3, 'r_out': 7, 'ring_index': 1, 'allowed_change': 1, 'input_path': 'Tiffs_Validation', 'input_tiff': 'Video8.tif', 'rolling_window': 'median', 'output_base_path': 'Results_Validation/Video8', 'output_path': '../../Results_Validation/Video8/Video8', 'result_folder': '../710centre37radiusMedian/Video8/Video8_Results_bw37_1', 'excel_input_path': '../ExcelsTesting/Video8_37_1_710center_37radius.xlsx', 'excel_path': '../ExcelsTesting/3637PostProcessed/Video8_37_1_710center_37radius_median.xlsx'}\n"
     ]
    },
    {
     "name": "stderr",
     "output_type": "stream",
     "text": [
      "C:\\Users\\Tautvydas\\AppData\\Local\\Temp\\ipykernel_5036\\827899230.py:41: FutureWarning: DataFrame.fillna with 'method' is deprecated and will raise in a future version. Use obj.ffill() or obj.bfill() instead.\n",
      "  preProcData.fillna(method='bfill', inplace=True) # for the beginning\n"
     ]
    },
    {
     "name": "stdout",
     "output_type": "stream",
     "text": [
      "{'test_number': 9, 'r_in': 3, 'r_out': 7, 'ring_index': 1, 'allowed_change': 1, 'input_path': 'Tiffs_Validation', 'input_tiff': 'Video9.tif', 'rolling_window': 'median', 'output_base_path': 'Results_Validation/Video9', 'output_path': '../../Results_Validation/Video9/Video9', 'result_folder': '../710centre37radiusMedian/Video9/Video9_Results_bw37_1', 'excel_input_path': '../ExcelsTesting/Video9_37_1_710center_37radius.xlsx', 'excel_path': '../ExcelsTesting/3637PostProcessed/Video9_37_1_710center_37radius_median.xlsx'}\n"
     ]
    },
    {
     "name": "stderr",
     "output_type": "stream",
     "text": [
      "C:\\Users\\Tautvydas\\AppData\\Local\\Temp\\ipykernel_5036\\827899230.py:41: FutureWarning: DataFrame.fillna with 'method' is deprecated and will raise in a future version. Use obj.ffill() or obj.bfill() instead.\n",
      "  preProcData.fillna(method='bfill', inplace=True) # for the beginning\n"
     ]
    },
    {
     "name": "stdout",
     "output_type": "stream",
     "text": [
      "{'test_number': 10, 'r_in': 3, 'r_out': 7, 'ring_index': 1, 'allowed_change': 1, 'input_path': 'Tiffs_Validation', 'input_tiff': 'Video10.tif', 'rolling_window': 'median', 'output_base_path': 'Results_Validation/Video10', 'output_path': '../../Results_Validation/Video10/Video10', 'result_folder': '../710centre37radiusMedian/Video10/Video10_Results_bw37_1', 'excel_input_path': '../ExcelsTesting/Video10_37_1_710center_37radius.xlsx', 'excel_path': '../ExcelsTesting/3637PostProcessed/Video10_37_1_710center_37radius_median.xlsx'}\n"
     ]
    },
    {
     "name": "stderr",
     "output_type": "stream",
     "text": [
      "C:\\Users\\Tautvydas\\AppData\\Local\\Temp\\ipykernel_5036\\827899230.py:41: FutureWarning: DataFrame.fillna with 'method' is deprecated and will raise in a future version. Use obj.ffill() or obj.bfill() instead.\n",
      "  preProcData.fillna(method='bfill', inplace=True) # for the beginning\n"
     ]
    }
   ],
   "source": [
    "filters = [[3,7]]\n",
    "for filter in filters:\n",
    "    for test in range(1,11):\n",
    "    # test='1'\n",
    "        input_path='Tiffs_Validation'\n",
    "        input_tiff=f'Video{test}.tif'\n",
    "        # input_tiff=f'Video{test}.tif'\n",
    "        r_in = filter[0]\n",
    "        r_out = filter[1]\n",
    "        r_in = 3\n",
    "        r_out = 7\n",
    "        ring_index = 1\n",
    "        # brightness=image_background_brightness(get_first_png(input_tiff, input_path))\n",
    "        params={\n",
    "            'test_number':test,\n",
    "            'r_in':r_in,\n",
    "            'r_out':r_out,\n",
    "            'ring_index':ring_index,\n",
    "            'allowed_change':1,\n",
    "            'input_path':input_path,\n",
    "            'input_tiff':input_tiff,\n",
    "            'rolling_window':'median',\n",
    "            'output_base_path':f'Results_Validation/Video{test}',\n",
    "            'output_path':f'../../Results_Validation/Video{test}/Video{test}',\n",
    "            'result_folder' : f\"../710centre37radiusMedian/Video{test}/\" + Path(input_tiff).stem + f\"_Results_bw{r_in}{r_out}_{ring_index}\",\n",
    "            'excel_input_path' : f'../ExcelsTesting/Video{test}_{r_in}{r_out}_{ring_index}_710center_37radius.xlsx',\n",
    "            'excel_path':f'../ExcelsTesting/3637PostProcessed/Video{test}_{r_in}{r_out}_{ring_index}_710center_37radius_median.xlsx'\n",
    "        }\n",
    "        try:\n",
    "            print(params)\n",
    "            post_processing(**params)\n",
    "        except Exception as e:\n",
    "            print(e)\n",
    "            continue\n",
    "        # ring_search(**params)"
   ]
  },
  {
   "cell_type": "code",
   "execution_count": 8,
   "metadata": {},
   "outputs": [
    {
     "name": "stdout",
     "output_type": "stream",
     "text": [
      "{'test_number': 1, 'r_in': 3, 'r_out': 7, 'ring_index': 1, 'allowed_change': 1, 'input_path': 'Tiffs_Validation', 'input_tiff': 'Video1.tif', 'rolling_window': 'mean', 'output_base_path': 'Results_Validation/Video1', 'output_path': '../../Results_Validation/Video1/Video1', 'result_folder': '../710centre37radiusMean/Video1/Video1_Results_bw37_1', 'excel_input_path': '../ExcelsTesting/Video1_37_1_710center_37radius.xlsx', 'excel_path': '../ExcelsTesting/3637PostProcessed/Video1_37_1_710center_37radius_mean.xlsx'}\n",
      "[Errno 2] No such file or directory: '../ExcelsTesting/Video1_37_1_710center_37radius.xlsx'\n",
      "{'test_number': 2, 'r_in': 3, 'r_out': 7, 'ring_index': 1, 'allowed_change': 1, 'input_path': 'Tiffs_Validation', 'input_tiff': 'Video2.tif', 'rolling_window': 'mean', 'output_base_path': 'Results_Validation/Video2', 'output_path': '../../Results_Validation/Video2/Video2', 'result_folder': '../710centre37radiusMean/Video2/Video2_Results_bw37_1', 'excel_input_path': '../ExcelsTesting/Video2_37_1_710center_37radius.xlsx', 'excel_path': '../ExcelsTesting/3637PostProcessed/Video2_37_1_710center_37radius_mean.xlsx'}\n"
     ]
    },
    {
     "name": "stderr",
     "output_type": "stream",
     "text": [
      "C:\\Users\\Tautvydas\\AppData\\Local\\Temp\\ipykernel_5036\\827899230.py:41: FutureWarning: DataFrame.fillna with 'method' is deprecated and will raise in a future version. Use obj.ffill() or obj.bfill() instead.\n",
      "  preProcData.fillna(method='bfill', inplace=True) # for the beginning\n"
     ]
    },
    {
     "name": "stdout",
     "output_type": "stream",
     "text": [
      "{'test_number': 3, 'r_in': 3, 'r_out': 7, 'ring_index': 1, 'allowed_change': 1, 'input_path': 'Tiffs_Validation', 'input_tiff': 'Video3.tif', 'rolling_window': 'mean', 'output_base_path': 'Results_Validation/Video3', 'output_path': '../../Results_Validation/Video3/Video3', 'result_folder': '../710centre37radiusMean/Video3/Video3_Results_bw37_1', 'excel_input_path': '../ExcelsTesting/Video3_37_1_710center_37radius.xlsx', 'excel_path': '../ExcelsTesting/3637PostProcessed/Video3_37_1_710center_37radius_mean.xlsx'}\n"
     ]
    },
    {
     "name": "stderr",
     "output_type": "stream",
     "text": [
      "C:\\Users\\Tautvydas\\AppData\\Local\\Temp\\ipykernel_5036\\827899230.py:41: FutureWarning: DataFrame.fillna with 'method' is deprecated and will raise in a future version. Use obj.ffill() or obj.bfill() instead.\n",
      "  preProcData.fillna(method='bfill', inplace=True) # for the beginning\n"
     ]
    },
    {
     "name": "stdout",
     "output_type": "stream",
     "text": [
      "{'test_number': 4, 'r_in': 3, 'r_out': 7, 'ring_index': 1, 'allowed_change': 1, 'input_path': 'Tiffs_Validation', 'input_tiff': 'Video4.tif', 'rolling_window': 'mean', 'output_base_path': 'Results_Validation/Video4', 'output_path': '../../Results_Validation/Video4/Video4', 'result_folder': '../710centre37radiusMean/Video4/Video4_Results_bw37_1', 'excel_input_path': '../ExcelsTesting/Video4_37_1_710center_37radius.xlsx', 'excel_path': '../ExcelsTesting/3637PostProcessed/Video4_37_1_710center_37radius_mean.xlsx'}\n"
     ]
    },
    {
     "name": "stderr",
     "output_type": "stream",
     "text": [
      "C:\\Users\\Tautvydas\\AppData\\Local\\Temp\\ipykernel_5036\\827899230.py:41: FutureWarning: DataFrame.fillna with 'method' is deprecated and will raise in a future version. Use obj.ffill() or obj.bfill() instead.\n",
      "  preProcData.fillna(method='bfill', inplace=True) # for the beginning\n"
     ]
    },
    {
     "name": "stdout",
     "output_type": "stream",
     "text": [
      "{'test_number': 5, 'r_in': 3, 'r_out': 7, 'ring_index': 1, 'allowed_change': 1, 'input_path': 'Tiffs_Validation', 'input_tiff': 'Video5.tif', 'rolling_window': 'mean', 'output_base_path': 'Results_Validation/Video5', 'output_path': '../../Results_Validation/Video5/Video5', 'result_folder': '../710centre37radiusMean/Video5/Video5_Results_bw37_1', 'excel_input_path': '../ExcelsTesting/Video5_37_1_710center_37radius.xlsx', 'excel_path': '../ExcelsTesting/3637PostProcessed/Video5_37_1_710center_37radius_mean.xlsx'}\n"
     ]
    },
    {
     "name": "stderr",
     "output_type": "stream",
     "text": [
      "C:\\Users\\Tautvydas\\AppData\\Local\\Temp\\ipykernel_5036\\827899230.py:41: FutureWarning: DataFrame.fillna with 'method' is deprecated and will raise in a future version. Use obj.ffill() or obj.bfill() instead.\n",
      "  preProcData.fillna(method='bfill', inplace=True) # for the beginning\n"
     ]
    },
    {
     "name": "stdout",
     "output_type": "stream",
     "text": [
      "{'test_number': 6, 'r_in': 3, 'r_out': 7, 'ring_index': 1, 'allowed_change': 1, 'input_path': 'Tiffs_Validation', 'input_tiff': 'Video6.tif', 'rolling_window': 'mean', 'output_base_path': 'Results_Validation/Video6', 'output_path': '../../Results_Validation/Video6/Video6', 'result_folder': '../710centre37radiusMean/Video6/Video6_Results_bw37_1', 'excel_input_path': '../ExcelsTesting/Video6_37_1_710center_37radius.xlsx', 'excel_path': '../ExcelsTesting/3637PostProcessed/Video6_37_1_710center_37radius_mean.xlsx'}\n"
     ]
    },
    {
     "name": "stderr",
     "output_type": "stream",
     "text": [
      "C:\\Users\\Tautvydas\\AppData\\Local\\Temp\\ipykernel_5036\\827899230.py:41: FutureWarning: DataFrame.fillna with 'method' is deprecated and will raise in a future version. Use obj.ffill() or obj.bfill() instead.\n",
      "  preProcData.fillna(method='bfill', inplace=True) # for the beginning\n"
     ]
    },
    {
     "name": "stdout",
     "output_type": "stream",
     "text": [
      "{'test_number': 7, 'r_in': 3, 'r_out': 7, 'ring_index': 1, 'allowed_change': 1, 'input_path': 'Tiffs_Validation', 'input_tiff': 'Video7.tif', 'rolling_window': 'mean', 'output_base_path': 'Results_Validation/Video7', 'output_path': '../../Results_Validation/Video7/Video7', 'result_folder': '../710centre37radiusMean/Video7/Video7_Results_bw37_1', 'excel_input_path': '../ExcelsTesting/Video7_37_1_710center_37radius.xlsx', 'excel_path': '../ExcelsTesting/3637PostProcessed/Video7_37_1_710center_37radius_mean.xlsx'}\n"
     ]
    },
    {
     "name": "stderr",
     "output_type": "stream",
     "text": [
      "C:\\Users\\Tautvydas\\AppData\\Local\\Temp\\ipykernel_5036\\827899230.py:41: FutureWarning: DataFrame.fillna with 'method' is deprecated and will raise in a future version. Use obj.ffill() or obj.bfill() instead.\n",
      "  preProcData.fillna(method='bfill', inplace=True) # for the beginning\n"
     ]
    },
    {
     "name": "stdout",
     "output_type": "stream",
     "text": [
      "{'test_number': 8, 'r_in': 3, 'r_out': 7, 'ring_index': 1, 'allowed_change': 1, 'input_path': 'Tiffs_Validation', 'input_tiff': 'Video8.tif', 'rolling_window': 'mean', 'output_base_path': 'Results_Validation/Video8', 'output_path': '../../Results_Validation/Video8/Video8', 'result_folder': '../710centre37radiusMean/Video8/Video8_Results_bw37_1', 'excel_input_path': '../ExcelsTesting/Video8_37_1_710center_37radius.xlsx', 'excel_path': '../ExcelsTesting/3637PostProcessed/Video8_37_1_710center_37radius_mean.xlsx'}\n"
     ]
    },
    {
     "name": "stderr",
     "output_type": "stream",
     "text": [
      "C:\\Users\\Tautvydas\\AppData\\Local\\Temp\\ipykernel_5036\\827899230.py:41: FutureWarning: DataFrame.fillna with 'method' is deprecated and will raise in a future version. Use obj.ffill() or obj.bfill() instead.\n",
      "  preProcData.fillna(method='bfill', inplace=True) # for the beginning\n"
     ]
    },
    {
     "name": "stdout",
     "output_type": "stream",
     "text": [
      "{'test_number': 9, 'r_in': 3, 'r_out': 7, 'ring_index': 1, 'allowed_change': 1, 'input_path': 'Tiffs_Validation', 'input_tiff': 'Video9.tif', 'rolling_window': 'mean', 'output_base_path': 'Results_Validation/Video9', 'output_path': '../../Results_Validation/Video9/Video9', 'result_folder': '../710centre37radiusMean/Video9/Video9_Results_bw37_1', 'excel_input_path': '../ExcelsTesting/Video9_37_1_710center_37radius.xlsx', 'excel_path': '../ExcelsTesting/3637PostProcessed/Video9_37_1_710center_37radius_mean.xlsx'}\n"
     ]
    },
    {
     "name": "stderr",
     "output_type": "stream",
     "text": [
      "C:\\Users\\Tautvydas\\AppData\\Local\\Temp\\ipykernel_5036\\827899230.py:41: FutureWarning: DataFrame.fillna with 'method' is deprecated and will raise in a future version. Use obj.ffill() or obj.bfill() instead.\n",
      "  preProcData.fillna(method='bfill', inplace=True) # for the beginning\n"
     ]
    },
    {
     "name": "stdout",
     "output_type": "stream",
     "text": [
      "{'test_number': 10, 'r_in': 3, 'r_out': 7, 'ring_index': 1, 'allowed_change': 1, 'input_path': 'Tiffs_Validation', 'input_tiff': 'Video10.tif', 'rolling_window': 'mean', 'output_base_path': 'Results_Validation/Video10', 'output_path': '../../Results_Validation/Video10/Video10', 'result_folder': '../710centre37radiusMean/Video10/Video10_Results_bw37_1', 'excel_input_path': '../ExcelsTesting/Video10_37_1_710center_37radius.xlsx', 'excel_path': '../ExcelsTesting/3637PostProcessed/Video10_37_1_710center_37radius_mean.xlsx'}\n"
     ]
    },
    {
     "name": "stderr",
     "output_type": "stream",
     "text": [
      "C:\\Users\\Tautvydas\\AppData\\Local\\Temp\\ipykernel_5036\\827899230.py:41: FutureWarning: DataFrame.fillna with 'method' is deprecated and will raise in a future version. Use obj.ffill() or obj.bfill() instead.\n",
      "  preProcData.fillna(method='bfill', inplace=True) # for the beginning\n"
     ]
    }
   ],
   "source": [
    "filters = [[3,7]]\n",
    "for filter in filters:\n",
    "    for test in range(1,11):\n",
    "    # test='1'\n",
    "        input_path='Tiffs_Validation'\n",
    "        input_tiff=f'Video{test}.tif'\n",
    "        # input_tiff=f'Video{test}.tif'\n",
    "        r_in = filter[0]\n",
    "        r_out = filter[1]\n",
    "        r_in = 3\n",
    "        r_out = 7\n",
    "        ring_index = 1\n",
    "        # brightness=image_background_brightness(get_first_png(input_tiff, input_path))\n",
    "        params={\n",
    "            'test_number':test,\n",
    "            'r_in':r_in,\n",
    "            'r_out':r_out,\n",
    "            'ring_index':ring_index,\n",
    "            'allowed_change':1,\n",
    "            'input_path':input_path,\n",
    "            'input_tiff':input_tiff,\n",
    "            'rolling_window':'mean',\n",
    "            'output_base_path':f'Results_Validation/Video{test}',\n",
    "            'output_path':f'../../Results_Validation/Video{test}/Video{test}',\n",
    "            'result_folder' : f\"../710centre37radiusMean/Video{test}/\" + Path(input_tiff).stem + f\"_Results_bw{r_in}{r_out}_{ring_index}\",\n",
    "            'excel_input_path' : f'../ExcelsTesting/Video{test}_{r_in}{r_out}_{ring_index}_710center_37radius.xlsx',\n",
    "            'excel_path':f'../ExcelsTesting/3637PostProcessed/Video{test}_{r_in}{r_out}_{ring_index}_710center_37radius_mean.xlsx'\n",
    "        }\n",
    "        try:\n",
    "            print(params)\n",
    "            post_processing(**params)\n",
    "        except Exception as e:\n",
    "            print(e)\n",
    "            continue\n",
    "        # ring_search(**params)"
   ]
  }
 ],
 "metadata": {
  "kernelspec": {
   "display_name": "Python 3",
   "language": "python",
   "name": "python3"
  },
  "language_info": {
   "codemirror_mode": {
    "name": "ipython",
    "version": 3
   },
   "file_extension": ".py",
   "mimetype": "text/x-python",
   "name": "python",
   "nbconvert_exporter": "python",
   "pygments_lexer": "ipython3",
   "version": "3.12.4"
  }
 },
 "nbformat": 4,
 "nbformat_minor": 2
}
