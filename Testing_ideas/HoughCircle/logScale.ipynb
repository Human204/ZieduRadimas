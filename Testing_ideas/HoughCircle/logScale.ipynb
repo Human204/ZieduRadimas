{
 "cells": [
  {
   "cell_type": "code",
   "execution_count": 5,
   "metadata": {},
   "outputs": [],
   "source": [
    "import numpy as np\n",
    "import pandas as pd\n",
    "import matplotlib.pyplot as plt\n",
    "data=pd.read_excel('../ExcelsTesting/VideoLarge_object2_37_1_hough_post_processed_mean_interpol_0.01.xlsx')"
   ]
  },
  {
   "cell_type": "code",
   "execution_count": 13,
   "metadata": {},
   "outputs": [],
   "source": [
    "center_x=data['center_x(crow)']\n",
    "log_data = np.log(center_x)\n",
    "# log_data.to_excel('log10.xlsx')"
   ]
  },
  {
   "cell_type": "code",
   "execution_count": 14,
   "metadata": {},
   "outputs": [
    {
     "name": "stdout",
     "output_type": "stream",
     "text": [
      "0      4.848720\n",
      "1      4.848714\n",
      "2      4.849377\n",
      "3      4.849534\n",
      "4      4.848976\n",
      "         ...   \n",
      "419    4.849854\n",
      "420    4.850032\n",
      "421    4.850457\n",
      "422    4.850043\n",
      "423    4.849880\n",
      "Name: center_x(crow), Length: 424, dtype: float64\n"
     ]
    }
   ],
   "source": [
    "print(log_data)"
   ]
  }
 ],
 "metadata": {
  "kernelspec": {
   "display_name": "Python 3",
   "language": "python",
   "name": "python3"
  },
  "language_info": {
   "codemirror_mode": {
    "name": "ipython",
    "version": 3
   },
   "file_extension": ".py",
   "mimetype": "text/x-python",
   "name": "python",
   "nbconvert_exporter": "python",
   "pygments_lexer": "ipython3",
   "version": "3.12.4"
  }
 },
 "nbformat": 4,
 "nbformat_minor": 2
}
