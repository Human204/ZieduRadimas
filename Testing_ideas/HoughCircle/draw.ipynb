{
 "cells": [
  {
   "cell_type": "code",
   "execution_count": 1,
   "metadata": {},
   "outputs": [],
   "source": [
    "import ast\n",
    "import math\n",
    "import os\n",
    "import gc\n",
    "\n",
    "import cv2\n",
    "from pathlib import Path\n",
    "\n",
    "from PIL import Image, ImageSequence\n",
    "import numpy as np\n",
    "from numpy.fft import fft2, fftshift, ifft2, ifftshift\n",
    "import matplotlib.pyplot as plt\n",
    "from scipy.signal import find_peaks, argrelextrema\n",
    "# from skfda import FDataGrid\n",
    "from numpy import unravel_index\n",
    "import statistics\n",
    "import heapq\n",
    "import pandas as pd\n",
    "\n",
    "# import tensorflow as tf\n",
    "# from tensorflow.keras import layers, models\n",
    "\n",
    "import itertools\n",
    "\n",
    "from scipy.ndimage import gaussian_filter\n",
    "from scipy.optimize import curve_fit\n",
    "from concurrent.futures import ThreadPoolExecutor, as_completed\n",
    "import matplotlib.patches as patches"
   ]
  },
  {
   "cell_type": "code",
   "execution_count": 2,
   "metadata": {},
   "outputs": [],
   "source": [
    "def draw_circle(image,ccol,crow,circle_radius,result_folder,filename):\n",
    "    fig, ax = plt.subplots()\n",
    "    ax.imshow(image, cmap='gray')\n",
    "    circle_center=(ccol,crow)\n",
    "    circle = patches.Circle(circle_center, circle_radius, edgecolor='black', facecolor='none', linewidth=1)\n",
    "    ax.add_patch(circle)\n",
    "\n",
    "    cross_size = 10\n",
    "    ax.plot([circle_center[0] - cross_size, circle_center[0] + cross_size], \n",
    "                [circle_center[1], circle_center[1]], color='white', linewidth=2) \n",
    "    ax.plot([circle_center[0], circle_center[0]], \n",
    "            [circle_center[1] - cross_size, circle_center[1] + cross_size], color='white', linewidth=2) \n",
    "\n",
    "    fig.savefig(os.path.join(result_folder, f\"result_{filename}\"))\n",
    "    plt.cla()\n",
    "    plt.close(fig)\n",
    "    plt.close('all')\n",
    "    del fig,ax\n"
   ]
  },
  {
   "cell_type": "code",
   "execution_count": 3,
   "metadata": {},
   "outputs": [],
   "source": [
    "tests=['005','009','035']"
   ]
  },
  {
   "cell_type": "code",
   "execution_count": 6,
   "metadata": {},
   "outputs": [
    {
     "name": "stdout",
     "output_type": "stream",
     "text": [
      "[Errno 2] No such file or directory: '../ExcelsTesting/Video009_object3_changepoints.xlsx'\n",
      "[Errno 2] No such file or directory: '../ExcelsTesting/Video035_object3_changepoints.xlsx'\n"
     ]
    },
    {
     "ename": "",
     "evalue": "",
     "output_type": "error",
     "traceback": [
      "\u001b[1;31mThe Kernel crashed while executing code in the current cell or a previous cell. \n",
      "\u001b[1;31mPlease review the code in the cell(s) to identify a possible cause of the failure. \n",
      "\u001b[1;31mClick <a href='https://aka.ms/vscodeJupyterKernelCrash'>here</a> for more info. \n",
      "\u001b[1;31mView Jupyter <a href='command:jupyter.viewOutput'>log</a> for further details."
     ]
    }
   ],
   "source": [
    "for test in tests:\n",
    "        for object in range(1,4):\n",
    "            try:\n",
    "                input_tiff=f'{test}.tif'\n",
    "                output_path=f'../../Results_Validation/Video{test}/cropped_object_{object}'\n",
    "                result_folder=f\"Results_Validation/changepoints/Video{test}_obj{object}/\" + Path(input_tiff).stem + f\"_Results_bw\"\n",
    "                Path(result_folder).mkdir(parents=True, exist_ok=True)\n",
    "\n",
    "                data=pd.read_excel(f'../ExcelsTesting/Video{test}_object{object}_changepoints.xlsx')\n",
    "\n",
    "                ccol=data['center_y']   \n",
    "                crow=data['center_x']\n",
    "                radius=data['radius']   \n",
    "\n",
    "                files = sorted(os.listdir(output_path))\n",
    "                for i, filename in enumerate(files):\n",
    "                    file_path = os.path.join(output_path, filename)\n",
    "                    image = cv2.imread(file_path, cv2.IMREAD_GRAYSCALE)\n",
    "                    draw_circle(image,ccol[i],crow[i],radius[i],result_folder,filename)\n",
    "            except Exception as e:\n",
    "                print(e)\n",
    "                continue\n"
   ]
  }
 ],
 "metadata": {
  "kernelspec": {
   "display_name": "Python 3",
   "language": "python",
   "name": "python3"
  },
  "language_info": {
   "codemirror_mode": {
    "name": "ipython",
    "version": 3
   },
   "file_extension": ".py",
   "mimetype": "text/x-python",
   "name": "python",
   "nbconvert_exporter": "python",
   "pygments_lexer": "ipython3",
   "version": "3.12.4"
  }
 },
 "nbformat": 4,
 "nbformat_minor": 2
}
