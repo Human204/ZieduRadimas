{
 "cells": [
  {
   "cell_type": "code",
   "execution_count": 22,
   "metadata": {},
   "outputs": [
    {
     "data": {
      "text/plain": [
       "{'box_width': 205, 'box_height': 183, 'box_top_left': (852, 312)}"
      ]
     },
     "execution_count": 22,
     "metadata": {},
     "output_type": "execute_result"
    }
   ],
   "source": [
    "import numpy as np\n",
    "\n",
    "import numpy as np\n",
    "\n",
    "def calculate_box_position_and_size(image_res,local_coords, global_coords, center_relative_position=(0.5, 0.5)):\n",
    "    local_coords = np.array(local_coords)\n",
    "    global_coords = np.array(global_coords)\n",
    "\n",
    "    x_local, y_local = local_coords\n",
    "    x_global, y_global = global_coords\n",
    "    x_image,y_image=image_res\n",
    "\n",
    "    rel_x, rel_y = center_relative_position\n",
    "\n",
    "    box_width = x_local / rel_x\n",
    "    box_height = y_local / rel_y\n",
    "\n",
    "    top_left_x = x_image-(x_image-x_global-x_local)-box_width\n",
    "    top_left_y = y_image-(y_image-y_global-y_local)-box_height\n",
    "\n",
    "    return {\n",
    "        \"box_width\": int(box_width),\n",
    "        \"box_height\": int(box_height),\n",
    "        \"box_top_left\": (int(top_left_x), int(top_left_y))\n",
    "    }\n",
    "\n",
    "\n",
    "\n",
    "\n",
    "# calculate_box_position_and_size((925,690),(98,90),(592,392))\n",
    "calculate_box_position_and_size((1165,674),(102.5594062,91.94952488),(955,404))"
   ]
  }
 ],
 "metadata": {
  "kernelspec": {
   "display_name": "Python 3",
   "language": "python",
   "name": "python3"
  },
  "language_info": {
   "codemirror_mode": {
    "name": "ipython",
    "version": 3
   },
   "file_extension": ".py",
   "mimetype": "text/x-python",
   "name": "python",
   "nbconvert_exporter": "python",
   "pygments_lexer": "ipython3",
   "version": "3.12.4"
  }
 },
 "nbformat": 4,
 "nbformat_minor": 2
}
