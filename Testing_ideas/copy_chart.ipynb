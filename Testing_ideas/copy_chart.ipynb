{
 "cells": [
  {
   "cell_type": "code",
   "execution_count": 17,
   "metadata": {},
   "outputs": [
    {
     "name": "stdout",
     "output_type": "stream",
     "text": [
      "Scatterplots copied and updated successfully!\n"
     ]
    }
   ],
   "source": [
    "import openpyxl\n",
    "from openpyxl.chart import ScatterChart, Series, Reference\n",
    "import os\n",
    "\n",
    "# Define the folder containing the Excel files\n",
    "folder_path = 'C:/Users/Tautvydas/Files/ZieduRadimas/Testing_ideas/excels_window'\n",
    "\n",
    "# Define the template chart (assume it's in a file named 'template.xlsx')\n",
    "template_file = 'C:/Users/Tautvydas/Files/ZieduRadimas/Testing_ideas/Videolarge_37_1_hough_median_cropped_obj_2_window_5_thresh_4.xlsx'\n",
    "template_wb = openpyxl.load_workbook(template_file)\n",
    "template_ws = template_wb.active\n",
    "template_chart = template_ws._charts[0]  # Assuming the chart is the first one\n",
    "\n",
    "# Loop through all Excel files in the folder\n",
    "for filename in os.listdir(folder_path):\n",
    "    if filename.endswith('.xlsx') and filename != 'template.xlsx':\n",
    "        file_path = os.path.join(folder_path, filename)\n",
    "        wb = openpyxl.load_workbook(file_path)\n",
    "        ws = wb.active\n",
    "\n",
    "        # Copy the template chart\n",
    "        new_chart = ScatterChart()\n",
    "        new_chart.title = template_chart.title\n",
    "        new_chart.style = template_chart.style\n",
    "        new_chart.x_axis.title = template_chart.x_axis.title\n",
    "        new_chart.y_axis.title = template_chart.y_axis.title\n",
    "\n",
    "        # Update the data series to reference the current sheet\n",
    "        x_values = Reference(ws, min_col=1, min_row=2, max_row=4901)\n",
    "        y_values = Reference(ws, min_col=3, min_row=2, max_row=4901)\n",
    "        series = Series(y_values, x_values, title_from_data=True)\n",
    "        new_chart.series.append(series)\n",
    "\n",
    "        # Set axis limits\n",
    "        new_chart.x_axis.scaling.min = 1686.0\n",
    "        new_chart.x_axis.scaling.max = 2109\n",
    "        new_chart.y_axis.scaling.min = 127\n",
    "        new_chart.y_axis.scaling.max = 129\n",
    "\n",
    "        # Add the chart to the current sheet\n",
    "        ws.add_chart(new_chart, 'E5')  # Adjust the position as needed\n",
    "\n",
    "        # Save the updated workbook\n",
    "        wb.save(file_path)\n",
    "\n",
    "print('Scatterplots copied and updated successfully!')\n"
   ]
  }
 ],
 "metadata": {
  "kernelspec": {
   "display_name": "Python 3",
   "language": "python",
   "name": "python3"
  },
  "language_info": {
   "codemirror_mode": {
    "name": "ipython",
    "version": 3
   },
   "file_extension": ".py",
   "mimetype": "text/x-python",
   "name": "python",
   "nbconvert_exporter": "python",
   "pygments_lexer": "ipython3",
   "version": "3.12.4"
  }
 },
 "nbformat": 4,
 "nbformat_minor": 2
}
