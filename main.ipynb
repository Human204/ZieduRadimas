{
 "cells": [
  {
   "cell_type": "markdown",
   "metadata": {},
   "source": [
    "# Libraries"
   ]
  },
  {
   "cell_type": "code",
   "execution_count": 1,
   "metadata": {},
   "outputs": [],
   "source": [
    "import ast\n",
    "import math\n",
    "import os\n",
    "import gc\n",
    "\n",
    "import cv2\n",
    "from pathlib import Path\n",
    "\n",
    "from PIL import Image, ImageSequence\n",
    "import numpy as np\n",
    "from numpy.fft import fft2, fftshift, ifft2, ifftshift\n",
    "import matplotlib.pyplot as plt\n",
    "from scipy.signal import find_peaks, argrelextrema\n",
    "# from skfda import FDataGrid\n",
    "from numpy import unravel_index\n",
    "import statistics\n",
    "import heapq\n",
    "import pandas as pd\n",
    "\n",
    "# import tensorflow as tf\n",
    "# from tensorflow.keras import layers, models\n",
    "\n",
    "import itertools"
   ]
  },
  {
   "cell_type": "markdown",
   "metadata": {},
   "source": [
    "# Functions"
   ]
  },
  {
   "cell_type": "markdown",
   "metadata": {},
   "source": [
    "## Smoothing"
   ]
  },
  {
   "cell_type": "code",
   "execution_count": 2,
   "metadata": {},
   "outputs": [],
   "source": [
    "def moving_average(signal, window_size=5):\n",
    "    return np.convolve(signal, np.ones(window_size) / window_size, mode='same')"
   ]
  },
  {
   "cell_type": "code",
   "execution_count": 3,
   "metadata": {},
   "outputs": [],
   "source": [
    "def merge_peaks_by_distance(peaks, min_distance):\n",
    "    merged_peaks = []\n",
    "    i = 0\n",
    "    while i < len(peaks) - 1:\n",
    "        if abs(peaks[i] - peaks[i+1]) <= min_distance:\n",
    "            merged_peak = (peaks[i] + peaks[i+1]) // 2\n",
    "            merged_peaks.append(merged_peak)\n",
    "            i += 2  \n",
    "        else:\n",
    "            merged_peaks.append(peaks[i])\n",
    "            i += 1\n",
    "\n",
    "    if i == len(peaks) - 1:\n",
    "        merged_peaks.append(peaks[i])\n",
    "    return merged_peaks\n"
   ]
  },
  {
   "cell_type": "markdown",
   "metadata": {},
   "source": [
    "## Circle functions"
   ]
  },
  {
   "cell_type": "code",
   "execution_count": 16,
   "metadata": {},
   "outputs": [],
   "source": [
    "def circle_radius_fun(peaks_x,peaks_y,ring_index,ccol,crow):\n",
    "    # Adjusted peak selection to use closest peaks around ccol\n",
    "    closest_peak_x = min(peaks_x, key=lambda x: abs(x-ccol))\n",
    "    closest_peak_y = min(peaks_y, key=lambda y: abs(y-crow))\n",
    "\n",
    "    # Using peak indices to find distances to closest peaks\n",
    "    peak_index_x = peaks_x.tolist().index(closest_peak_x)\n",
    "    peak_index_y = peaks_y.tolist().index(closest_peak_y)\n",
    "    # peak_index_x=peaks_x.index(closest_peak_x)\n",
    "    # peak_index_y=peaks_y.index(closest_peak_y)\n",
    "\n",
    "    if peak_index_x > 0:\n",
    "        rl_x = ccol - peaks_x[peak_index_x - ring_index]\n",
    "        rr_x = peaks_x[peak_index_x + ring_index] - ccol\n",
    "\n",
    "    if peak_index_y > 0:\n",
    "        ru_y = crow - peaks_y[peak_index_y - ring_index]\n",
    "        rl_y = peaks_y[peak_index_y + ring_index] - crow\n",
    "\n",
    "\n",
    "    return round((rl_x + rr_x + ru_y + rl_y) / 4., 0)"
   ]
  },
  {
   "cell_type": "code",
   "execution_count": 17,
   "metadata": {},
   "outputs": [],
   "source": [
    "def circle_change_limiter(circle_radius,prev_circle_radius,allowed_change,ring_index,peaks_x,peaks_y,ccol,crow):\n",
    "    if prev_circle_radius is not None and circle_radius > prev_circle_radius * (1+allowed_change) and ring_index != 1:\n",
    "        ring_index=ring_index-1\n",
    "        # ccol=prev_ccol\n",
    "        # crow=prev_crow\n",
    "        print(f'{circle_radius} high')\n",
    "        circle_radius=circle_radius_fun(peaks_x,peaks_y,ring_index,ccol,crow)\n",
    "    elif prev_circle_radius is not None and circle_radius < prev_circle_radius * (1-allowed_change):\n",
    "        print(prev_circle_radius * 1-allowed_change)\n",
    "        ring_index=ring_index+1\n",
    "        # ccol=prev_ccol\n",
    "        # crow=prev_crow\n",
    "        print('low')\n",
    "        circle_radius=circle_radius_fun(peaks_x,peaks_y,ring_index,ccol,crow)\n",
    "    return circle_radius,ring_index"
   ]
  },
  {
   "cell_type": "code",
   "execution_count": 18,
   "metadata": {},
   "outputs": [],
   "source": [
    "def get_center_from_peaks(peaks, current_center):\n",
    "    valid_peaks = [peak for peak in peaks if np.abs(peak - current_center) >= 10]\n",
    "    left_peaks = np.array([peak for peak in valid_peaks if peak < current_center])\n",
    "    right_peaks = np.array([peak for peak in valid_peaks if peak > current_center])\n",
    "\n",
    "    if len(left_peaks) == 0 or len(right_peaks) == 0:\n",
    "        return current_center, 0\n",
    "\n",
    "    left_peak = left_peaks[-1] \n",
    "    right_peak = right_peaks[0] \n",
    "\n",
    "    refined_center = (left_peak + right_peak) // 2\n",
    "    # print(f'current: {current_center}, left_peak: {left_peak}, right_peak: {right_peak}, refined center: {refined_center}\\n {left_peaks} || {right_peaks}')\n",
    "\n",
    "    distance_between_peaks = np.abs(right_peak - left_peak)\n",
    "\n",
    "    return refined_center, distance_between_peaks"
   ]
  },
  {
   "cell_type": "code",
   "execution_count": 19,
   "metadata": {},
   "outputs": [],
   "source": [
    "def adaptive_movement_threshold(prev_ccol, prev_crow, ccol, crow, prev_movement, allowed_change=5):\n",
    "    # movement\n",
    "    if prev_ccol != None and prev_crow!= None:\n",
    "        distance = np.linalg.norm([ccol - prev_ccol, crow - prev_crow])\n",
    "        print(distance)\n",
    "        \n",
    "        # if the center moves in the video, increase allowance\n",
    "        if distance > prev_movement:\n",
    "            allowed_change = min(distance, allowed_change * 2)\n",
    "        \n",
    "        # Allow movement if it is within the allowed range\n",
    "        if distance <= allowed_change:\n",
    "            return ccol, crow, distance\n",
    "        else:\n",
    "            # Reject large shifts\n",
    "            return prev_ccol, prev_crow, prev_movement\n",
    "    else:\n",
    "        return ccol,crow,prev_movement\n"
   ]
  },
  {
   "cell_type": "code",
   "execution_count": 20,
   "metadata": {},
   "outputs": [],
   "source": [
    "def get_center_from_minimums(minimums, current_center,min_depth=0.25):\n",
    "    # Filter minimums based on a minimum distance from the current center (to avoid noise)\n",
    "    valid_minimums = [minm for minm in minimums if np.abs(minm - current_center) >= 10]\n",
    "    left_minimums = np.array([minm for minm in valid_minimums if minm < current_center])\n",
    "    right_minimums = np.array([minm for minm in valid_minimums if minm > current_center])\n",
    "\n",
    "    # Ensure there are valid minimums on both sides of the current center\n",
    "    if len(left_minimums) == 0 or len(right_minimums) == 0:\n",
    "        return current_center, 0\n",
    "\n",
    "    # Take the second-to-last left minimum and second right minimum as references\n",
    "    left_minimum = left_minimums[-2]  # Adjust indexing as needed\n",
    "    right_minimum = right_minimums[1]  # Adjust indexing as needed\n",
    "\n",
    "    # Compute the refined center based on the left and right minimums\n",
    "    refined_center = (left_minimum + right_minimum) // 2\n",
    "    # print(f'current: {current_center}, left_minimum: {left_minimum}, right_minimum: {right_minimum}, refined center: {refined_center}')\n",
    "\n",
    "    # Compute the distance between the two reference minimums\n",
    "    distance_between_minimums = np.abs(right_minimum - left_minimum)\n",
    "\n",
    "    return refined_center, distance_between_minimums\n"
   ]
  },
  {
   "cell_type": "code",
   "execution_count": 21,
   "metadata": {},
   "outputs": [],
   "source": [
    "def draw_circle(image,ccol,crow,circle_radius):\n",
    "    cross_length=10\n",
    "\n",
    "    circle_img = cv2.circle(image.copy(), (ccol, crow), int(circle_radius), (255, 0, 0), 2)\n",
    "    cv2.line(circle_img,(ccol - cross_length, crow), (ccol + cross_length, crow), (255, 255, 255), 1)\n",
    "    cv2.line(circle_img, (ccol, crow - cross_length), (ccol, crow + cross_length), (255, 255, 255), 1)\n",
    "    \n",
    "    return circle_img"
   ]
  },
  {
   "cell_type": "markdown",
   "metadata": {},
   "source": [
    "## Image extraction and exploration"
   ]
  },
  {
   "cell_type": "code",
   "execution_count": 22,
   "metadata": {},
   "outputs": [],
   "source": [
    "def image_background_brightness(image):\n",
    "        top_left = image[0:5, 0:5]\n",
    "        top_right = image[0:5, -5:]\n",
    "        bottom_left = image[-5:, 0:5]\n",
    "        bottom_right = image[-5:, -5:]\n",
    "        brightness = np.concatenate((top_left.flatten(), top_right.flatten(), \n",
    "                                  bottom_left.flatten(), bottom_right.flatten()))\n",
    "        # brightness=top_left+top_right+bottom_left+bottom_right\n",
    "\n",
    "        return [np.mean(brightness),np.median(brightness),statistics.mode(brightness)]"
   ]
  },
  {
   "cell_type": "code",
   "execution_count": 23,
   "metadata": {},
   "outputs": [],
   "source": [
    "def tiff_to_png(input_tiff, input_path, output_path):\n",
    "    try:\n",
    "        sq = Image.open(os.path.join(input_path, input_tiff))\n",
    "        for i, img in enumerate(ImageSequence.Iterator(sq)):\n",
    "            output = os.path.join(output_path, f\"frame_{i:06d}.png\")\n",
    "            img.save(output)\n",
    "    finally:\n",
    "        # print(\"PNG extraction done\")\n",
    "        sq.close()"
   ]
  },
  {
   "cell_type": "code",
   "execution_count": 24,
   "metadata": {},
   "outputs": [],
   "source": [
    "def get_first_png(input_tiff, input_path):\n",
    "    try:\n",
    "        sq = Image.open(os.path.join(input_path, input_tiff))\n",
    "        first_frame = next(ImageSequence.Iterator(sq))\n",
    "        first_frame_np = np.array(first_frame)\n",
    "        if first_frame_np.ndim == 2:\n",
    "            return first_frame_np\n",
    "        else:\n",
    "            return cv2.cvtColor(first_frame_np, cv2.COLOR_RGB2GRAY)\n",
    "    finally:\n",
    "        # print(\"PNG extraction done\")\n",
    "        sq.close()"
   ]
  },
  {
   "cell_type": "code",
   "execution_count": 25,
   "metadata": {},
   "outputs": [],
   "source": [
    "def pad_image(image, target_size=(512, 512), padding_value=0):\n",
    "    old_height, old_width = image.shape\n",
    "\n",
    "    # Padding sizes\n",
    "    top_pad = (target_size[0] - old_height) // 2\n",
    "    bottom_pad = target_size[0] - old_height - top_pad\n",
    "    left_pad = (target_size[1] - old_width) // 2\n",
    "    right_pad = target_size[1] - old_width - left_pad\n",
    "\n",
    "    padded_image = np.pad(image, ((top_pad, bottom_pad), (left_pad, right_pad)), mode='constant', constant_values=padding_value)\n",
    "\n",
    "    return padded_image"
   ]
  },
  {
   "cell_type": "markdown",
   "metadata": {},
   "source": [
    "## circle cropping"
   ]
  },
  {
   "cell_type": "code",
   "execution_count": 31,
   "metadata": {},
   "outputs": [
    {
     "name": "stdout",
     "output_type": "stream",
     "text": [
      "frame_000000.png\n",
      "Results_Validation\\VideoLarge\\uncropped\\frame_000000.png\n",
      "frame_000001.png\n",
      "Results_Validation\\VideoLarge\\uncropped\\frame_000001.png\n",
      "frame_000002.png\n",
      "Results_Validation\\VideoLarge\\uncropped\\frame_000002.png\n",
      "frame_000003.png\n",
      "Results_Validation\\VideoLarge\\uncropped\\frame_000003.png\n",
      "frame_000004.png\n",
      "Results_Validation\\VideoLarge\\uncropped\\frame_000004.png\n",
      "frame_000005.png\n",
      "Results_Validation\\VideoLarge\\uncropped\\frame_000005.png\n",
      "frame_000006.png\n",
      "Results_Validation\\VideoLarge\\uncropped\\frame_000006.png\n",
      "frame_000007.png\n",
      "Results_Validation\\VideoLarge\\uncropped\\frame_000007.png\n",
      "frame_000008.png\n",
      "Results_Validation\\VideoLarge\\uncropped\\frame_000008.png\n",
      "frame_000009.png\n",
      "Results_Validation\\VideoLarge\\uncropped\\frame_000009.png\n",
      "frame_000010.png\n",
      "Results_Validation\\VideoLarge\\uncropped\\frame_000010.png\n",
      "frame_000011.png\n",
      "Results_Validation\\VideoLarge\\uncropped\\frame_000011.png\n",
      "frame_000012.png\n",
      "Results_Validation\\VideoLarge\\uncropped\\frame_000012.png\n",
      "frame_000013.png\n",
      "Results_Validation\\VideoLarge\\uncropped\\frame_000013.png\n",
      "frame_000014.png\n",
      "Results_Validation\\VideoLarge\\uncropped\\frame_000014.png\n",
      "frame_000015.png\n",
      "Results_Validation\\VideoLarge\\uncropped\\frame_000015.png\n",
      "frame_000016.png\n",
      "Results_Validation\\VideoLarge\\uncropped\\frame_000016.png\n",
      "frame_000017.png\n",
      "Results_Validation\\VideoLarge\\uncropped\\frame_000017.png\n",
      "frame_000018.png\n",
      "Results_Validation\\VideoLarge\\uncropped\\frame_000018.png\n",
      "frame_000019.png\n",
      "Results_Validation\\VideoLarge\\uncropped\\frame_000019.png\n",
      "frame_000020.png\n",
      "Results_Validation\\VideoLarge\\uncropped\\frame_000020.png\n",
      "frame_000021.png\n",
      "Results_Validation\\VideoLarge\\uncropped\\frame_000021.png\n",
      "frame_000022.png\n",
      "Results_Validation\\VideoLarge\\uncropped\\frame_000022.png\n",
      "frame_000023.png\n",
      "Results_Validation\\VideoLarge\\uncropped\\frame_000023.png\n",
      "frame_000024.png\n",
      "Results_Validation\\VideoLarge\\uncropped\\frame_000024.png\n",
      "frame_000025.png\n",
      "Results_Validation\\VideoLarge\\uncropped\\frame_000025.png\n",
      "frame_000026.png\n",
      "Results_Validation\\VideoLarge\\uncropped\\frame_000026.png\n"
     ]
    },
    {
     "ename": "KeyboardInterrupt",
     "evalue": "",
     "output_type": "error",
     "traceback": [
      "\u001b[1;31m---------------------------------------------------------------------------\u001b[0m",
      "\u001b[1;31mKeyboardInterrupt\u001b[0m                         Traceback (most recent call last)",
      "Cell \u001b[1;32mIn[31], line 32\u001b[0m\n\u001b[0;32m     30\u001b[0m     \u001b[38;5;28;01mdel\u001b[39;00m crop_1\n\u001b[0;32m     31\u001b[0m     \u001b[38;5;28;01mdel\u001b[39;00m crop_2\n\u001b[1;32m---> 32\u001b[0m     \u001b[43mgc\u001b[49m\u001b[38;5;241;43m.\u001b[39;49m\u001b[43mcollect\u001b[49m\u001b[43m(\u001b[49m\u001b[43m)\u001b[49m\n\u001b[0;32m     34\u001b[0m \u001b[38;5;28mprint\u001b[39m(\u001b[38;5;124m\"\u001b[39m\u001b[38;5;124mCropping completed.\u001b[39m\u001b[38;5;124m\"\u001b[39m)\n",
      "\u001b[1;31mKeyboardInterrupt\u001b[0m: "
     ]
    }
   ],
   "source": [
    "\n",
    "\n",
    "\n",
    "input_folder = r'Results_Validation\\VideoLarge'\n",
    "output_dir_1 = os.path.join(input_folder, 'cropped_object_1')\n",
    "output_dir_2 = os.path.join(input_folder, 'cropped_object_2')\n",
    "input_folder+='\\\\uncropped'\n",
    "os.makedirs(output_dir_1, exist_ok=True)\n",
    "os.makedirs(output_dir_2, exist_ok=True)\n",
    "\n",
    "object_1_center = (493, 216)\n",
    "object_2_center = (332, 730)\n",
    "crop_size = 250\n",
    "half_crop = crop_size // 2\n",
    "\n",
    "\n",
    "for filename in os.listdir(input_folder):\n",
    "    print(filename)\n",
    "    file_path = os.path.join(input_folder, filename)\n",
    "    image = cv2.imread(file_path, cv2.IMREAD_GRAYSCALE)\n",
    "\n",
    "    print (file_path)\n",
    "\n",
    "    x1, y1 = object_1_center\n",
    "    x2, y2 = object_2_center\n",
    "\n",
    "    crop_1 = image[y1 - half_crop:y1 + half_crop, x1 - half_crop:x1 + half_crop]\n",
    "    crop_2 = image[y2 - half_crop:y2 + half_crop, x2 - half_crop:x2 + half_crop]\n",
    "\n",
    "    cv2.imwrite(os.path.join(output_dir_1, f'{filename}_object1.png'), crop_1)\n",
    "    cv2.imwrite(os.path.join(output_dir_2, f'{filename}_object2.png'), crop_2)\n",
    "    del image\n",
    "    del crop_1\n",
    "    del crop_2\n",
    "    gc.collect()\n",
    "\n",
    "print(\"Cropping completed.\")\n"
   ]
  },
  {
   "cell_type": "markdown",
   "metadata": {},
   "source": [
    "## Post processing"
   ]
  },
  {
   "cell_type": "code",
   "execution_count": null,
   "metadata": {},
   "outputs": [],
   "source": [
    "def interpolation(data):\n",
    "    return(np.interp([i for i in range(1,len(data)*50)],xp=[i*50 for i in range(0,len(data))],fp=data))"
   ]
  },
  {
   "cell_type": "code",
   "execution_count": 15,
   "metadata": {},
   "outputs": [],
   "source": [
    "preProcData=pd.read_excel(f'Excels/VideoVideo1_37_1.xlsx')\n",
    "data=preProcData['center_y(ccol)']\n",
    "df = pd.DataFrame(columns=['center_y(ccol)'])\n",
    "df_append= pd.DataFrame(columns=['center_y(ccol)'])\n",
    "new_data={'center_y(ccol)':interpolation(data)}\n",
    "df = pd.concat([df, pd.DataFrame(interpolation(data))], ignore_index=True)\n",
    "df.to_excel('Csv.xlsx')"
   ]
  },
  {
   "cell_type": "code",
   "execution_count": null,
   "metadata": {},
   "outputs": [],
   "source": [
    "def post_processing(r_in,r_out,ring_index,allowed_change,input_path,input_tiff,output_base_path,interpolationP=True):\n",
    "    movement_threshold=70 #Sum of all center movements in a video\n",
    "    cross_length = 10 #Center cross\n",
    "\n",
    "    output_path = Path(output_base_path) / Path(input_tiff).stem\n",
    "    output_path.mkdir(parents=True, exist_ok=True)\n",
    "    test_number=input_tiff.split('.')[0]\n",
    "\n",
    "    result_folder = f\"Results_Validation_Interpolated_Median/{test_number}/\" + Path(input_tiff).stem + f\"_Results_bw{r_in}{r_out}_{ring_index}\"\n",
    "    Path(result_folder).mkdir(parents=True, exist_ok=True)\n",
    "\n",
    "    preProcData=pd.read_excel(f'Excels/Video{test_number}_{r_in}{r_out}_{ring_index}.xlsx')\n",
    "    if (interpolationP==True):\n",
    "        center_x_interpolated=interpolation(preProcData['center_x(crow)'])\n",
    "        center_y_interpolated=interpolation(preProcData['center_y(ccol)'])\n",
    "        circle_radius_interpolated=interpolation(preProcData['circle_radius'])\n",
    "        window=50\n",
    "\n",
    "        dfList=list(zip(center_x_interpolated,center_y_interpolated,circle_radius_interpolated))\n",
    "        preProcData=pd.DataFrame(dfList,columns=['center_x(crow)','center_y(ccol)','circle_radius'])\n",
    "    else:\n",
    "        window = 3\n",
    "\n",
    "    # calculating the sum of differences of the center (moving bead or stationary)\n",
    "    preProcData['diff_center_y'] = preProcData['center_y(ccol)'].diff().abs().fillna(0)\n",
    "    preProcData['diff_center_x'] = preProcData['center_x(crow)'].diff().abs().fillna(0)\n",
    "    # preProcData['total_movement'] = preProcData['diff_center_y'] + preProcData['diff_center_x']\n",
    "    totalMovement=0\n",
    "\n",
    "    for index, row in preProcData.iterrows():\n",
    "        totalMovement=totalMovement+row['diff_center_x']+row['diff_center_y']\n",
    "\n",
    "    preProcData['smooth_center_y(ccol)'] = preProcData['center_y(ccol)'].rolling(window=window).median()\n",
    "    preProcData['smooth_center_x(crow)'] = preProcData['center_x(crow)'].rolling(window=window).median()\n",
    "    preProcData['smooth_radius'] = preProcData['circle_radius'].rolling(window=window).median()  \n",
    "\n",
    "    # print(preProcData)\n",
    "\n",
    "    preProcData.fillna(method='bfill', inplace=True) # for the beginning\n",
    "    # .rolling(window=3)\n",
    "    df = pd.DataFrame(columns=['center_y(ccol)', 'center_x(crow)', 'circle_radius'])\n",
    "    # if(totalMovement<movement_threshold or totalMovement>movement_threshold):\n",
    "    print (totalMovement)\n",
    "    if(totalMovement<movement_threshold):\n",
    "        i = 0\n",
    "        for filename in os.listdir(output_path):\n",
    "            file_path = os.path.join(output_path, filename)\n",
    "            image = cv2.imread(file_path, cv2.IMREAD_GRAYSCALE)\n",
    "\n",
    "            ccol=int(preProcData['smooth_center_y(ccol)'][i])\n",
    "            crow=int(preProcData['smooth_center_x(crow)'][i])\n",
    "\n",
    "            movementNearFramesX=preProcData['diff_center_x'][i:i+100].sum()\n",
    "            movementNearFramesY=preProcData['diff_center_y'][i:i+100].sum()\n",
    "\n",
    "            if((movementNearFramesX+movementNearFramesY)>10):\n",
    "                ccol=int(preProcData['center_y(ccol)'][i])\n",
    "                crow=int(preProcData['center_x(crow)'][i])\n",
    "\n",
    "            circle_radius=int(preProcData['circle_radius'][i])\n",
    "\n",
    "            new_data={'center_y(ccol)':ccol,'center_x(crow)':crow,'circle_radius':circle_radius}\n",
    "            df = pd.concat([df, pd.DataFrame([new_data])], ignore_index=True)\n",
    "\n",
    "            circle_img=draw_circle(image,ccol,crow,circle_radius)\n",
    "            \n",
    "            plt.imshow(circle_img, cmap='gray', vmin=0, vmax=255)\n",
    "            plt.savefig(os.path.join(result_folder, f\"result_{filename}.png\"))\n",
    "            # plt.show()\n",
    "\n",
    "            i+=50\n",
    "    else:\n",
    "        i = 0\n",
    "        # print(os.listdir(output_path))\n",
    "        for filename in os.listdir(output_path):\n",
    "            # print(filename)\n",
    "            file_path = os.path.join(output_path, filename)\n",
    "            image = cv2.imread(file_path, cv2.IMREAD_GRAYSCALE)\n",
    "  \n",
    "            ccol=int(preProcData['center_y(ccol)'][i])\n",
    "            crow=int(preProcData['center_x(crow)'][i])\n",
    "            circle_radius=int(preProcData['circle_radius'][i])\n",
    "\n",
    "            new_data={'center_y(ccol)':ccol,'center_x(crow)':crow,'circle_radius':circle_radius}\n",
    "            df = pd.concat([df, pd.DataFrame([new_data])], ignore_index=True)\n",
    "\n",
    "            circle_img=draw_circle(image,ccol,crow,circle_radius)\n",
    "            \n",
    "            plt.imshow(circle_img, cmap='gray', vmin=0, vmax=255)\n",
    "            plt.savefig(os.path.join(result_folder, f\"result_{filename}\"))\n",
    "            # plt.show()\n",
    "            i+=50\n",
    "\n",
    "    df.to_excel(f\"Video{test_number}_{r_in}{r_out}_median.xlsx\")\n",
    "    # preProcData.to_excel(f\"Video{test_number}_{r_in}{r_out}_preproc.xlsx\")\n",
    "    del image\n",
    "    plt.close('all')\n",
    "    gc.collect()\n",
    "    \n",
    "\n",
    "\n",
    "    "
   ]
  },
  {
   "cell_type": "code",
   "execution_count": 17,
   "metadata": {},
   "outputs": [
    {
     "name": "stderr",
     "output_type": "stream",
     "text": [
      "C:\\Users\\Tautvydas\\AppData\\Local\\Temp\\ipykernel_14992\\2899681204.py:39: FutureWarning: DataFrame.fillna with 'method' is deprecated and will raise in a future version. Use obj.ffill() or obj.bfill() instead.\n",
      "  preProcData.fillna(method='bfill', inplace=True) # for the beginning\n"
     ]
    },
    {
     "name": "stdout",
     "output_type": "stream",
     "text": [
      "67.0\n"
     ]
    }
   ],
   "source": [
    "test=9\n",
    "input_path='Tiffs_Validation'\n",
    "input_tiff=f'Video{test}.tif'\n",
    "params={\n",
    "    'r_in':6,\n",
    "    'r_out':9,\n",
    "    'ring_index':2,\n",
    "    'allowed_change':1,\n",
    "    'input_path':input_path,\n",
    "    'input_tiff':input_tiff,\n",
    "    'output_base_path':f'Results_Validation/Video{test}'\n",
    "}\n",
    "post_processing(**params)"
   ]
  },
  {
   "cell_type": "code",
   "execution_count": 33,
   "metadata": {},
   "outputs": [],
   "source": [
    "def post_processing_mean(r_in,r_out,ring_index,allowed_change,input_path,input_tiff,output_base_path,interpolationP=True):\n",
    "    movement_threshold=70 #Sum of all center movements in a video\n",
    "    cross_length = 10 #Center cross\n",
    "\n",
    "    output_path = Path(output_base_path) / Path(input_tiff).stem\n",
    "    output_path.mkdir(parents=True, exist_ok=True)\n",
    "    test_number=input_tiff.split('.')[0]\n",
    "\n",
    "    result_folder = f\"Results_Validation_Interpolated_Mean/{test_number}/\" + Path(input_tiff).stem + f\"_Results_bw{r_in}{r_out}_{ring_index}\"\n",
    "    Path(result_folder).mkdir(parents=True, exist_ok=True)\n",
    "\n",
    "    preProcData=pd.read_excel(f'Excels/Video{test_number}_{r_in}{r_out}_{ring_index}.xlsx')\n",
    "    if (interpolationP==True):\n",
    "        center_x_interpolated=interpolation(preProcData['center_x(crow)'])\n",
    "        center_y_interpolated=interpolation(preProcData['center_y(ccol)'])\n",
    "        circle_radius_interpolated=interpolation(preProcData['circle_radius'])\n",
    "        window=50\n",
    "\n",
    "        dfList=list(zip(center_x_interpolated,center_y_interpolated,circle_radius_interpolated))\n",
    "        preProcData=pd.DataFrame(dfList,columns=['center_x(crow)','center_y(ccol)','circle_radius'])\n",
    "    else:\n",
    "        window = 3\n",
    "\n",
    "    # calculating the sum of differences of the center (moving bead or stationary)\n",
    "    preProcData['diff_center_y'] = preProcData['center_y(ccol)'].diff().abs().fillna(0)\n",
    "    preProcData['diff_center_x'] = preProcData['center_x(crow)'].diff().abs().fillna(0)\n",
    "    # preProcData['total_movement'] = preProcData['diff_center_y'] + preProcData['diff_center_x']\n",
    "    totalMovement=0\n",
    "\n",
    "    for index, row in preProcData.iterrows():\n",
    "        totalMovement=totalMovement+row['diff_center_x']+row['diff_center_y']\n",
    "\n",
    "    preProcData['smooth_center_y(ccol)'] = preProcData['center_y(ccol)'].rolling(window=window).mean()\n",
    "    preProcData['smooth_center_x(crow)'] = preProcData['center_x(crow)'].rolling(window=window).mean()\n",
    "    preProcData['smooth_radius'] = preProcData['circle_radius'].rolling(window=window).mean()  \n",
    "\n",
    "    # print(preProcData)\n",
    "\n",
    "    preProcData.fillna(method='bfill', inplace=True) # for the beginning\n",
    "    # .rolling(window=3)\n",
    "    df = pd.DataFrame(columns=['center_y(ccol)', 'center_x(crow)', 'circle_radius'])\n",
    "    # if(totalMovement<movement_threshold or totalMovement>movement_threshold):\n",
    "    print (totalMovement)\n",
    "    if(totalMovement<movement_threshold):\n",
    "        i = 0\n",
    "        for filename in os.listdir(output_path):\n",
    "            file_path = os.path.join(output_path, filename)\n",
    "            image = cv2.imread(file_path, cv2.IMREAD_GRAYSCALE)\n",
    "\n",
    "            ccol=int(preProcData['smooth_center_y(ccol)'][i])\n",
    "            crow=int(preProcData['smooth_center_x(crow)'][i])\n",
    "\n",
    "            movementNearFramesX=preProcData['diff_center_x'][i:i+100].sum()\n",
    "            movementNearFramesY=preProcData['diff_center_y'][i:i+100].sum()\n",
    "\n",
    "            if((movementNearFramesX+movementNearFramesY)>10):\n",
    "                ccol=int(preProcData['center_y(ccol)'][i])\n",
    "                crow=int(preProcData['center_x(crow)'][i])\n",
    "\n",
    "            circle_radius=int(preProcData['circle_radius'][i])\n",
    "\n",
    "            new_data={'center_y(ccol)':ccol,'center_x(crow)':crow,'circle_radius':circle_radius}\n",
    "            df = pd.concat([df, pd.DataFrame([new_data])], ignore_index=True)\n",
    "\n",
    "            circle_img=draw_circle(image,ccol,crow,circle_radius)\n",
    "            \n",
    "            plt.imshow(circle_img, cmap='gray', vmin=0, vmax=255)\n",
    "            plt.savefig(os.path.join(result_folder, f\"result_{filename}.png\"))\n",
    "            # plt.show()\n",
    "\n",
    "            i+=50\n",
    "    else:\n",
    "        i = 0\n",
    "        # print(os.listdir(output_path))\n",
    "        for filename in os.listdir(output_path):\n",
    "            # print(filename)\n",
    "            file_path = os.path.join(output_path, filename)\n",
    "            image = cv2.imread(file_path, cv2.IMREAD_GRAYSCALE)\n",
    "\n",
    "            # movementNearFramesX=preProcData['diff_center_x'][nearFrameStart:nearFrameEnd].sum()\n",
    "            # movementNearFramesY=preProcData['diff_center_y'][nearFrameStart:nearFrameEnd].sum()\n",
    "\n",
    "            # print(f'frameNo = {i}, x_movement near = {movementNearFramesX}, y_movement near = {movementNearFramesY}')\n",
    "\n",
    "            # if ((movementNearFramesX+movementNearFramesY)>20):    \n",
    "            ccol=int(preProcData['center_y(ccol)'][i])\n",
    "            crow=int(preProcData['center_x(crow)'][i])\n",
    "            circle_radius=int(preProcData['circle_radius'][i])\n",
    "\n",
    "            new_data={'center_y(ccol)':ccol,'center_x(crow)':crow,'circle_radius':circle_radius}\n",
    "            df = pd.concat([df, pd.DataFrame([new_data])], ignore_index=True)\n",
    "\n",
    "            # else:\n",
    "            #     ccol=int(preProcData['smooth_center_y(ccol)'][i])\n",
    "            #     crow=int(preProcData['smooth_center_x(crow)'][i])\n",
    "            #     circle_radius=int(preProcData['circle_radius'][i])\n",
    "\n",
    "            circle_img=draw_circle(image,ccol,crow,circle_radius)\n",
    "            \n",
    "            plt.imshow(circle_img, cmap='gray', vmin=0, vmax=255)\n",
    "            plt.savefig(os.path.join(result_folder, f\"result_{filename}\"))\n",
    "            # plt.show()\n",
    "            i+=50\n",
    "\n",
    "    df.to_excel(f\"Video{test_number}_{r_in}{r_out}_mean.xlsx\")\n",
    "    # preProcData.to_excel(f\"Video{test_number}_{r_in}{r_out}_preproc.xlsx\")\n",
    "    del image\n",
    "    plt.close('all')\n",
    "    gc.collect()\n",
    "    \n",
    "\n",
    "\n",
    "    "
   ]
  },
  {
   "cell_type": "code",
   "execution_count": null,
   "metadata": {},
   "outputs": [],
   "source": []
  },
  {
   "cell_type": "code",
   "execution_count": 35,
   "metadata": {},
   "outputs": [
    {
     "name": "stderr",
     "output_type": "stream",
     "text": [
      "C:\\Users\\Tautvydas\\AppData\\Local\\Temp\\ipykernel_137156\\477956008.py:39: FutureWarning: DataFrame.fillna with 'method' is deprecated and will raise in a future version. Use obj.ffill() or obj.bfill() instead.\n",
      "  preProcData.fillna(method='bfill', inplace=True) # for the beginning\n"
     ]
    },
    {
     "name": "stdout",
     "output_type": "stream",
     "text": [
      "108.92000000000002\n"
     ]
    },
    {
     "name": "stderr",
     "output_type": "stream",
     "text": [
      "C:\\Users\\Tautvydas\\AppData\\Local\\Temp\\ipykernel_137156\\403102649.py:39: FutureWarning: DataFrame.fillna with 'method' is deprecated and will raise in a future version. Use obj.ffill() or obj.bfill() instead.\n",
      "  preProcData.fillna(method='bfill', inplace=True) # for the beginning\n"
     ]
    },
    {
     "name": "stdout",
     "output_type": "stream",
     "text": [
      "108.92000000000002\n"
     ]
    },
    {
     "name": "stderr",
     "output_type": "stream",
     "text": [
      "C:\\Users\\Tautvydas\\AppData\\Local\\Temp\\ipykernel_137156\\477956008.py:39: FutureWarning: DataFrame.fillna with 'method' is deprecated and will raise in a future version. Use obj.ffill() or obj.bfill() instead.\n",
      "  preProcData.fillna(method='bfill', inplace=True) # for the beginning\n"
     ]
    },
    {
     "name": "stdout",
     "output_type": "stream",
     "text": [
      "27.979999999999997\n"
     ]
    },
    {
     "name": "stderr",
     "output_type": "stream",
     "text": [
      "C:\\Users\\Tautvydas\\AppData\\Local\\Temp\\ipykernel_137156\\403102649.py:39: FutureWarning: DataFrame.fillna with 'method' is deprecated and will raise in a future version. Use obj.ffill() or obj.bfill() instead.\n",
      "  preProcData.fillna(method='bfill', inplace=True) # for the beginning\n"
     ]
    },
    {
     "name": "stdout",
     "output_type": "stream",
     "text": [
      "27.979999999999997\n"
     ]
    },
    {
     "name": "stderr",
     "output_type": "stream",
     "text": [
      "C:\\Users\\Tautvydas\\AppData\\Local\\Temp\\ipykernel_137156\\477956008.py:39: FutureWarning: DataFrame.fillna with 'method' is deprecated and will raise in a future version. Use obj.ffill() or obj.bfill() instead.\n",
      "  preProcData.fillna(method='bfill', inplace=True) # for the beginning\n"
     ]
    },
    {
     "name": "stdout",
     "output_type": "stream",
     "text": [
      "7.0\n"
     ]
    },
    {
     "name": "stderr",
     "output_type": "stream",
     "text": [
      "C:\\Users\\Tautvydas\\AppData\\Local\\Temp\\ipykernel_137156\\403102649.py:39: FutureWarning: DataFrame.fillna with 'method' is deprecated and will raise in a future version. Use obj.ffill() or obj.bfill() instead.\n",
      "  preProcData.fillna(method='bfill', inplace=True) # for the beginning\n"
     ]
    },
    {
     "name": "stdout",
     "output_type": "stream",
     "text": [
      "7.0\n"
     ]
    },
    {
     "name": "stderr",
     "output_type": "stream",
     "text": [
      "C:\\Users\\Tautvydas\\AppData\\Local\\Temp\\ipykernel_137156\\477956008.py:39: FutureWarning: DataFrame.fillna with 'method' is deprecated and will raise in a future version. Use obj.ffill() or obj.bfill() instead.\n",
      "  preProcData.fillna(method='bfill', inplace=True) # for the beginning\n"
     ]
    },
    {
     "name": "stdout",
     "output_type": "stream",
     "text": [
      "20.0\n"
     ]
    },
    {
     "name": "stderr",
     "output_type": "stream",
     "text": [
      "C:\\Users\\Tautvydas\\AppData\\Local\\Temp\\ipykernel_137156\\403102649.py:39: FutureWarning: DataFrame.fillna with 'method' is deprecated and will raise in a future version. Use obj.ffill() or obj.bfill() instead.\n",
      "  preProcData.fillna(method='bfill', inplace=True) # for the beginning\n"
     ]
    },
    {
     "name": "stdout",
     "output_type": "stream",
     "text": [
      "20.0\n"
     ]
    },
    {
     "name": "stderr",
     "output_type": "stream",
     "text": [
      "C:\\Users\\Tautvydas\\AppData\\Local\\Temp\\ipykernel_137156\\477956008.py:39: FutureWarning: DataFrame.fillna with 'method' is deprecated and will raise in a future version. Use obj.ffill() or obj.bfill() instead.\n",
      "  preProcData.fillna(method='bfill', inplace=True) # for the beginning\n"
     ]
    },
    {
     "name": "stdout",
     "output_type": "stream",
     "text": [
      "8.0\n"
     ]
    },
    {
     "name": "stderr",
     "output_type": "stream",
     "text": [
      "C:\\Users\\Tautvydas\\AppData\\Local\\Temp\\ipykernel_137156\\403102649.py:39: FutureWarning: DataFrame.fillna with 'method' is deprecated and will raise in a future version. Use obj.ffill() or obj.bfill() instead.\n",
      "  preProcData.fillna(method='bfill', inplace=True) # for the beginning\n"
     ]
    },
    {
     "name": "stdout",
     "output_type": "stream",
     "text": [
      "8.0\n"
     ]
    },
    {
     "name": "stderr",
     "output_type": "stream",
     "text": [
      "C:\\Users\\Tautvydas\\AppData\\Local\\Temp\\ipykernel_137156\\477956008.py:39: FutureWarning: DataFrame.fillna with 'method' is deprecated and will raise in a future version. Use obj.ffill() or obj.bfill() instead.\n",
      "  preProcData.fillna(method='bfill', inplace=True) # for the beginning\n"
     ]
    },
    {
     "name": "stdout",
     "output_type": "stream",
     "text": [
      "18.0\n"
     ]
    },
    {
     "name": "stderr",
     "output_type": "stream",
     "text": [
      "C:\\Users\\Tautvydas\\AppData\\Local\\Temp\\ipykernel_137156\\403102649.py:39: FutureWarning: DataFrame.fillna with 'method' is deprecated and will raise in a future version. Use obj.ffill() or obj.bfill() instead.\n",
      "  preProcData.fillna(method='bfill', inplace=True) # for the beginning\n"
     ]
    },
    {
     "name": "stdout",
     "output_type": "stream",
     "text": [
      "18.0\n"
     ]
    },
    {
     "name": "stderr",
     "output_type": "stream",
     "text": [
      "C:\\Users\\Tautvydas\\AppData\\Local\\Temp\\ipykernel_137156\\477956008.py:39: FutureWarning: DataFrame.fillna with 'method' is deprecated and will raise in a future version. Use obj.ffill() or obj.bfill() instead.\n",
      "  preProcData.fillna(method='bfill', inplace=True) # for the beginning\n"
     ]
    },
    {
     "name": "stdout",
     "output_type": "stream",
     "text": [
      "34.97999999999999\n"
     ]
    },
    {
     "name": "stderr",
     "output_type": "stream",
     "text": [
      "C:\\Users\\Tautvydas\\AppData\\Local\\Temp\\ipykernel_137156\\403102649.py:39: FutureWarning: DataFrame.fillna with 'method' is deprecated and will raise in a future version. Use obj.ffill() or obj.bfill() instead.\n",
      "  preProcData.fillna(method='bfill', inplace=True) # for the beginning\n"
     ]
    },
    {
     "name": "stdout",
     "output_type": "stream",
     "text": [
      "34.97999999999999\n"
     ]
    },
    {
     "name": "stderr",
     "output_type": "stream",
     "text": [
      "C:\\Users\\Tautvydas\\AppData\\Local\\Temp\\ipykernel_137156\\477956008.py:39: FutureWarning: DataFrame.fillna with 'method' is deprecated and will raise in a future version. Use obj.ffill() or obj.bfill() instead.\n",
      "  preProcData.fillna(method='bfill', inplace=True) # for the beginning\n"
     ]
    },
    {
     "name": "stdout",
     "output_type": "stream",
     "text": [
      "167.9799999999995\n"
     ]
    },
    {
     "name": "stderr",
     "output_type": "stream",
     "text": [
      "C:\\Users\\Tautvydas\\AppData\\Local\\Temp\\ipykernel_137156\\403102649.py:39: FutureWarning: DataFrame.fillna with 'method' is deprecated and will raise in a future version. Use obj.ffill() or obj.bfill() instead.\n",
      "  preProcData.fillna(method='bfill', inplace=True) # for the beginning\n"
     ]
    },
    {
     "name": "stdout",
     "output_type": "stream",
     "text": [
      "167.9799999999995\n"
     ]
    },
    {
     "name": "stderr",
     "output_type": "stream",
     "text": [
      "C:\\Users\\Tautvydas\\AppData\\Local\\Temp\\ipykernel_137156\\477956008.py:39: FutureWarning: DataFrame.fillna with 'method' is deprecated and will raise in a future version. Use obj.ffill() or obj.bfill() instead.\n",
      "  preProcData.fillna(method='bfill', inplace=True) # for the beginning\n"
     ]
    },
    {
     "name": "stdout",
     "output_type": "stream",
     "text": [
      "125.00000000000003\n"
     ]
    },
    {
     "name": "stderr",
     "output_type": "stream",
     "text": [
      "C:\\Users\\Tautvydas\\AppData\\Local\\Temp\\ipykernel_137156\\403102649.py:39: FutureWarning: DataFrame.fillna with 'method' is deprecated and will raise in a future version. Use obj.ffill() or obj.bfill() instead.\n",
      "  preProcData.fillna(method='bfill', inplace=True) # for the beginning\n"
     ]
    },
    {
     "name": "stdout",
     "output_type": "stream",
     "text": [
      "125.00000000000003\n"
     ]
    },
    {
     "name": "stderr",
     "output_type": "stream",
     "text": [
      "C:\\Users\\Tautvydas\\AppData\\Local\\Temp\\ipykernel_137156\\477956008.py:39: FutureWarning: DataFrame.fillna with 'method' is deprecated and will raise in a future version. Use obj.ffill() or obj.bfill() instead.\n",
      "  preProcData.fillna(method='bfill', inplace=True) # for the beginning\n"
     ]
    },
    {
     "name": "stdout",
     "output_type": "stream",
     "text": [
      "90.95999999999998\n"
     ]
    },
    {
     "name": "stderr",
     "output_type": "stream",
     "text": [
      "C:\\Users\\Tautvydas\\AppData\\Local\\Temp\\ipykernel_137156\\403102649.py:39: FutureWarning: DataFrame.fillna with 'method' is deprecated and will raise in a future version. Use obj.ffill() or obj.bfill() instead.\n",
      "  preProcData.fillna(method='bfill', inplace=True) # for the beginning\n"
     ]
    },
    {
     "name": "stdout",
     "output_type": "stream",
     "text": [
      "90.95999999999998\n"
     ]
    },
    {
     "name": "stderr",
     "output_type": "stream",
     "text": [
      "C:\\Users\\Tautvydas\\AppData\\Local\\Temp\\ipykernel_137156\\477956008.py:39: FutureWarning: DataFrame.fillna with 'method' is deprecated and will raise in a future version. Use obj.ffill() or obj.bfill() instead.\n",
      "  preProcData.fillna(method='bfill', inplace=True) # for the beginning\n"
     ]
    },
    {
     "name": "stdout",
     "output_type": "stream",
     "text": [
      "110.92000000000002\n"
     ]
    },
    {
     "name": "stderr",
     "output_type": "stream",
     "text": [
      "C:\\Users\\Tautvydas\\AppData\\Local\\Temp\\ipykernel_137156\\403102649.py:39: FutureWarning: DataFrame.fillna with 'method' is deprecated and will raise in a future version. Use obj.ffill() or obj.bfill() instead.\n",
      "  preProcData.fillna(method='bfill', inplace=True) # for the beginning\n"
     ]
    },
    {
     "name": "stdout",
     "output_type": "stream",
     "text": [
      "110.92000000000002\n"
     ]
    },
    {
     "name": "stderr",
     "output_type": "stream",
     "text": [
      "C:\\Users\\Tautvydas\\AppData\\Local\\Temp\\ipykernel_137156\\477956008.py:39: FutureWarning: DataFrame.fillna with 'method' is deprecated and will raise in a future version. Use obj.ffill() or obj.bfill() instead.\n",
      "  preProcData.fillna(method='bfill', inplace=True) # for the beginning\n"
     ]
    },
    {
     "name": "stdout",
     "output_type": "stream",
     "text": [
      "135.0000000000001\n"
     ]
    },
    {
     "name": "stderr",
     "output_type": "stream",
     "text": [
      "C:\\Users\\Tautvydas\\AppData\\Local\\Temp\\ipykernel_137156\\403102649.py:39: FutureWarning: DataFrame.fillna with 'method' is deprecated and will raise in a future version. Use obj.ffill() or obj.bfill() instead.\n",
      "  preProcData.fillna(method='bfill', inplace=True) # for the beginning\n"
     ]
    },
    {
     "name": "stdout",
     "output_type": "stream",
     "text": [
      "135.0000000000001\n"
     ]
    },
    {
     "name": "stderr",
     "output_type": "stream",
     "text": [
      "C:\\Users\\Tautvydas\\AppData\\Local\\Temp\\ipykernel_137156\\477956008.py:39: FutureWarning: DataFrame.fillna with 'method' is deprecated and will raise in a future version. Use obj.ffill() or obj.bfill() instead.\n",
      "  preProcData.fillna(method='bfill', inplace=True) # for the beginning\n"
     ]
    },
    {
     "name": "stdout",
     "output_type": "stream",
     "text": [
      "36.0\n"
     ]
    },
    {
     "name": "stderr",
     "output_type": "stream",
     "text": [
      "C:\\Users\\Tautvydas\\AppData\\Local\\Temp\\ipykernel_137156\\403102649.py:39: FutureWarning: DataFrame.fillna with 'method' is deprecated and will raise in a future version. Use obj.ffill() or obj.bfill() instead.\n",
      "  preProcData.fillna(method='bfill', inplace=True) # for the beginning\n"
     ]
    },
    {
     "name": "stdout",
     "output_type": "stream",
     "text": [
      "36.0\n"
     ]
    },
    {
     "name": "stderr",
     "output_type": "stream",
     "text": [
      "C:\\Users\\Tautvydas\\AppData\\Local\\Temp\\ipykernel_137156\\477956008.py:39: FutureWarning: DataFrame.fillna with 'method' is deprecated and will raise in a future version. Use obj.ffill() or obj.bfill() instead.\n",
      "  preProcData.fillna(method='bfill', inplace=True) # for the beginning\n"
     ]
    },
    {
     "name": "stdout",
     "output_type": "stream",
     "text": [
      "10.980000000000004\n"
     ]
    },
    {
     "name": "stderr",
     "output_type": "stream",
     "text": [
      "C:\\Users\\Tautvydas\\AppData\\Local\\Temp\\ipykernel_137156\\403102649.py:39: FutureWarning: DataFrame.fillna with 'method' is deprecated and will raise in a future version. Use obj.ffill() or obj.bfill() instead.\n",
      "  preProcData.fillna(method='bfill', inplace=True) # for the beginning\n"
     ]
    },
    {
     "name": "stdout",
     "output_type": "stream",
     "text": [
      "10.980000000000004\n"
     ]
    },
    {
     "name": "stderr",
     "output_type": "stream",
     "text": [
      "C:\\Users\\Tautvydas\\AppData\\Local\\Temp\\ipykernel_137156\\477956008.py:39: FutureWarning: DataFrame.fillna with 'method' is deprecated and will raise in a future version. Use obj.ffill() or obj.bfill() instead.\n",
      "  preProcData.fillna(method='bfill', inplace=True) # for the beginning\n"
     ]
    },
    {
     "name": "stdout",
     "output_type": "stream",
     "text": [
      "6.980000000000004\n"
     ]
    },
    {
     "name": "stderr",
     "output_type": "stream",
     "text": [
      "C:\\Users\\Tautvydas\\AppData\\Local\\Temp\\ipykernel_137156\\403102649.py:39: FutureWarning: DataFrame.fillna with 'method' is deprecated and will raise in a future version. Use obj.ffill() or obj.bfill() instead.\n",
      "  preProcData.fillna(method='bfill', inplace=True) # for the beginning\n"
     ]
    },
    {
     "name": "stdout",
     "output_type": "stream",
     "text": [
      "6.980000000000004\n"
     ]
    },
    {
     "name": "stderr",
     "output_type": "stream",
     "text": [
      "C:\\Users\\Tautvydas\\AppData\\Local\\Temp\\ipykernel_137156\\477956008.py:39: FutureWarning: DataFrame.fillna with 'method' is deprecated and will raise in a future version. Use obj.ffill() or obj.bfill() instead.\n",
      "  preProcData.fillna(method='bfill', inplace=True) # for the beginning\n"
     ]
    },
    {
     "name": "stdout",
     "output_type": "stream",
     "text": [
      "34.97999999999999\n"
     ]
    },
    {
     "name": "stderr",
     "output_type": "stream",
     "text": [
      "C:\\Users\\Tautvydas\\AppData\\Local\\Temp\\ipykernel_137156\\403102649.py:39: FutureWarning: DataFrame.fillna with 'method' is deprecated and will raise in a future version. Use obj.ffill() or obj.bfill() instead.\n",
      "  preProcData.fillna(method='bfill', inplace=True) # for the beginning\n"
     ]
    },
    {
     "name": "stdout",
     "output_type": "stream",
     "text": [
      "34.97999999999999\n"
     ]
    },
    {
     "name": "stderr",
     "output_type": "stream",
     "text": [
      "C:\\Users\\Tautvydas\\AppData\\Local\\Temp\\ipykernel_137156\\477956008.py:39: FutureWarning: DataFrame.fillna with 'method' is deprecated and will raise in a future version. Use obj.ffill() or obj.bfill() instead.\n",
      "  preProcData.fillna(method='bfill', inplace=True) # for the beginning\n"
     ]
    },
    {
     "name": "stdout",
     "output_type": "stream",
     "text": [
      "24.0\n"
     ]
    },
    {
     "name": "stderr",
     "output_type": "stream",
     "text": [
      "C:\\Users\\Tautvydas\\AppData\\Local\\Temp\\ipykernel_137156\\403102649.py:39: FutureWarning: DataFrame.fillna with 'method' is deprecated and will raise in a future version. Use obj.ffill() or obj.bfill() instead.\n",
      "  preProcData.fillna(method='bfill', inplace=True) # for the beginning\n"
     ]
    },
    {
     "name": "stdout",
     "output_type": "stream",
     "text": [
      "24.0\n"
     ]
    },
    {
     "name": "stderr",
     "output_type": "stream",
     "text": [
      "C:\\Users\\Tautvydas\\AppData\\Local\\Temp\\ipykernel_137156\\477956008.py:39: FutureWarning: DataFrame.fillna with 'method' is deprecated and will raise in a future version. Use obj.ffill() or obj.bfill() instead.\n",
      "  preProcData.fillna(method='bfill', inplace=True) # for the beginning\n"
     ]
    },
    {
     "name": "stdout",
     "output_type": "stream",
     "text": [
      "152.9999999999999\n"
     ]
    },
    {
     "name": "stderr",
     "output_type": "stream",
     "text": [
      "C:\\Users\\Tautvydas\\AppData\\Local\\Temp\\ipykernel_137156\\403102649.py:39: FutureWarning: DataFrame.fillna with 'method' is deprecated and will raise in a future version. Use obj.ffill() or obj.bfill() instead.\n",
      "  preProcData.fillna(method='bfill', inplace=True) # for the beginning\n"
     ]
    },
    {
     "name": "stdout",
     "output_type": "stream",
     "text": [
      "152.9999999999999\n"
     ]
    },
    {
     "name": "stderr",
     "output_type": "stream",
     "text": [
      "C:\\Users\\Tautvydas\\AppData\\Local\\Temp\\ipykernel_137156\\477956008.py:39: FutureWarning: DataFrame.fillna with 'method' is deprecated and will raise in a future version. Use obj.ffill() or obj.bfill() instead.\n",
      "  preProcData.fillna(method='bfill', inplace=True) # for the beginning\n"
     ]
    },
    {
     "name": "stdout",
     "output_type": "stream",
     "text": [
      "51.980000000000004\n"
     ]
    },
    {
     "name": "stderr",
     "output_type": "stream",
     "text": [
      "C:\\Users\\Tautvydas\\AppData\\Local\\Temp\\ipykernel_137156\\403102649.py:39: FutureWarning: DataFrame.fillna with 'method' is deprecated and will raise in a future version. Use obj.ffill() or obj.bfill() instead.\n",
      "  preProcData.fillna(method='bfill', inplace=True) # for the beginning\n"
     ]
    },
    {
     "name": "stdout",
     "output_type": "stream",
     "text": [
      "51.980000000000004\n"
     ]
    },
    {
     "name": "stderr",
     "output_type": "stream",
     "text": [
      "C:\\Users\\Tautvydas\\AppData\\Local\\Temp\\ipykernel_137156\\477956008.py:39: FutureWarning: DataFrame.fillna with 'method' is deprecated and will raise in a future version. Use obj.ffill() or obj.bfill() instead.\n",
      "  preProcData.fillna(method='bfill', inplace=True) # for the beginning\n"
     ]
    },
    {
     "name": "stdout",
     "output_type": "stream",
     "text": [
      "164.97999999999848\n"
     ]
    },
    {
     "name": "stderr",
     "output_type": "stream",
     "text": [
      "C:\\Users\\Tautvydas\\AppData\\Local\\Temp\\ipykernel_137156\\403102649.py:39: FutureWarning: DataFrame.fillna with 'method' is deprecated and will raise in a future version. Use obj.ffill() or obj.bfill() instead.\n",
      "  preProcData.fillna(method='bfill', inplace=True) # for the beginning\n"
     ]
    },
    {
     "name": "stdout",
     "output_type": "stream",
     "text": [
      "164.97999999999848\n"
     ]
    },
    {
     "name": "stderr",
     "output_type": "stream",
     "text": [
      "C:\\Users\\Tautvydas\\AppData\\Local\\Temp\\ipykernel_137156\\477956008.py:39: FutureWarning: DataFrame.fillna with 'method' is deprecated and will raise in a future version. Use obj.ffill() or obj.bfill() instead.\n",
      "  preProcData.fillna(method='bfill', inplace=True) # for the beginning\n"
     ]
    },
    {
     "name": "stdout",
     "output_type": "stream",
     "text": [
      "60.920000000000016\n",
      "1250\n",
      "{'r_in': 3, 'r_out': 9, 'ring_index': 1, 'allowed_change': 1, 'input_path': 'Tiffs_Validation', 'input_tiff': 'Video1.tif', 'output_base_path': 'Results_Validation/Video1'}\n",
      "119.00000000000003\n"
     ]
    },
    {
     "name": "stderr",
     "output_type": "stream",
     "text": [
      "C:\\Users\\Tautvydas\\AppData\\Local\\Temp\\ipykernel_137156\\477956008.py:39: FutureWarning: DataFrame.fillna with 'method' is deprecated and will raise in a future version. Use obj.ffill() or obj.bfill() instead.\n",
      "  preProcData.fillna(method='bfill', inplace=True) # for the beginning\n",
      "C:\\Users\\Tautvydas\\AppData\\Local\\Temp\\ipykernel_137156\\403102649.py:39: FutureWarning: DataFrame.fillna with 'method' is deprecated and will raise in a future version. Use obj.ffill() or obj.bfill() instead.\n",
      "  preProcData.fillna(method='bfill', inplace=True) # for the beginning\n"
     ]
    },
    {
     "name": "stdout",
     "output_type": "stream",
     "text": [
      "119.00000000000003\n"
     ]
    },
    {
     "name": "stderr",
     "output_type": "stream",
     "text": [
      "C:\\Users\\Tautvydas\\AppData\\Local\\Temp\\ipykernel_137156\\477956008.py:39: FutureWarning: DataFrame.fillna with 'method' is deprecated and will raise in a future version. Use obj.ffill() or obj.bfill() instead.\n",
      "  preProcData.fillna(method='bfill', inplace=True) # for the beginning\n"
     ]
    },
    {
     "name": "stdout",
     "output_type": "stream",
     "text": [
      "58.0\n"
     ]
    },
    {
     "name": "stderr",
     "output_type": "stream",
     "text": [
      "C:\\Users\\Tautvydas\\AppData\\Local\\Temp\\ipykernel_137156\\403102649.py:39: FutureWarning: DataFrame.fillna with 'method' is deprecated and will raise in a future version. Use obj.ffill() or obj.bfill() instead.\n",
      "  preProcData.fillna(method='bfill', inplace=True) # for the beginning\n"
     ]
    },
    {
     "name": "stdout",
     "output_type": "stream",
     "text": [
      "58.0\n"
     ]
    },
    {
     "name": "stderr",
     "output_type": "stream",
     "text": [
      "C:\\Users\\Tautvydas\\AppData\\Local\\Temp\\ipykernel_137156\\477956008.py:39: FutureWarning: DataFrame.fillna with 'method' is deprecated and will raise in a future version. Use obj.ffill() or obj.bfill() instead.\n",
      "  preProcData.fillna(method='bfill', inplace=True) # for the beginning\n"
     ]
    },
    {
     "name": "stdout",
     "output_type": "stream",
     "text": [
      "21.980000000000004\n"
     ]
    },
    {
     "name": "stderr",
     "output_type": "stream",
     "text": [
      "C:\\Users\\Tautvydas\\AppData\\Local\\Temp\\ipykernel_137156\\403102649.py:39: FutureWarning: DataFrame.fillna with 'method' is deprecated and will raise in a future version. Use obj.ffill() or obj.bfill() instead.\n",
      "  preProcData.fillna(method='bfill', inplace=True) # for the beginning\n"
     ]
    },
    {
     "name": "stdout",
     "output_type": "stream",
     "text": [
      "21.980000000000004\n"
     ]
    },
    {
     "name": "stderr",
     "output_type": "stream",
     "text": [
      "C:\\Users\\Tautvydas\\AppData\\Local\\Temp\\ipykernel_137156\\477956008.py:39: FutureWarning: DataFrame.fillna with 'method' is deprecated and will raise in a future version. Use obj.ffill() or obj.bfill() instead.\n",
      "  preProcData.fillna(method='bfill', inplace=True) # for the beginning\n"
     ]
    },
    {
     "name": "stdout",
     "output_type": "stream",
     "text": [
      "25.0\n"
     ]
    },
    {
     "name": "stderr",
     "output_type": "stream",
     "text": [
      "C:\\Users\\Tautvydas\\AppData\\Local\\Temp\\ipykernel_137156\\403102649.py:39: FutureWarning: DataFrame.fillna with 'method' is deprecated and will raise in a future version. Use obj.ffill() or obj.bfill() instead.\n",
      "  preProcData.fillna(method='bfill', inplace=True) # for the beginning\n"
     ]
    },
    {
     "name": "stdout",
     "output_type": "stream",
     "text": [
      "25.0\n"
     ]
    },
    {
     "name": "stderr",
     "output_type": "stream",
     "text": [
      "C:\\Users\\Tautvydas\\AppData\\Local\\Temp\\ipykernel_137156\\477956008.py:39: FutureWarning: DataFrame.fillna with 'method' is deprecated and will raise in a future version. Use obj.ffill() or obj.bfill() instead.\n",
      "  preProcData.fillna(method='bfill', inplace=True) # for the beginning\n"
     ]
    },
    {
     "name": "stdout",
     "output_type": "stream",
     "text": [
      "99.0\n"
     ]
    },
    {
     "name": "stderr",
     "output_type": "stream",
     "text": [
      "C:\\Users\\Tautvydas\\AppData\\Local\\Temp\\ipykernel_137156\\403102649.py:39: FutureWarning: DataFrame.fillna with 'method' is deprecated and will raise in a future version. Use obj.ffill() or obj.bfill() instead.\n",
      "  preProcData.fillna(method='bfill', inplace=True) # for the beginning\n"
     ]
    },
    {
     "name": "stdout",
     "output_type": "stream",
     "text": [
      "99.0\n"
     ]
    },
    {
     "name": "stderr",
     "output_type": "stream",
     "text": [
      "C:\\Users\\Tautvydas\\AppData\\Local\\Temp\\ipykernel_137156\\477956008.py:39: FutureWarning: DataFrame.fillna with 'method' is deprecated and will raise in a future version. Use obj.ffill() or obj.bfill() instead.\n",
      "  preProcData.fillna(method='bfill', inplace=True) # for the beginning\n"
     ]
    },
    {
     "name": "stdout",
     "output_type": "stream",
     "text": [
      "30.97999999999999\n"
     ]
    },
    {
     "name": "stderr",
     "output_type": "stream",
     "text": [
      "C:\\Users\\Tautvydas\\AppData\\Local\\Temp\\ipykernel_137156\\403102649.py:39: FutureWarning: DataFrame.fillna with 'method' is deprecated and will raise in a future version. Use obj.ffill() or obj.bfill() instead.\n",
      "  preProcData.fillna(method='bfill', inplace=True) # for the beginning\n"
     ]
    },
    {
     "name": "stdout",
     "output_type": "stream",
     "text": [
      "30.97999999999999\n"
     ]
    },
    {
     "name": "stderr",
     "output_type": "stream",
     "text": [
      "C:\\Users\\Tautvydas\\AppData\\Local\\Temp\\ipykernel_137156\\477956008.py:39: FutureWarning: DataFrame.fillna with 'method' is deprecated and will raise in a future version. Use obj.ffill() or obj.bfill() instead.\n",
      "  preProcData.fillna(method='bfill', inplace=True) # for the beginning\n"
     ]
    },
    {
     "name": "stdout",
     "output_type": "stream",
     "text": [
      "312.0000000000011\n"
     ]
    },
    {
     "name": "stderr",
     "output_type": "stream",
     "text": [
      "C:\\Users\\Tautvydas\\AppData\\Local\\Temp\\ipykernel_137156\\403102649.py:39: FutureWarning: DataFrame.fillna with 'method' is deprecated and will raise in a future version. Use obj.ffill() or obj.bfill() instead.\n",
      "  preProcData.fillna(method='bfill', inplace=True) # for the beginning\n"
     ]
    },
    {
     "name": "stdout",
     "output_type": "stream",
     "text": [
      "312.0000000000011\n"
     ]
    },
    {
     "name": "stderr",
     "output_type": "stream",
     "text": [
      "C:\\Users\\Tautvydas\\AppData\\Local\\Temp\\ipykernel_137156\\477956008.py:39: FutureWarning: DataFrame.fillna with 'method' is deprecated and will raise in a future version. Use obj.ffill() or obj.bfill() instead.\n",
      "  preProcData.fillna(method='bfill', inplace=True) # for the beginning\n"
     ]
    },
    {
     "name": "stdout",
     "output_type": "stream",
     "text": [
      "220.97999999999564\n"
     ]
    },
    {
     "name": "stderr",
     "output_type": "stream",
     "text": [
      "C:\\Users\\Tautvydas\\AppData\\Local\\Temp\\ipykernel_137156\\403102649.py:39: FutureWarning: DataFrame.fillna with 'method' is deprecated and will raise in a future version. Use obj.ffill() or obj.bfill() instead.\n",
      "  preProcData.fillna(method='bfill', inplace=True) # for the beginning\n"
     ]
    },
    {
     "name": "stdout",
     "output_type": "stream",
     "text": [
      "220.97999999999564\n"
     ]
    },
    {
     "name": "stderr",
     "output_type": "stream",
     "text": [
      "C:\\Users\\Tautvydas\\AppData\\Local\\Temp\\ipykernel_137156\\477956008.py:39: FutureWarning: DataFrame.fillna with 'method' is deprecated and will raise in a future version. Use obj.ffill() or obj.bfill() instead.\n",
      "  preProcData.fillna(method='bfill', inplace=True) # for the beginning\n"
     ]
    },
    {
     "name": "stdout",
     "output_type": "stream",
     "text": [
      "241.98000000000116\n"
     ]
    },
    {
     "name": "stderr",
     "output_type": "stream",
     "text": [
      "C:\\Users\\Tautvydas\\AppData\\Local\\Temp\\ipykernel_137156\\403102649.py:39: FutureWarning: DataFrame.fillna with 'method' is deprecated and will raise in a future version. Use obj.ffill() or obj.bfill() instead.\n",
      "  preProcData.fillna(method='bfill', inplace=True) # for the beginning\n"
     ]
    },
    {
     "name": "stdout",
     "output_type": "stream",
     "text": [
      "241.98000000000116\n"
     ]
    },
    {
     "name": "stderr",
     "output_type": "stream",
     "text": [
      "C:\\Users\\Tautvydas\\AppData\\Local\\Temp\\ipykernel_137156\\477956008.py:39: FutureWarning: DataFrame.fillna with 'method' is deprecated and will raise in a future version. Use obj.ffill() or obj.bfill() instead.\n",
      "  preProcData.fillna(method='bfill', inplace=True) # for the beginning\n"
     ]
    },
    {
     "name": "stdout",
     "output_type": "stream",
     "text": [
      "96.92000000000002\n"
     ]
    },
    {
     "name": "stderr",
     "output_type": "stream",
     "text": [
      "C:\\Users\\Tautvydas\\AppData\\Local\\Temp\\ipykernel_137156\\403102649.py:39: FutureWarning: DataFrame.fillna with 'method' is deprecated and will raise in a future version. Use obj.ffill() or obj.bfill() instead.\n",
      "  preProcData.fillna(method='bfill', inplace=True) # for the beginning\n"
     ]
    },
    {
     "name": "stdout",
     "output_type": "stream",
     "text": [
      "96.92000000000002\n"
     ]
    },
    {
     "name": "stderr",
     "output_type": "stream",
     "text": [
      "C:\\Users\\Tautvydas\\AppData\\Local\\Temp\\ipykernel_137156\\477956008.py:39: FutureWarning: DataFrame.fillna with 'method' is deprecated and will raise in a future version. Use obj.ffill() or obj.bfill() instead.\n",
      "  preProcData.fillna(method='bfill', inplace=True) # for the beginning\n"
     ]
    },
    {
     "name": "stdout",
     "output_type": "stream",
     "text": [
      "15.0\n"
     ]
    },
    {
     "name": "stderr",
     "output_type": "stream",
     "text": [
      "C:\\Users\\Tautvydas\\AppData\\Local\\Temp\\ipykernel_137156\\403102649.py:39: FutureWarning: DataFrame.fillna with 'method' is deprecated and will raise in a future version. Use obj.ffill() or obj.bfill() instead.\n",
      "  preProcData.fillna(method='bfill', inplace=True) # for the beginning\n"
     ]
    },
    {
     "name": "stdout",
     "output_type": "stream",
     "text": [
      "15.0\n"
     ]
    },
    {
     "name": "stderr",
     "output_type": "stream",
     "text": [
      "C:\\Users\\Tautvydas\\AppData\\Local\\Temp\\ipykernel_137156\\477956008.py:39: FutureWarning: DataFrame.fillna with 'method' is deprecated and will raise in a future version. Use obj.ffill() or obj.bfill() instead.\n",
      "  preProcData.fillna(method='bfill', inplace=True) # for the beginning\n"
     ]
    },
    {
     "name": "stdout",
     "output_type": "stream",
     "text": [
      "15.0\n"
     ]
    },
    {
     "name": "stderr",
     "output_type": "stream",
     "text": [
      "C:\\Users\\Tautvydas\\AppData\\Local\\Temp\\ipykernel_137156\\403102649.py:39: FutureWarning: DataFrame.fillna with 'method' is deprecated and will raise in a future version. Use obj.ffill() or obj.bfill() instead.\n",
      "  preProcData.fillna(method='bfill', inplace=True) # for the beginning\n"
     ]
    },
    {
     "name": "stdout",
     "output_type": "stream",
     "text": [
      "15.0\n"
     ]
    },
    {
     "name": "stderr",
     "output_type": "stream",
     "text": [
      "C:\\Users\\Tautvydas\\AppData\\Local\\Temp\\ipykernel_137156\\477956008.py:39: FutureWarning: DataFrame.fillna with 'method' is deprecated and will raise in a future version. Use obj.ffill() or obj.bfill() instead.\n",
      "  preProcData.fillna(method='bfill', inplace=True) # for the beginning\n"
     ]
    },
    {
     "name": "stdout",
     "output_type": "stream",
     "text": [
      "8.0\n"
     ]
    },
    {
     "name": "stderr",
     "output_type": "stream",
     "text": [
      "C:\\Users\\Tautvydas\\AppData\\Local\\Temp\\ipykernel_137156\\403102649.py:39: FutureWarning: DataFrame.fillna with 'method' is deprecated and will raise in a future version. Use obj.ffill() or obj.bfill() instead.\n",
      "  preProcData.fillna(method='bfill', inplace=True) # for the beginning\n"
     ]
    },
    {
     "name": "stdout",
     "output_type": "stream",
     "text": [
      "8.0\n"
     ]
    },
    {
     "name": "stderr",
     "output_type": "stream",
     "text": [
      "C:\\Users\\Tautvydas\\AppData\\Local\\Temp\\ipykernel_137156\\477956008.py:39: FutureWarning: DataFrame.fillna with 'method' is deprecated and will raise in a future version. Use obj.ffill() or obj.bfill() instead.\n",
      "  preProcData.fillna(method='bfill', inplace=True) # for the beginning\n"
     ]
    },
    {
     "name": "stdout",
     "output_type": "stream",
     "text": [
      "4.0\n"
     ]
    },
    {
     "name": "stderr",
     "output_type": "stream",
     "text": [
      "C:\\Users\\Tautvydas\\AppData\\Local\\Temp\\ipykernel_137156\\403102649.py:39: FutureWarning: DataFrame.fillna with 'method' is deprecated and will raise in a future version. Use obj.ffill() or obj.bfill() instead.\n",
      "  preProcData.fillna(method='bfill', inplace=True) # for the beginning\n"
     ]
    },
    {
     "name": "stdout",
     "output_type": "stream",
     "text": [
      "4.0\n"
     ]
    },
    {
     "name": "stderr",
     "output_type": "stream",
     "text": [
      "C:\\Users\\Tautvydas\\AppData\\Local\\Temp\\ipykernel_137156\\477956008.py:39: FutureWarning: DataFrame.fillna with 'method' is deprecated and will raise in a future version. Use obj.ffill() or obj.bfill() instead.\n",
      "  preProcData.fillna(method='bfill', inplace=True) # for the beginning\n"
     ]
    },
    {
     "name": "stdout",
     "output_type": "stream",
     "text": [
      "23.0\n"
     ]
    },
    {
     "name": "stderr",
     "output_type": "stream",
     "text": [
      "C:\\Users\\Tautvydas\\AppData\\Local\\Temp\\ipykernel_137156\\403102649.py:39: FutureWarning: DataFrame.fillna with 'method' is deprecated and will raise in a future version. Use obj.ffill() or obj.bfill() instead.\n",
      "  preProcData.fillna(method='bfill', inplace=True) # for the beginning\n"
     ]
    },
    {
     "name": "stdout",
     "output_type": "stream",
     "text": [
      "23.0\n"
     ]
    },
    {
     "name": "stderr",
     "output_type": "stream",
     "text": [
      "C:\\Users\\Tautvydas\\AppData\\Local\\Temp\\ipykernel_137156\\477956008.py:39: FutureWarning: DataFrame.fillna with 'method' is deprecated and will raise in a future version. Use obj.ffill() or obj.bfill() instead.\n",
      "  preProcData.fillna(method='bfill', inplace=True) # for the beginning\n"
     ]
    },
    {
     "name": "stdout",
     "output_type": "stream",
     "text": [
      "31.0\n"
     ]
    },
    {
     "name": "stderr",
     "output_type": "stream",
     "text": [
      "C:\\Users\\Tautvydas\\AppData\\Local\\Temp\\ipykernel_137156\\403102649.py:39: FutureWarning: DataFrame.fillna with 'method' is deprecated and will raise in a future version. Use obj.ffill() or obj.bfill() instead.\n",
      "  preProcData.fillna(method='bfill', inplace=True) # for the beginning\n"
     ]
    },
    {
     "name": "stdout",
     "output_type": "stream",
     "text": [
      "31.0\n"
     ]
    },
    {
     "name": "stderr",
     "output_type": "stream",
     "text": [
      "C:\\Users\\Tautvydas\\AppData\\Local\\Temp\\ipykernel_137156\\477956008.py:39: FutureWarning: DataFrame.fillna with 'method' is deprecated and will raise in a future version. Use obj.ffill() or obj.bfill() instead.\n",
      "  preProcData.fillna(method='bfill', inplace=True) # for the beginning\n"
     ]
    },
    {
     "name": "stdout",
     "output_type": "stream",
     "text": [
      "166.99999999999955\n"
     ]
    },
    {
     "name": "stderr",
     "output_type": "stream",
     "text": [
      "C:\\Users\\Tautvydas\\AppData\\Local\\Temp\\ipykernel_137156\\403102649.py:39: FutureWarning: DataFrame.fillna with 'method' is deprecated and will raise in a future version. Use obj.ffill() or obj.bfill() instead.\n",
      "  preProcData.fillna(method='bfill', inplace=True) # for the beginning\n"
     ]
    },
    {
     "name": "stdout",
     "output_type": "stream",
     "text": [
      "166.99999999999955\n"
     ]
    },
    {
     "name": "stderr",
     "output_type": "stream",
     "text": [
      "C:\\Users\\Tautvydas\\AppData\\Local\\Temp\\ipykernel_137156\\477956008.py:39: FutureWarning: DataFrame.fillna with 'method' is deprecated and will raise in a future version. Use obj.ffill() or obj.bfill() instead.\n",
      "  preProcData.fillna(method='bfill', inplace=True) # for the beginning\n"
     ]
    },
    {
     "name": "stdout",
     "output_type": "stream",
     "text": [
      "35.0\n"
     ]
    },
    {
     "name": "stderr",
     "output_type": "stream",
     "text": [
      "C:\\Users\\Tautvydas\\AppData\\Local\\Temp\\ipykernel_137156\\403102649.py:39: FutureWarning: DataFrame.fillna with 'method' is deprecated and will raise in a future version. Use obj.ffill() or obj.bfill() instead.\n",
      "  preProcData.fillna(method='bfill', inplace=True) # for the beginning\n"
     ]
    },
    {
     "name": "stdout",
     "output_type": "stream",
     "text": [
      "35.0\n"
     ]
    },
    {
     "name": "stderr",
     "output_type": "stream",
     "text": [
      "C:\\Users\\Tautvydas\\AppData\\Local\\Temp\\ipykernel_137156\\477956008.py:39: FutureWarning: DataFrame.fillna with 'method' is deprecated and will raise in a future version. Use obj.ffill() or obj.bfill() instead.\n",
      "  preProcData.fillna(method='bfill', inplace=True) # for the beginning\n"
     ]
    },
    {
     "name": "stdout",
     "output_type": "stream",
     "text": [
      "102.95999999999998\n"
     ]
    },
    {
     "name": "stderr",
     "output_type": "stream",
     "text": [
      "C:\\Users\\Tautvydas\\AppData\\Local\\Temp\\ipykernel_137156\\403102649.py:39: FutureWarning: DataFrame.fillna with 'method' is deprecated and will raise in a future version. Use obj.ffill() or obj.bfill() instead.\n",
      "  preProcData.fillna(method='bfill', inplace=True) # for the beginning\n"
     ]
    },
    {
     "name": "stdout",
     "output_type": "stream",
     "text": [
      "102.95999999999998\n"
     ]
    },
    {
     "name": "stderr",
     "output_type": "stream",
     "text": [
      "C:\\Users\\Tautvydas\\AppData\\Local\\Temp\\ipykernel_137156\\477956008.py:39: FutureWarning: DataFrame.fillna with 'method' is deprecated and will raise in a future version. Use obj.ffill() or obj.bfill() instead.\n",
      "  preProcData.fillna(method='bfill', inplace=True) # for the beginning\n"
     ]
    },
    {
     "name": "stdout",
     "output_type": "stream",
     "text": [
      "116.92000000000002\n"
     ]
    },
    {
     "name": "stderr",
     "output_type": "stream",
     "text": [
      "C:\\Users\\Tautvydas\\AppData\\Local\\Temp\\ipykernel_137156\\403102649.py:39: FutureWarning: DataFrame.fillna with 'method' is deprecated and will raise in a future version. Use obj.ffill() or obj.bfill() instead.\n",
      "  preProcData.fillna(method='bfill', inplace=True) # for the beginning\n"
     ]
    },
    {
     "name": "stdout",
     "output_type": "stream",
     "text": [
      "116.92000000000002\n"
     ]
    },
    {
     "name": "stderr",
     "output_type": "stream",
     "text": [
      "C:\\Users\\Tautvydas\\AppData\\Local\\Temp\\ipykernel_137156\\477956008.py:39: FutureWarning: DataFrame.fillna with 'method' is deprecated and will raise in a future version. Use obj.ffill() or obj.bfill() instead.\n",
      "  preProcData.fillna(method='bfill', inplace=True) # for the beginning\n"
     ]
    },
    {
     "name": "stdout",
     "output_type": "stream",
     "text": [
      "12.0\n"
     ]
    },
    {
     "name": "stderr",
     "output_type": "stream",
     "text": [
      "C:\\Users\\Tautvydas\\AppData\\Local\\Temp\\ipykernel_137156\\403102649.py:39: FutureWarning: DataFrame.fillna with 'method' is deprecated and will raise in a future version. Use obj.ffill() or obj.bfill() instead.\n",
      "  preProcData.fillna(method='bfill', inplace=True) # for the beginning\n"
     ]
    },
    {
     "name": "stdout",
     "output_type": "stream",
     "text": [
      "12.0\n"
     ]
    },
    {
     "name": "stderr",
     "output_type": "stream",
     "text": [
      "C:\\Users\\Tautvydas\\AppData\\Local\\Temp\\ipykernel_137156\\477956008.py:39: FutureWarning: DataFrame.fillna with 'method' is deprecated and will raise in a future version. Use obj.ffill() or obj.bfill() instead.\n",
      "  preProcData.fillna(method='bfill', inplace=True) # for the beginning\n"
     ]
    },
    {
     "name": "stdout",
     "output_type": "stream",
     "text": [
      "27.0\n"
     ]
    },
    {
     "name": "stderr",
     "output_type": "stream",
     "text": [
      "C:\\Users\\Tautvydas\\AppData\\Local\\Temp\\ipykernel_137156\\403102649.py:39: FutureWarning: DataFrame.fillna with 'method' is deprecated and will raise in a future version. Use obj.ffill() or obj.bfill() instead.\n",
      "  preProcData.fillna(method='bfill', inplace=True) # for the beginning\n"
     ]
    },
    {
     "name": "stdout",
     "output_type": "stream",
     "text": [
      "27.0\n"
     ]
    },
    {
     "name": "stderr",
     "output_type": "stream",
     "text": [
      "C:\\Users\\Tautvydas\\AppData\\Local\\Temp\\ipykernel_137156\\477956008.py:39: FutureWarning: DataFrame.fillna with 'method' is deprecated and will raise in a future version. Use obj.ffill() or obj.bfill() instead.\n",
      "  preProcData.fillna(method='bfill', inplace=True) # for the beginning\n"
     ]
    },
    {
     "name": "stdout",
     "output_type": "stream",
     "text": [
      "8.0\n"
     ]
    },
    {
     "name": "stderr",
     "output_type": "stream",
     "text": [
      "C:\\Users\\Tautvydas\\AppData\\Local\\Temp\\ipykernel_137156\\403102649.py:39: FutureWarning: DataFrame.fillna with 'method' is deprecated and will raise in a future version. Use obj.ffill() or obj.bfill() instead.\n",
      "  preProcData.fillna(method='bfill', inplace=True) # for the beginning\n"
     ]
    },
    {
     "name": "stdout",
     "output_type": "stream",
     "text": [
      "8.0\n"
     ]
    },
    {
     "name": "stderr",
     "output_type": "stream",
     "text": [
      "C:\\Users\\Tautvydas\\AppData\\Local\\Temp\\ipykernel_137156\\477956008.py:39: FutureWarning: DataFrame.fillna with 'method' is deprecated and will raise in a future version. Use obj.ffill() or obj.bfill() instead.\n",
      "  preProcData.fillna(method='bfill', inplace=True) # for the beginning\n"
     ]
    },
    {
     "name": "stdout",
     "output_type": "stream",
     "text": [
      "10.0\n"
     ]
    },
    {
     "name": "stderr",
     "output_type": "stream",
     "text": [
      "C:\\Users\\Tautvydas\\AppData\\Local\\Temp\\ipykernel_137156\\403102649.py:39: FutureWarning: DataFrame.fillna with 'method' is deprecated and will raise in a future version. Use obj.ffill() or obj.bfill() instead.\n",
      "  preProcData.fillna(method='bfill', inplace=True) # for the beginning\n"
     ]
    },
    {
     "name": "stdout",
     "output_type": "stream",
     "text": [
      "10.0\n"
     ]
    },
    {
     "name": "stderr",
     "output_type": "stream",
     "text": [
      "C:\\Users\\Tautvydas\\AppData\\Local\\Temp\\ipykernel_137156\\477956008.py:39: FutureWarning: DataFrame.fillna with 'method' is deprecated and will raise in a future version. Use obj.ffill() or obj.bfill() instead.\n",
      "  preProcData.fillna(method='bfill', inplace=True) # for the beginning\n"
     ]
    },
    {
     "name": "stdout",
     "output_type": "stream",
     "text": [
      "68.0\n"
     ]
    },
    {
     "name": "stderr",
     "output_type": "stream",
     "text": [
      "C:\\Users\\Tautvydas\\AppData\\Local\\Temp\\ipykernel_137156\\403102649.py:39: FutureWarning: DataFrame.fillna with 'method' is deprecated and will raise in a future version. Use obj.ffill() or obj.bfill() instead.\n",
      "  preProcData.fillna(method='bfill', inplace=True) # for the beginning\n"
     ]
    },
    {
     "name": "stdout",
     "output_type": "stream",
     "text": [
      "68.0\n"
     ]
    },
    {
     "name": "stderr",
     "output_type": "stream",
     "text": [
      "C:\\Users\\Tautvydas\\AppData\\Local\\Temp\\ipykernel_137156\\477956008.py:39: FutureWarning: DataFrame.fillna with 'method' is deprecated and will raise in a future version. Use obj.ffill() or obj.bfill() instead.\n",
      "  preProcData.fillna(method='bfill', inplace=True) # for the beginning\n"
     ]
    },
    {
     "name": "stdout",
     "output_type": "stream",
     "text": [
      "24.0\n"
     ]
    },
    {
     "name": "stderr",
     "output_type": "stream",
     "text": [
      "C:\\Users\\Tautvydas\\AppData\\Local\\Temp\\ipykernel_137156\\403102649.py:39: FutureWarning: DataFrame.fillna with 'method' is deprecated and will raise in a future version. Use obj.ffill() or obj.bfill() instead.\n",
      "  preProcData.fillna(method='bfill', inplace=True) # for the beginning\n"
     ]
    },
    {
     "name": "stdout",
     "output_type": "stream",
     "text": [
      "24.0\n"
     ]
    },
    {
     "name": "stderr",
     "output_type": "stream",
     "text": [
      "C:\\Users\\Tautvydas\\AppData\\Local\\Temp\\ipykernel_137156\\477956008.py:39: FutureWarning: DataFrame.fillna with 'method' is deprecated and will raise in a future version. Use obj.ffill() or obj.bfill() instead.\n",
      "  preProcData.fillna(method='bfill', inplace=True) # for the beginning\n"
     ]
    },
    {
     "name": "stdout",
     "output_type": "stream",
     "text": [
      "154.9999999999991\n"
     ]
    },
    {
     "name": "stderr",
     "output_type": "stream",
     "text": [
      "C:\\Users\\Tautvydas\\AppData\\Local\\Temp\\ipykernel_137156\\403102649.py:39: FutureWarning: DataFrame.fillna with 'method' is deprecated and will raise in a future version. Use obj.ffill() or obj.bfill() instead.\n",
      "  preProcData.fillna(method='bfill', inplace=True) # for the beginning\n"
     ]
    },
    {
     "name": "stdout",
     "output_type": "stream",
     "text": [
      "154.9999999999991\n"
     ]
    },
    {
     "name": "stderr",
     "output_type": "stream",
     "text": [
      "C:\\Users\\Tautvydas\\AppData\\Local\\Temp\\ipykernel_137156\\477956008.py:39: FutureWarning: DataFrame.fillna with 'method' is deprecated and will raise in a future version. Use obj.ffill() or obj.bfill() instead.\n",
      "  preProcData.fillna(method='bfill', inplace=True) # for the beginning\n"
     ]
    },
    {
     "name": "stdout",
     "output_type": "stream",
     "text": [
      "33.0\n"
     ]
    },
    {
     "name": "stderr",
     "output_type": "stream",
     "text": [
      "C:\\Users\\Tautvydas\\AppData\\Local\\Temp\\ipykernel_137156\\403102649.py:39: FutureWarning: DataFrame.fillna with 'method' is deprecated and will raise in a future version. Use obj.ffill() or obj.bfill() instead.\n",
      "  preProcData.fillna(method='bfill', inplace=True) # for the beginning\n"
     ]
    },
    {
     "name": "stdout",
     "output_type": "stream",
     "text": [
      "33.0\n"
     ]
    },
    {
     "name": "stderr",
     "output_type": "stream",
     "text": [
      "C:\\Users\\Tautvydas\\AppData\\Local\\Temp\\ipykernel_137156\\477956008.py:39: FutureWarning: DataFrame.fillna with 'method' is deprecated and will raise in a future version. Use obj.ffill() or obj.bfill() instead.\n",
      "  preProcData.fillna(method='bfill', inplace=True) # for the beginning\n"
     ]
    },
    {
     "name": "stdout",
     "output_type": "stream",
     "text": [
      "123.97999999999999\n"
     ]
    },
    {
     "name": "stderr",
     "output_type": "stream",
     "text": [
      "C:\\Users\\Tautvydas\\AppData\\Local\\Temp\\ipykernel_137156\\403102649.py:39: FutureWarning: DataFrame.fillna with 'method' is deprecated and will raise in a future version. Use obj.ffill() or obj.bfill() instead.\n",
      "  preProcData.fillna(method='bfill', inplace=True) # for the beginning\n"
     ]
    },
    {
     "name": "stdout",
     "output_type": "stream",
     "text": [
      "123.97999999999999\n"
     ]
    }
   ],
   "source": [
    "filter_sizes=[[3,6],[3,8],[3,9],[2,7],[2,8]]\n",
    "for filter in filter_sizes:\n",
    "    for i in range(1,11):\n",
    "        test=i\n",
    "        input_path='Tiffs_Validation'\n",
    "        input_tiff=f'Video{test}.tif'\n",
    "        params={\n",
    "            'r_in':filter[0],\n",
    "            'r_out':filter[1],\n",
    "            'ring_index':1,\n",
    "            'allowed_change':1,\n",
    "            'input_path':input_path,\n",
    "            'input_tiff':input_tiff,\n",
    "            'output_base_path':f'Results_Validation/Video{test}'\n",
    "        }\n",
    "        try:\n",
    "            post_processing(**params)\n",
    "            post_processing_mean(**params)\n",
    "        except Exception as e:\n",
    "            print(e)\n",
    "            print(params)\n",
    "            continue\n"
   ]
  },
  {
   "cell_type": "markdown",
   "metadata": {},
   "source": [
    "### Wiener filter"
   ]
  },
  {
   "cell_type": "code",
   "execution_count": 49,
   "metadata": {},
   "outputs": [],
   "source": [
    "from scipy.signal import wiener"
   ]
  },
  {
   "cell_type": "code",
   "execution_count": 51,
   "metadata": {},
   "outputs": [],
   "source": [
    "def wiener_filter(r_in,r_out,ring_index,allowed_change,input_path,input_tiff,output_base_path):\n",
    "    cross_length = 10 #Center cross\n",
    "\n",
    "    output_path = Path(output_base_path) / Path(input_tiff).stem\n",
    "    output_path.mkdir(parents=True, exist_ok=True)\n",
    "    test_number=input_tiff.split('.')[0]\n",
    "\n",
    "    result_folder = f\"Results_Validation_Wiener_mixedWindow/{test_number}/\" + Path(input_tiff).stem + f\"_Results_bw{r_in}{r_out}_{ring_index}\"\n",
    "    Path(result_folder).mkdir(parents=True, exist_ok=True)\n",
    "\n",
    "    preProcData=pd.read_excel(f'Excels/Video{test_number}_{r_in}{r_out}_{ring_index}.xlsx')\n",
    "\n",
    "    center_x_interpolated=interpolation(preProcData['center_x(crow)'])\n",
    "    center_y_interpolated=interpolation(preProcData['center_y(ccol)'])\n",
    "    circle_radius_interpolated=interpolation(preProcData['circle_radius'])\n",
    "\n",
    "    preProcData['diff_center_y'] = preProcData['center_y(ccol)'].diff().abs().fillna(0)\n",
    "    preProcData['diff_center_x'] = preProcData['center_x(crow)'].diff().abs().fillna(0)\n",
    "    # preProcData['total_movement'] = preProcData['diff_center_y'] + preProcData['diff_center_x']\n",
    "    totalMovement=0\n",
    "    for index, row in preProcData.iterrows():\n",
    "        totalMovement=totalMovement+row['diff_center_x']+row['diff_center_y']\n",
    "\n",
    "\n",
    "    if(totalMovement<70):\n",
    "        wiener_size=250\n",
    "    else:\n",
    "        wiener_size=75\n",
    "\n",
    "    center_x_wiener=wiener(center_x_interpolated, mysize=wiener_size)\n",
    "    center_y_wiener=wiener(center_y_interpolated,mysize=wiener_size)\n",
    "    circle_radius_wiener=wiener(circle_radius_interpolated,mysize=wiener_size)\n",
    "\n",
    "    dfList=list(zip(center_x_wiener,center_y_wiener,circle_radius_wiener))\n",
    "    preProcData=pd.DataFrame(dfList,columns=['center_x(crow)','center_y(ccol)','circle_radius'])\n",
    "\n",
    "    \n",
    "\n",
    "    \n",
    "\n",
    "    i=0\n",
    "    for filename in os.listdir(output_path):\n",
    "        # print(filename)\n",
    "        file_path = os.path.join(output_path, filename)\n",
    "        image = cv2.imread(file_path, cv2.IMREAD_GRAYSCALE)\n",
    "\n",
    "        # movementNearFramesX=preProcData['diff_center_x'][nearFrameStart:nearFrameEnd].sum()\n",
    "        # movementNearFramesY=preProcData['diff_center_y'][nearFrameStart:nearFrameEnd].sum()\n",
    "\n",
    "        # print(f'frameNo = {i}, x_movement near = {movementNearFramesX}, y_movement near = {movementNearFramesY}')\n",
    "\n",
    "        # if ((movementNearFramesX+movementNearFramesY)>20):    \n",
    "        ccol=int(preProcData['center_y(ccol)'][i])\n",
    "        crow=int(preProcData['center_x(crow)'][i])\n",
    "        circle_radius=int(preProcData['circle_radius'][i])\n",
    "        # else:\n",
    "        #     ccol=int(preProcData['smooth_center_y(ccol)'][i])\n",
    "        #     crow=int(preProcData['smooth_center_x(crow)'][i])\n",
    "        #     circle_radius=int(preProcData['circle_radius'][i])\n",
    "\n",
    "        circle_img=draw_circle(image,ccol,crow,circle_radius)\n",
    "        \n",
    "        plt.imshow(circle_img, cmap='gray', vmin=0, vmax=255)\n",
    "        plt.savefig(os.path.join(result_folder, f\"result_{filename}\"))\n",
    "        # plt.show()\n",
    "        i+=1\n",
    "\n",
    "        del image\n",
    "        plt.close('all')\n",
    "        gc.collect()\n",
    "    "
   ]
  },
  {
   "cell_type": "code",
   "execution_count": 52,
   "metadata": {},
   "outputs": [
    {
     "name": "stderr",
     "output_type": "stream",
     "text": [
      "c:\\Users\\Tautvydas\\AppData\\Local\\Programs\\Python\\Python312\\Lib\\site-packages\\scipy\\signal\\_signaltools.py:1647: RuntimeWarning: divide by zero encountered in divide\n",
      "  res *= (1 - noise / lVar)\n",
      "c:\\Users\\Tautvydas\\AppData\\Local\\Programs\\Python\\Python312\\Lib\\site-packages\\scipy\\signal\\_signaltools.py:1647: RuntimeWarning: invalid value encountered in multiply\n",
      "  res *= (1 - noise / lVar)\n",
      "c:\\Users\\Tautvydas\\AppData\\Local\\Programs\\Python\\Python312\\Lib\\site-packages\\scipy\\signal\\_signaltools.py:1647: RuntimeWarning: divide by zero encountered in divide\n",
      "  res *= (1 - noise / lVar)\n",
      "c:\\Users\\Tautvydas\\AppData\\Local\\Programs\\Python\\Python312\\Lib\\site-packages\\scipy\\signal\\_signaltools.py:1647: RuntimeWarning: invalid value encountered in multiply\n",
      "  res *= (1 - noise / lVar)\n",
      "c:\\Users\\Tautvydas\\AppData\\Local\\Programs\\Python\\Python312\\Lib\\site-packages\\scipy\\signal\\_signaltools.py:1647: RuntimeWarning: divide by zero encountered in divide\n",
      "  res *= (1 - noise / lVar)\n",
      "c:\\Users\\Tautvydas\\AppData\\Local\\Programs\\Python\\Python312\\Lib\\site-packages\\scipy\\signal\\_signaltools.py:1647: RuntimeWarning: invalid value encountered in multiply\n",
      "  res *= (1 - noise / lVar)\n",
      "c:\\Users\\Tautvydas\\AppData\\Local\\Programs\\Python\\Python312\\Lib\\site-packages\\scipy\\signal\\_signaltools.py:1647: RuntimeWarning: divide by zero encountered in divide\n",
      "  res *= (1 - noise / lVar)\n",
      "c:\\Users\\Tautvydas\\AppData\\Local\\Programs\\Python\\Python312\\Lib\\site-packages\\scipy\\signal\\_signaltools.py:1647: RuntimeWarning: invalid value encountered in multiply\n",
      "  res *= (1 - noise / lVar)\n",
      "c:\\Users\\Tautvydas\\AppData\\Local\\Programs\\Python\\Python312\\Lib\\site-packages\\scipy\\signal\\_signaltools.py:1647: RuntimeWarning: divide by zero encountered in divide\n",
      "  res *= (1 - noise / lVar)\n",
      "c:\\Users\\Tautvydas\\AppData\\Local\\Programs\\Python\\Python312\\Lib\\site-packages\\scipy\\signal\\_signaltools.py:1647: RuntimeWarning: invalid value encountered in multiply\n",
      "  res *= (1 - noise / lVar)\n",
      "c:\\Users\\Tautvydas\\AppData\\Local\\Programs\\Python\\Python312\\Lib\\site-packages\\scipy\\signal\\_signaltools.py:1647: RuntimeWarning: divide by zero encountered in divide\n",
      "  res *= (1 - noise / lVar)\n",
      "c:\\Users\\Tautvydas\\AppData\\Local\\Programs\\Python\\Python312\\Lib\\site-packages\\scipy\\signal\\_signaltools.py:1647: RuntimeWarning: invalid value encountered in multiply\n",
      "  res *= (1 - noise / lVar)\n",
      "c:\\Users\\Tautvydas\\AppData\\Local\\Programs\\Python\\Python312\\Lib\\site-packages\\scipy\\signal\\_signaltools.py:1647: RuntimeWarning: divide by zero encountered in divide\n",
      "  res *= (1 - noise / lVar)\n",
      "c:\\Users\\Tautvydas\\AppData\\Local\\Programs\\Python\\Python312\\Lib\\site-packages\\scipy\\signal\\_signaltools.py:1647: RuntimeWarning: invalid value encountered in multiply\n",
      "  res *= (1 - noise / lVar)\n",
      "c:\\Users\\Tautvydas\\AppData\\Local\\Programs\\Python\\Python312\\Lib\\site-packages\\scipy\\signal\\_signaltools.py:1647: RuntimeWarning: divide by zero encountered in divide\n",
      "  res *= (1 - noise / lVar)\n",
      "c:\\Users\\Tautvydas\\AppData\\Local\\Programs\\Python\\Python312\\Lib\\site-packages\\scipy\\signal\\_signaltools.py:1647: RuntimeWarning: invalid value encountered in multiply\n",
      "  res *= (1 - noise / lVar)\n",
      "c:\\Users\\Tautvydas\\AppData\\Local\\Programs\\Python\\Python312\\Lib\\site-packages\\scipy\\signal\\_signaltools.py:1647: RuntimeWarning: divide by zero encountered in divide\n",
      "  res *= (1 - noise / lVar)\n",
      "c:\\Users\\Tautvydas\\AppData\\Local\\Programs\\Python\\Python312\\Lib\\site-packages\\scipy\\signal\\_signaltools.py:1647: RuntimeWarning: invalid value encountered in multiply\n",
      "  res *= (1 - noise / lVar)\n",
      "c:\\Users\\Tautvydas\\AppData\\Local\\Programs\\Python\\Python312\\Lib\\site-packages\\scipy\\signal\\_signaltools.py:1647: RuntimeWarning: divide by zero encountered in divide\n",
      "  res *= (1 - noise / lVar)\n",
      "c:\\Users\\Tautvydas\\AppData\\Local\\Programs\\Python\\Python312\\Lib\\site-packages\\scipy\\signal\\_signaltools.py:1647: RuntimeWarning: invalid value encountered in multiply\n",
      "  res *= (1 - noise / lVar)\n",
      "c:\\Users\\Tautvydas\\AppData\\Local\\Programs\\Python\\Python312\\Lib\\site-packages\\scipy\\signal\\_signaltools.py:1647: RuntimeWarning: divide by zero encountered in divide\n",
      "  res *= (1 - noise / lVar)\n",
      "c:\\Users\\Tautvydas\\AppData\\Local\\Programs\\Python\\Python312\\Lib\\site-packages\\scipy\\signal\\_signaltools.py:1647: RuntimeWarning: invalid value encountered in multiply\n",
      "  res *= (1 - noise / lVar)\n",
      "c:\\Users\\Tautvydas\\AppData\\Local\\Programs\\Python\\Python312\\Lib\\site-packages\\scipy\\signal\\_signaltools.py:1647: RuntimeWarning: divide by zero encountered in divide\n",
      "  res *= (1 - noise / lVar)\n",
      "c:\\Users\\Tautvydas\\AppData\\Local\\Programs\\Python\\Python312\\Lib\\site-packages\\scipy\\signal\\_signaltools.py:1647: RuntimeWarning: invalid value encountered in multiply\n",
      "  res *= (1 - noise / lVar)\n",
      "c:\\Users\\Tautvydas\\AppData\\Local\\Programs\\Python\\Python312\\Lib\\site-packages\\scipy\\signal\\_signaltools.py:1647: RuntimeWarning: divide by zero encountered in divide\n",
      "  res *= (1 - noise / lVar)\n",
      "c:\\Users\\Tautvydas\\AppData\\Local\\Programs\\Python\\Python312\\Lib\\site-packages\\scipy\\signal\\_signaltools.py:1647: RuntimeWarning: invalid value encountered in multiply\n",
      "  res *= (1 - noise / lVar)\n",
      "c:\\Users\\Tautvydas\\AppData\\Local\\Programs\\Python\\Python312\\Lib\\site-packages\\scipy\\signal\\_signaltools.py:1647: RuntimeWarning: divide by zero encountered in divide\n",
      "  res *= (1 - noise / lVar)\n",
      "c:\\Users\\Tautvydas\\AppData\\Local\\Programs\\Python\\Python312\\Lib\\site-packages\\scipy\\signal\\_signaltools.py:1647: RuntimeWarning: invalid value encountered in multiply\n",
      "  res *= (1 - noise / lVar)\n",
      "c:\\Users\\Tautvydas\\AppData\\Local\\Programs\\Python\\Python312\\Lib\\site-packages\\scipy\\signal\\_signaltools.py:1647: RuntimeWarning: divide by zero encountered in divide\n",
      "  res *= (1 - noise / lVar)\n",
      "c:\\Users\\Tautvydas\\AppData\\Local\\Programs\\Python\\Python312\\Lib\\site-packages\\scipy\\signal\\_signaltools.py:1647: RuntimeWarning: invalid value encountered in multiply\n",
      "  res *= (1 - noise / lVar)\n",
      "c:\\Users\\Tautvydas\\AppData\\Local\\Programs\\Python\\Python312\\Lib\\site-packages\\scipy\\signal\\_signaltools.py:1647: RuntimeWarning: divide by zero encountered in divide\n",
      "  res *= (1 - noise / lVar)\n",
      "c:\\Users\\Tautvydas\\AppData\\Local\\Programs\\Python\\Python312\\Lib\\site-packages\\scipy\\signal\\_signaltools.py:1647: RuntimeWarning: invalid value encountered in multiply\n",
      "  res *= (1 - noise / lVar)\n",
      "c:\\Users\\Tautvydas\\AppData\\Local\\Programs\\Python\\Python312\\Lib\\site-packages\\scipy\\signal\\_signaltools.py:1647: RuntimeWarning: divide by zero encountered in divide\n",
      "  res *= (1 - noise / lVar)\n",
      "c:\\Users\\Tautvydas\\AppData\\Local\\Programs\\Python\\Python312\\Lib\\site-packages\\scipy\\signal\\_signaltools.py:1647: RuntimeWarning: invalid value encountered in multiply\n",
      "  res *= (1 - noise / lVar)\n",
      "c:\\Users\\Tautvydas\\AppData\\Local\\Programs\\Python\\Python312\\Lib\\site-packages\\scipy\\signal\\_signaltools.py:1647: RuntimeWarning: divide by zero encountered in divide\n",
      "  res *= (1 - noise / lVar)\n",
      "c:\\Users\\Tautvydas\\AppData\\Local\\Programs\\Python\\Python312\\Lib\\site-packages\\scipy\\signal\\_signaltools.py:1647: RuntimeWarning: invalid value encountered in multiply\n",
      "  res *= (1 - noise / lVar)\n",
      "c:\\Users\\Tautvydas\\AppData\\Local\\Programs\\Python\\Python312\\Lib\\site-packages\\scipy\\signal\\_signaltools.py:1647: RuntimeWarning: divide by zero encountered in divide\n",
      "  res *= (1 - noise / lVar)\n",
      "c:\\Users\\Tautvydas\\AppData\\Local\\Programs\\Python\\Python312\\Lib\\site-packages\\scipy\\signal\\_signaltools.py:1647: RuntimeWarning: invalid value encountered in multiply\n",
      "  res *= (1 - noise / lVar)\n",
      "c:\\Users\\Tautvydas\\AppData\\Local\\Programs\\Python\\Python312\\Lib\\site-packages\\scipy\\signal\\_signaltools.py:1647: RuntimeWarning: divide by zero encountered in divide\n",
      "  res *= (1 - noise / lVar)\n",
      "c:\\Users\\Tautvydas\\AppData\\Local\\Programs\\Python\\Python312\\Lib\\site-packages\\scipy\\signal\\_signaltools.py:1647: RuntimeWarning: invalid value encountered in multiply\n",
      "  res *= (1 - noise / lVar)\n",
      "c:\\Users\\Tautvydas\\AppData\\Local\\Programs\\Python\\Python312\\Lib\\site-packages\\scipy\\signal\\_signaltools.py:1647: RuntimeWarning: divide by zero encountered in divide\n",
      "  res *= (1 - noise / lVar)\n",
      "c:\\Users\\Tautvydas\\AppData\\Local\\Programs\\Python\\Python312\\Lib\\site-packages\\scipy\\signal\\_signaltools.py:1647: RuntimeWarning: invalid value encountered in multiply\n",
      "  res *= (1 - noise / lVar)\n",
      "c:\\Users\\Tautvydas\\AppData\\Local\\Programs\\Python\\Python312\\Lib\\site-packages\\scipy\\signal\\_signaltools.py:1647: RuntimeWarning: divide by zero encountered in divide\n",
      "  res *= (1 - noise / lVar)\n",
      "c:\\Users\\Tautvydas\\AppData\\Local\\Programs\\Python\\Python312\\Lib\\site-packages\\scipy\\signal\\_signaltools.py:1647: RuntimeWarning: invalid value encountered in multiply\n",
      "  res *= (1 - noise / lVar)\n",
      "c:\\Users\\Tautvydas\\AppData\\Local\\Programs\\Python\\Python312\\Lib\\site-packages\\scipy\\signal\\_signaltools.py:1647: RuntimeWarning: divide by zero encountered in divide\n",
      "  res *= (1 - noise / lVar)\n",
      "c:\\Users\\Tautvydas\\AppData\\Local\\Programs\\Python\\Python312\\Lib\\site-packages\\scipy\\signal\\_signaltools.py:1647: RuntimeWarning: invalid value encountered in multiply\n",
      "  res *= (1 - noise / lVar)\n",
      "c:\\Users\\Tautvydas\\AppData\\Local\\Programs\\Python\\Python312\\Lib\\site-packages\\scipy\\signal\\_signaltools.py:1647: RuntimeWarning: divide by zero encountered in divide\n",
      "  res *= (1 - noise / lVar)\n",
      "c:\\Users\\Tautvydas\\AppData\\Local\\Programs\\Python\\Python312\\Lib\\site-packages\\scipy\\signal\\_signaltools.py:1647: RuntimeWarning: invalid value encountered in multiply\n",
      "  res *= (1 - noise / lVar)\n",
      "c:\\Users\\Tautvydas\\AppData\\Local\\Programs\\Python\\Python312\\Lib\\site-packages\\scipy\\signal\\_signaltools.py:1647: RuntimeWarning: divide by zero encountered in divide\n",
      "  res *= (1 - noise / lVar)\n",
      "c:\\Users\\Tautvydas\\AppData\\Local\\Programs\\Python\\Python312\\Lib\\site-packages\\scipy\\signal\\_signaltools.py:1647: RuntimeWarning: invalid value encountered in multiply\n",
      "  res *= (1 - noise / lVar)\n",
      "c:\\Users\\Tautvydas\\AppData\\Local\\Programs\\Python\\Python312\\Lib\\site-packages\\scipy\\signal\\_signaltools.py:1647: RuntimeWarning: divide by zero encountered in divide\n",
      "  res *= (1 - noise / lVar)\n",
      "c:\\Users\\Tautvydas\\AppData\\Local\\Programs\\Python\\Python312\\Lib\\site-packages\\scipy\\signal\\_signaltools.py:1647: RuntimeWarning: invalid value encountered in multiply\n",
      "  res *= (1 - noise / lVar)\n",
      "c:\\Users\\Tautvydas\\AppData\\Local\\Programs\\Python\\Python312\\Lib\\site-packages\\scipy\\signal\\_signaltools.py:1647: RuntimeWarning: divide by zero encountered in divide\n",
      "  res *= (1 - noise / lVar)\n",
      "c:\\Users\\Tautvydas\\AppData\\Local\\Programs\\Python\\Python312\\Lib\\site-packages\\scipy\\signal\\_signaltools.py:1647: RuntimeWarning: invalid value encountered in multiply\n",
      "  res *= (1 - noise / lVar)\n",
      "c:\\Users\\Tautvydas\\AppData\\Local\\Programs\\Python\\Python312\\Lib\\site-packages\\scipy\\signal\\_signaltools.py:1647: RuntimeWarning: divide by zero encountered in divide\n",
      "  res *= (1 - noise / lVar)\n",
      "c:\\Users\\Tautvydas\\AppData\\Local\\Programs\\Python\\Python312\\Lib\\site-packages\\scipy\\signal\\_signaltools.py:1647: RuntimeWarning: invalid value encountered in multiply\n",
      "  res *= (1 - noise / lVar)\n",
      "c:\\Users\\Tautvydas\\AppData\\Local\\Programs\\Python\\Python312\\Lib\\site-packages\\scipy\\signal\\_signaltools.py:1647: RuntimeWarning: divide by zero encountered in divide\n",
      "  res *= (1 - noise / lVar)\n",
      "c:\\Users\\Tautvydas\\AppData\\Local\\Programs\\Python\\Python312\\Lib\\site-packages\\scipy\\signal\\_signaltools.py:1647: RuntimeWarning: invalid value encountered in multiply\n",
      "  res *= (1 - noise / lVar)\n",
      "c:\\Users\\Tautvydas\\AppData\\Local\\Programs\\Python\\Python312\\Lib\\site-packages\\scipy\\signal\\_signaltools.py:1647: RuntimeWarning: divide by zero encountered in divide\n",
      "  res *= (1 - noise / lVar)\n",
      "c:\\Users\\Tautvydas\\AppData\\Local\\Programs\\Python\\Python312\\Lib\\site-packages\\scipy\\signal\\_signaltools.py:1647: RuntimeWarning: invalid value encountered in multiply\n",
      "  res *= (1 - noise / lVar)\n",
      "c:\\Users\\Tautvydas\\AppData\\Local\\Programs\\Python\\Python312\\Lib\\site-packages\\scipy\\signal\\_signaltools.py:1647: RuntimeWarning: divide by zero encountered in divide\n",
      "  res *= (1 - noise / lVar)\n",
      "c:\\Users\\Tautvydas\\AppData\\Local\\Programs\\Python\\Python312\\Lib\\site-packages\\scipy\\signal\\_signaltools.py:1647: RuntimeWarning: invalid value encountered in multiply\n",
      "  res *= (1 - noise / lVar)\n",
      "c:\\Users\\Tautvydas\\AppData\\Local\\Programs\\Python\\Python312\\Lib\\site-packages\\scipy\\signal\\_signaltools.py:1647: RuntimeWarning: divide by zero encountered in divide\n",
      "  res *= (1 - noise / lVar)\n",
      "c:\\Users\\Tautvydas\\AppData\\Local\\Programs\\Python\\Python312\\Lib\\site-packages\\scipy\\signal\\_signaltools.py:1647: RuntimeWarning: invalid value encountered in multiply\n",
      "  res *= (1 - noise / lVar)\n",
      "c:\\Users\\Tautvydas\\AppData\\Local\\Programs\\Python\\Python312\\Lib\\site-packages\\scipy\\signal\\_signaltools.py:1647: RuntimeWarning: divide by zero encountered in divide\n",
      "  res *= (1 - noise / lVar)\n",
      "c:\\Users\\Tautvydas\\AppData\\Local\\Programs\\Python\\Python312\\Lib\\site-packages\\scipy\\signal\\_signaltools.py:1647: RuntimeWarning: invalid value encountered in multiply\n",
      "  res *= (1 - noise / lVar)\n",
      "c:\\Users\\Tautvydas\\AppData\\Local\\Programs\\Python\\Python312\\Lib\\site-packages\\scipy\\signal\\_signaltools.py:1647: RuntimeWarning: divide by zero encountered in divide\n",
      "  res *= (1 - noise / lVar)\n",
      "c:\\Users\\Tautvydas\\AppData\\Local\\Programs\\Python\\Python312\\Lib\\site-packages\\scipy\\signal\\_signaltools.py:1647: RuntimeWarning: invalid value encountered in multiply\n",
      "  res *= (1 - noise / lVar)\n",
      "c:\\Users\\Tautvydas\\AppData\\Local\\Programs\\Python\\Python312\\Lib\\site-packages\\scipy\\signal\\_signaltools.py:1647: RuntimeWarning: divide by zero encountered in divide\n",
      "  res *= (1 - noise / lVar)\n",
      "c:\\Users\\Tautvydas\\AppData\\Local\\Programs\\Python\\Python312\\Lib\\site-packages\\scipy\\signal\\_signaltools.py:1647: RuntimeWarning: invalid value encountered in multiply\n",
      "  res *= (1 - noise / lVar)\n",
      "c:\\Users\\Tautvydas\\AppData\\Local\\Programs\\Python\\Python312\\Lib\\site-packages\\scipy\\signal\\_signaltools.py:1647: RuntimeWarning: divide by zero encountered in divide\n",
      "  res *= (1 - noise / lVar)\n",
      "c:\\Users\\Tautvydas\\AppData\\Local\\Programs\\Python\\Python312\\Lib\\site-packages\\scipy\\signal\\_signaltools.py:1647: RuntimeWarning: invalid value encountered in multiply\n",
      "  res *= (1 - noise / lVar)\n",
      "c:\\Users\\Tautvydas\\AppData\\Local\\Programs\\Python\\Python312\\Lib\\site-packages\\scipy\\signal\\_signaltools.py:1647: RuntimeWarning: divide by zero encountered in divide\n",
      "  res *= (1 - noise / lVar)\n",
      "c:\\Users\\Tautvydas\\AppData\\Local\\Programs\\Python\\Python312\\Lib\\site-packages\\scipy\\signal\\_signaltools.py:1647: RuntimeWarning: invalid value encountered in multiply\n",
      "  res *= (1 - noise / lVar)\n"
     ]
    }
   ],
   "source": [
    "for i in range (1,11):\n",
    "    test=i\n",
    "    input_path='Tiffs_Validation'\n",
    "    input_tiff=f'Video{test}.tif'\n",
    "    params={\n",
    "        'r_in':3,\n",
    "        'r_out':7,\n",
    "        'ring_index':1,\n",
    "        'allowed_change':1,\n",
    "        'input_path':input_path,\n",
    "        'input_tiff':input_tiff,\n",
    "        'output_base_path':f'Results_Validation/Video{test}'\n",
    "    }\n",
    "    try:\n",
    "        wiener_filter(**params)\n",
    "    except Exception as e:\n",
    "        print(e)\n",
    "        continue\n",
    "for i in range (1,11):\n",
    "    test=i\n",
    "    input_path='Tiffs_Validation'\n",
    "    input_tiff=f'Video{test}.tif'\n",
    "    params={\n",
    "        'r_in':6,\n",
    "        'r_out':9,\n",
    "        'ring_index':2,\n",
    "        'allowed_change':1,\n",
    "        'input_path':input_path,\n",
    "        'input_tiff':input_tiff,\n",
    "        'output_base_path':f'Results_Validation/Video{test}'\n",
    "    }\n",
    "    try:\n",
    "        wiener_filter(**params)\n",
    "    except Exception as e:\n",
    "        continue\n",
    "for i in range (1,11):\n",
    "    test=i\n",
    "    input_path='Tiffs_Validation'\n",
    "    input_tiff=f'Video{test}.tif'\n",
    "    params={\n",
    "        'r_in':6,\n",
    "        'r_out':9,\n",
    "        'ring_index':1,\n",
    "        'allowed_change':1,\n",
    "        'input_path':input_path,\n",
    "        'input_tiff':input_tiff,\n",
    "        'output_base_path':f'Results_Validation/Video{test}'\n",
    "    }\n",
    "    try:\n",
    "        wiener_filter(**params)\n",
    "    except Exception as e:\n",
    "        continue\n",
    "for i in range (1,11):\n",
    "    test=i\n",
    "    input_path='Tiffs_Validation'\n",
    "    input_tiff=f'Video{test}.tif'\n",
    "    params={\n",
    "        'r_in':3,\n",
    "        'r_out':7,\n",
    "        'ring_index':2,\n",
    "        'allowed_change':1,\n",
    "        'input_path':input_path,\n",
    "        'input_tiff':input_tiff,\n",
    "        'output_base_path':f'Results_Validation/Video{test}'\n",
    "    }\n",
    "    try:\n",
    "        wiener_filter(**params)\n",
    "    except Exception as e:\n",
    "        continue"
   ]
  },
  {
   "cell_type": "code",
   "execution_count": 18,
   "metadata": {},
   "outputs": [],
   "source": [
    "def post_processing2(r_in,r_out,ring_index,allowed_change,input_path,input_tiff,output_base_path):\n",
    "    movement_threshold = 50\n",
    "    trend_threshold = 3\n",
    "    cross_length = 10\n",
    "\n",
    "    output_path = Path(output_base_path) / Path(input_tiff).stem\n",
    "    output_path.mkdir(parents=True, exist_ok=True)\n",
    "    test_number = input_tiff.split('.')[0]\n",
    "\n",
    "    result_folder = f\"Results_Validation/{test_number}/\" + Path(input_tiff).stem + f\"_Results_bw{r_in}{r_out}_{ring_index}\"\n",
    "    Path(result_folder).mkdir(parents=True, exist_ok=True)\n",
    "\n",
    "    preProcData = pd.read_excel(f'Excels/Video{test_number}_{r_in}{r_out}_{ring_index}.xlsx')\n",
    "\n",
    "    preProcData['diff_center_y'] = preProcData['center_y(ccol)'].diff().abs().fillna(0)\n",
    "    preProcData['diff_center_x'] = preProcData['center_x(crow)'].diff().abs().fillna(0)\n",
    "\n",
    "    preProcData['smooth_center_y(ccol)'] = preProcData['center_y(ccol)'].rolling(window=5).mean()\n",
    "    preProcData['smooth_center_x(crow)'] = preProcData['center_x(crow)'].rolling(window=5).mean()\n",
    "    preProcData['smooth_radius'] = preProcData['circle_radius'].rolling(window=5).mean()\n",
    "\n",
    "    preProcData.fillna(method='bfill', inplace=True)\n",
    "\n",
    "    i = 0\n",
    "    for filename in os.listdir(output_path):\n",
    "        file_path = os.path.join(output_path, filename)\n",
    "        image = cv2.imread(file_path, cv2.IMREAD_GRAYSCALE)\n",
    "\n",
    "        movementNearFramesX = preProcData['diff_center_x'][i:min(i + trend_threshold, len(preProcData))].sum()\n",
    "        movementNearFramesY = preProcData['diff_center_y'][i:min(i + trend_threshold, len(preProcData))].sum()\n",
    "\n",
    "        if (movementNearFramesX + movementNearFramesY) > allowed_change:\n",
    "            ccol = int(preProcData['center_y(ccol)'][i])\n",
    "            crow = int(preProcData['center_x(crow)'][i])\n",
    "        else:\n",
    "            ccol = int(preProcData['smooth_center_y(ccol)'][i])\n",
    "            crow = int(preProcData['smooth_center_x(crow)'][i])\n",
    "\n",
    "        circle_radius = int(preProcData['smooth_radius'][i])\n",
    "\n",
    "        circle_img = draw_circle(image, ccol, crow, circle_radius)\n",
    "        plt.imshow(circle_img, cmap='gray', vmin=0, vmax=255)\n",
    "        plt.savefig(os.path.join(result_folder, f\"result_{filename}.png\"))\n",
    "        i += 1\n",
    "\n",
    "    del image\n",
    "    plt.close('all')\n",
    "    gc.collect()\n"
   ]
  },
  {
   "cell_type": "markdown",
   "metadata": {},
   "source": [
    "### Kalman filter"
   ]
  },
  {
   "cell_type": "code",
   "execution_count": 19,
   "metadata": {},
   "outputs": [],
   "source": [
    "from filterpy.kalman import KalmanFilter\n",
    "def kalman_filter(r_in,r_out,ring_index,allowed_change,input_path,input_tiff,output_base_path):\n",
    "    cross_length = 10 #Center cross\n",
    "\n",
    "    output_path = Path(output_base_path) / Path(input_tiff).stem\n",
    "    output_path.mkdir(parents=True, exist_ok=True)\n",
    "    test_number=input_tiff.split('.')[0]\n",
    "\n",
    "    result_folder = f\"Results_Kalman/{test_number}/\" + Path(input_tiff).stem + f\"_Results_bw{r_in}{r_out}_{ring_index}\"\n",
    "    Path(result_folder).mkdir(parents=True, exist_ok=True)\n",
    "\n",
    "    df=pd.read_excel(f'Excels/Video{test_number}_{r_in}{r_out}_{ring_index}.xlsx')\n",
    "\n",
    "    data=np.array(df.drop('Unnamed: 0',axis=1))\n",
    "    \n",
    "    def initialize_kalman_filter():\n",
    "        kf = KalmanFilter(dim_x=6, dim_z=3)  # 6 for x, y, radius + velocities, 3 for the observed x, y, radius\n",
    "        \n",
    "        # State transition matrix (x, y, radius, vx, vy, vr)\n",
    "        dt = 1  # Time step\n",
    "        kf.F = np.array([[1, 0, 0, dt,  0,  0],  # Position x update\n",
    "                        [0, 1, 0, 0, dt,  0],  # Position y update\n",
    "                        [0, 0, 1, 0,  0, dt],  # Radius update\n",
    "                        [0, 0, 0, 1,  0,  0],  # Velocity x\n",
    "                        [0, 0, 0, 0,  1,  0],  # Velocity y\n",
    "                        [0, 0, 0, 0,  0,  1]]) # Velocity radius\n",
    "        \n",
    "        kf.H = np.array([[1, 0, 0, 0, 0, 0],  # x position\n",
    "                        [0, 1, 0, 0, 0, 0],  # y position\n",
    "                        [0, 0, 1, 0, 0, 0]]) # radius\n",
    "        \n",
    "        # Process noise covariance matrix\n",
    "        kf.Q *= 0.05  # Process noise\n",
    "        \n",
    "        # Measurement noise covariance matrix\n",
    "        kf.R = np.array([[1, 0, 0], \n",
    "                        [0, 1, 0],\n",
    "                        [0, 0, 1]]) * 5  # Measurement noise\n",
    "        \n",
    "        # Covariance matrix\n",
    "        kf.P *= 0.5  # Initial uncertainty\n",
    "        \n",
    "        # Initial state (center_x, center_y, radius, velocity_x, velocity_y, velocity_radius)\n",
    "        kf.x = np.array([data[0, 0], data[0, 1], data[0, 2], 0, 0, 0]) \n",
    "        \n",
    "        return kf\n",
    "    \n",
    "    def apply_kalman_filter(data):\n",
    "        kf = initialize_kalman_filter()\n",
    "        smoothed_data = []\n",
    "        \n",
    "        for i in range(len(data)):\n",
    "            kf.predict()\n",
    "            \n",
    "            # Update the filter with the current measurement\n",
    "            kf.update(data[i])\n",
    "            \n",
    "            smoothed_data.append(kf.x[:3])\n",
    "        \n",
    "        return np.array(smoothed_data)\n",
    "\n",
    "    # Apply the filter to the data\n",
    "    smoothed_data = apply_kalman_filter(data)\n",
    "\n",
    "    i = 0\n",
    "    for filename in os.listdir(output_path):\n",
    "        file_path = os.path.join(output_path, filename)\n",
    "        image = cv2.imread(file_path, cv2.IMREAD_GRAYSCALE)\n",
    "\n",
    "        ccol=int(smoothed_data[:,0][i])\n",
    "        crow=int(smoothed_data[:,1][i])\n",
    "        circle_radius=int(smoothed_data[:,2][i])\n",
    "\n",
    "        # print(f'col - {ccol}, row - {crow}')\n",
    "\n",
    "        circle_img=draw_circle(image,ccol,crow,circle_radius)\n",
    "\n",
    "        plt.imshow(circle_img, cmap='gray', vmin=0, vmax=255)\n",
    "        plt.savefig(os.path.join(result_folder, f\"result_k_{filename}\"))\n",
    "\n",
    "        i+=1\n",
    "        del image\n",
    "        plt.close('all')\n",
    "    gc.collect()\n",
    "    "
   ]
  },
  {
   "cell_type": "code",
   "execution_count": 64,
   "metadata": {},
   "outputs": [
    {
     "name": "stderr",
     "output_type": "stream",
     "text": [
      "C:\\Users\\Tautvydas\\AppData\\Local\\Temp\\ipykernel_14908\\1050432489.py:39: FutureWarning: DataFrame.fillna with 'method' is deprecated and will raise in a future version. Use obj.ffill() or obj.bfill() instead.\n",
      "  preProcData.fillna(method='bfill', inplace=True) # for the beginning\n"
     ]
    },
    {
     "name": "stdout",
     "output_type": "stream",
     "text": [
      "96.94\n"
     ]
    },
    {
     "name": "stderr",
     "output_type": "stream",
     "text": [
      "C:\\Users\\Tautvydas\\AppData\\Local\\Temp\\ipykernel_14908\\1050432489.py:39: FutureWarning: DataFrame.fillna with 'method' is deprecated and will raise in a future version. Use obj.ffill() or obj.bfill() instead.\n",
      "  preProcData.fillna(method='bfill', inplace=True) # for the beginning\n"
     ]
    },
    {
     "name": "stdout",
     "output_type": "stream",
     "text": [
      "27.0\n"
     ]
    },
    {
     "name": "stderr",
     "output_type": "stream",
     "text": [
      "C:\\Users\\Tautvydas\\AppData\\Local\\Temp\\ipykernel_14908\\1050432489.py:39: FutureWarning: DataFrame.fillna with 'method' is deprecated and will raise in a future version. Use obj.ffill() or obj.bfill() instead.\n",
      "  preProcData.fillna(method='bfill', inplace=True) # for the beginning\n"
     ]
    },
    {
     "name": "stdout",
     "output_type": "stream",
     "text": [
      "7.0\n"
     ]
    },
    {
     "name": "stderr",
     "output_type": "stream",
     "text": [
      "C:\\Users\\Tautvydas\\AppData\\Local\\Temp\\ipykernel_14908\\1050432489.py:39: FutureWarning: DataFrame.fillna with 'method' is deprecated and will raise in a future version. Use obj.ffill() or obj.bfill() instead.\n",
      "  preProcData.fillna(method='bfill', inplace=True) # for the beginning\n"
     ]
    },
    {
     "name": "stdout",
     "output_type": "stream",
     "text": [
      "9.97999999999999\n"
     ]
    },
    {
     "name": "stderr",
     "output_type": "stream",
     "text": [
      "C:\\Users\\Tautvydas\\AppData\\Local\\Temp\\ipykernel_14908\\1050432489.py:39: FutureWarning: DataFrame.fillna with 'method' is deprecated and will raise in a future version. Use obj.ffill() or obj.bfill() instead.\n",
      "  preProcData.fillna(method='bfill', inplace=True) # for the beginning\n"
     ]
    },
    {
     "name": "stdout",
     "output_type": "stream",
     "text": [
      "5.0\n"
     ]
    },
    {
     "name": "stderr",
     "output_type": "stream",
     "text": [
      "C:\\Users\\Tautvydas\\AppData\\Local\\Temp\\ipykernel_14908\\1050432489.py:39: FutureWarning: DataFrame.fillna with 'method' is deprecated and will raise in a future version. Use obj.ffill() or obj.bfill() instead.\n",
      "  preProcData.fillna(method='bfill', inplace=True) # for the beginning\n"
     ]
    },
    {
     "name": "stdout",
     "output_type": "stream",
     "text": [
      "28.0\n"
     ]
    },
    {
     "name": "stderr",
     "output_type": "stream",
     "text": [
      "C:\\Users\\Tautvydas\\AppData\\Local\\Temp\\ipykernel_14908\\1050432489.py:39: FutureWarning: DataFrame.fillna with 'method' is deprecated and will raise in a future version. Use obj.ffill() or obj.bfill() instead.\n",
      "  preProcData.fillna(method='bfill', inplace=True) # for the beginning\n"
     ]
    },
    {
     "name": "stdout",
     "output_type": "stream",
     "text": [
      "26.0\n"
     ]
    },
    {
     "name": "stderr",
     "output_type": "stream",
     "text": [
      "C:\\Users\\Tautvydas\\AppData\\Local\\Temp\\ipykernel_14908\\1050432489.py:39: FutureWarning: DataFrame.fillna with 'method' is deprecated and will raise in a future version. Use obj.ffill() or obj.bfill() instead.\n",
      "  preProcData.fillna(method='bfill', inplace=True) # for the beginning\n"
     ]
    },
    {
     "name": "stdout",
     "output_type": "stream",
     "text": [
      "163.99999999999937\n"
     ]
    },
    {
     "name": "stderr",
     "output_type": "stream",
     "text": [
      "C:\\Users\\Tautvydas\\AppData\\Local\\Temp\\ipykernel_14908\\1050432489.py:39: FutureWarning: DataFrame.fillna with 'method' is deprecated and will raise in a future version. Use obj.ffill() or obj.bfill() instead.\n",
      "  preProcData.fillna(method='bfill', inplace=True) # for the beginning\n"
     ]
    },
    {
     "name": "stdout",
     "output_type": "stream",
     "text": [
      "192.97999999999814\n"
     ]
    },
    {
     "name": "stderr",
     "output_type": "stream",
     "text": [
      "C:\\Users\\Tautvydas\\AppData\\Local\\Temp\\ipykernel_14908\\1050432489.py:39: FutureWarning: DataFrame.fillna with 'method' is deprecated and will raise in a future version. Use obj.ffill() or obj.bfill() instead.\n",
      "  preProcData.fillna(method='bfill', inplace=True) # for the beginning\n"
     ]
    },
    {
     "name": "stdout",
     "output_type": "stream",
     "text": [
      "95.97999999999999\n"
     ]
    }
   ],
   "source": [
    "for i in range (1,11):\n",
    "    test=i\n",
    "    input_path='Tiffs_Validation'\n",
    "    input_tiff=f'Video{test}.tif'\n",
    "    params={\n",
    "        'r_in':3,\n",
    "        'r_out':7,\n",
    "        'ring_index':1,\n",
    "        'allowed_change':1,\n",
    "        'input_path':input_path,\n",
    "        'input_tiff':input_tiff,\n",
    "        'output_base_path':f'Results_Validation/Video{test}'\n",
    "    }\n",
    "    try:\n",
    "        post_processing(**params)\n",
    "    except Exception as e:\n",
    "        continue"
   ]
  },
  {
   "cell_type": "code",
   "execution_count": 90,
   "metadata": {},
   "outputs": [
    {
     "name": "stderr",
     "output_type": "stream",
     "text": [
      "c:\\Users\\Tautvydas\\AppData\\Local\\Programs\\Python\\Python312\\Lib\\site-packages\\scipy\\signal\\_signaltools.py:1647: RuntimeWarning: divide by zero encountered in divide\n",
      "  res *= (1 - noise / lVar)\n",
      "c:\\Users\\Tautvydas\\AppData\\Local\\Programs\\Python\\Python312\\Lib\\site-packages\\scipy\\signal\\_signaltools.py:1647: RuntimeWarning: invalid value encountered in multiply\n",
      "  res *= (1 - noise / lVar)\n"
     ]
    }
   ],
   "source": [
    "test=1\n",
    "input_path='Tiffs_Validation'\n",
    "input_tiff=f'Video{test}.tif'\n",
    "params={\n",
    "    'r_in':3,\n",
    "    'r_out':7,\n",
    "    'ring_index':1,\n",
    "    'allowed_change':1,\n",
    "    'input_path':input_path,\n",
    "    'input_tiff':input_tiff,\n",
    "    'output_base_path':f'Results_Validation/Video{test}'\n",
    "}\n",
    "wiener_filter(**params)"
   ]
  },
  {
   "cell_type": "code",
   "execution_count": 82,
   "metadata": {},
   "outputs": [
    {
     "name": "stderr",
     "output_type": "stream",
     "text": [
      "c:\\Users\\Tautvydas\\AppData\\Local\\Programs\\Python\\Python312\\Lib\\site-packages\\scipy\\signal\\_signaltools.py:1647: RuntimeWarning: divide by zero encountered in divide\n",
      "  res *= (1 - noise / lVar)\n",
      "c:\\Users\\Tautvydas\\AppData\\Local\\Programs\\Python\\Python312\\Lib\\site-packages\\scipy\\signal\\_signaltools.py:1647: RuntimeWarning: invalid value encountered in multiply\n",
      "  res *= (1 - noise / lVar)\n",
      "c:\\Users\\Tautvydas\\AppData\\Local\\Programs\\Python\\Python312\\Lib\\site-packages\\scipy\\signal\\_signaltools.py:1647: RuntimeWarning: divide by zero encountered in divide\n",
      "  res *= (1 - noise / lVar)\n",
      "c:\\Users\\Tautvydas\\AppData\\Local\\Programs\\Python\\Python312\\Lib\\site-packages\\scipy\\signal\\_signaltools.py:1647: RuntimeWarning: invalid value encountered in multiply\n",
      "  res *= (1 - noise / lVar)\n",
      "c:\\Users\\Tautvydas\\AppData\\Local\\Programs\\Python\\Python312\\Lib\\site-packages\\scipy\\signal\\_signaltools.py:1647: RuntimeWarning: divide by zero encountered in divide\n",
      "  res *= (1 - noise / lVar)\n",
      "c:\\Users\\Tautvydas\\AppData\\Local\\Programs\\Python\\Python312\\Lib\\site-packages\\scipy\\signal\\_signaltools.py:1647: RuntimeWarning: invalid value encountered in multiply\n",
      "  res *= (1 - noise / lVar)\n",
      "c:\\Users\\Tautvydas\\AppData\\Local\\Programs\\Python\\Python312\\Lib\\site-packages\\scipy\\signal\\_signaltools.py:1647: RuntimeWarning: divide by zero encountered in divide\n",
      "  res *= (1 - noise / lVar)\n",
      "c:\\Users\\Tautvydas\\AppData\\Local\\Programs\\Python\\Python312\\Lib\\site-packages\\scipy\\signal\\_signaltools.py:1647: RuntimeWarning: invalid value encountered in multiply\n",
      "  res *= (1 - noise / lVar)\n",
      "c:\\Users\\Tautvydas\\AppData\\Local\\Programs\\Python\\Python312\\Lib\\site-packages\\scipy\\signal\\_signaltools.py:1647: RuntimeWarning: divide by zero encountered in divide\n",
      "  res *= (1 - noise / lVar)\n",
      "c:\\Users\\Tautvydas\\AppData\\Local\\Programs\\Python\\Python312\\Lib\\site-packages\\scipy\\signal\\_signaltools.py:1647: RuntimeWarning: invalid value encountered in multiply\n",
      "  res *= (1 - noise / lVar)\n",
      "c:\\Users\\Tautvydas\\AppData\\Local\\Programs\\Python\\Python312\\Lib\\site-packages\\scipy\\signal\\_signaltools.py:1647: RuntimeWarning: divide by zero encountered in divide\n",
      "  res *= (1 - noise / lVar)\n",
      "c:\\Users\\Tautvydas\\AppData\\Local\\Programs\\Python\\Python312\\Lib\\site-packages\\scipy\\signal\\_signaltools.py:1647: RuntimeWarning: invalid value encountered in multiply\n",
      "  res *= (1 - noise / lVar)\n",
      "c:\\Users\\Tautvydas\\AppData\\Local\\Programs\\Python\\Python312\\Lib\\site-packages\\scipy\\signal\\_signaltools.py:1647: RuntimeWarning: divide by zero encountered in divide\n",
      "  res *= (1 - noise / lVar)\n",
      "c:\\Users\\Tautvydas\\AppData\\Local\\Programs\\Python\\Python312\\Lib\\site-packages\\scipy\\signal\\_signaltools.py:1647: RuntimeWarning: invalid value encountered in multiply\n",
      "  res *= (1 - noise / lVar)\n",
      "c:\\Users\\Tautvydas\\AppData\\Local\\Programs\\Python\\Python312\\Lib\\site-packages\\scipy\\signal\\_signaltools.py:1647: RuntimeWarning: divide by zero encountered in divide\n",
      "  res *= (1 - noise / lVar)\n",
      "c:\\Users\\Tautvydas\\AppData\\Local\\Programs\\Python\\Python312\\Lib\\site-packages\\scipy\\signal\\_signaltools.py:1647: RuntimeWarning: invalid value encountered in multiply\n",
      "  res *= (1 - noise / lVar)\n",
      "c:\\Users\\Tautvydas\\AppData\\Local\\Programs\\Python\\Python312\\Lib\\site-packages\\scipy\\signal\\_signaltools.py:1647: RuntimeWarning: divide by zero encountered in divide\n",
      "  res *= (1 - noise / lVar)\n",
      "c:\\Users\\Tautvydas\\AppData\\Local\\Programs\\Python\\Python312\\Lib\\site-packages\\scipy\\signal\\_signaltools.py:1647: RuntimeWarning: invalid value encountered in multiply\n",
      "  res *= (1 - noise / lVar)\n"
     ]
    }
   ],
   "source": [
    "for i in range (1,11):\n",
    "    test=i\n",
    "    input_path='Tiffs_Validation'\n",
    "    input_tiff=f'Video{test}.tif'\n",
    "    params={\n",
    "        'r_in':6,\n",
    "        'r_out':9,\n",
    "        'ring_index':2,\n",
    "        'allowed_change':1,\n",
    "        'input_path':input_path,\n",
    "        'input_tiff':input_tiff,\n",
    "        'output_base_path':f'Results_Validation/Video{test}'\n",
    "    }\n",
    "    try:\n",
    "        wiener_filter(**params)\n",
    "    except Exception as e:\n",
    "        continue"
   ]
  },
  {
   "cell_type": "code",
   "execution_count": 60,
   "metadata": {},
   "outputs": [
    {
     "name": "stdout",
     "output_type": "stream",
     "text": [
      "      center_x(crow)  center_y(ccol)  circle_radius\n",
      "0             146.02          141.04           36.0\n",
      "1             146.04          141.08           36.0\n",
      "2             146.06          141.12           36.0\n",
      "3             146.08          141.16           36.0\n",
      "4             146.10          141.20           36.0\n",
      "...              ...             ...            ...\n",
      "2494          146.00          142.00           36.0\n",
      "2495          146.00          142.00           36.0\n",
      "2496          146.00          142.00           36.0\n",
      "2497          146.00          142.00           36.0\n",
      "2498          146.00          142.00           36.0\n",
      "\n",
      "[2499 rows x 3 columns]\n",
      "96.94\n"
     ]
    },
    {
     "name": "stderr",
     "output_type": "stream",
     "text": [
      "C:\\Users\\Tautvydas\\AppData\\Local\\Temp\\ipykernel_14908\\4163287104.py:40: FutureWarning: DataFrame.fillna with 'method' is deprecated and will raise in a future version. Use obj.ffill() or obj.bfill() instead.\n",
      "  preProcData.fillna(method='bfill', inplace=True) # for the beginning\n"
     ]
    },
    {
     "ename": "KeyboardInterrupt",
     "evalue": "",
     "output_type": "error",
     "traceback": [
      "\u001b[1;31m---------------------------------------------------------------------------\u001b[0m",
      "\u001b[1;31mKeyboardInterrupt\u001b[0m                         Traceback (most recent call last)",
      "Cell \u001b[1;32mIn[60], line 13\u001b[0m\n\u001b[0;32m      3\u001b[0m input_tiff\u001b[38;5;241m=\u001b[39m\u001b[38;5;124mf\u001b[39m\u001b[38;5;124m'\u001b[39m\u001b[38;5;124mVideo\u001b[39m\u001b[38;5;132;01m{\u001b[39;00mtest\u001b[38;5;132;01m}\u001b[39;00m\u001b[38;5;124m.tif\u001b[39m\u001b[38;5;124m'\u001b[39m\n\u001b[0;32m      4\u001b[0m params\u001b[38;5;241m=\u001b[39m{\n\u001b[0;32m      5\u001b[0m     \u001b[38;5;124m'\u001b[39m\u001b[38;5;124mr_in\u001b[39m\u001b[38;5;124m'\u001b[39m:\u001b[38;5;241m3\u001b[39m,\n\u001b[0;32m      6\u001b[0m     \u001b[38;5;124m'\u001b[39m\u001b[38;5;124mr_out\u001b[39m\u001b[38;5;124m'\u001b[39m:\u001b[38;5;241m7\u001b[39m,\n\u001b[1;32m   (...)\u001b[0m\n\u001b[0;32m     11\u001b[0m     \u001b[38;5;124m'\u001b[39m\u001b[38;5;124moutput_base_path\u001b[39m\u001b[38;5;124m'\u001b[39m:\u001b[38;5;124mf\u001b[39m\u001b[38;5;124m'\u001b[39m\u001b[38;5;124mResults_Validation/Video\u001b[39m\u001b[38;5;132;01m{\u001b[39;00mtest\u001b[38;5;132;01m}\u001b[39;00m\u001b[38;5;124m'\u001b[39m    \n\u001b[0;32m     12\u001b[0m }\n\u001b[1;32m---> 13\u001b[0m \u001b[43mpost_processing\u001b[49m\u001b[43m(\u001b[49m\u001b[38;5;241;43m*\u001b[39;49m\u001b[38;5;241;43m*\u001b[39;49m\u001b[43mparams\u001b[49m\u001b[43m)\u001b[49m\n",
      "Cell \u001b[1;32mIn[59], line 94\u001b[0m, in \u001b[0;36mpost_processing\u001b[1;34m(r_in, r_out, ring_index, allowed_change, input_path, input_tiff, output_base_path, interpolationP)\u001b[0m\n\u001b[0;32m     91\u001b[0m circle_img\u001b[38;5;241m=\u001b[39mdraw_circle(image,ccol,crow,circle_radius)\n\u001b[0;32m     93\u001b[0m plt\u001b[38;5;241m.\u001b[39mimshow(circle_img, cmap\u001b[38;5;241m=\u001b[39m\u001b[38;5;124m'\u001b[39m\u001b[38;5;124mgray\u001b[39m\u001b[38;5;124m'\u001b[39m, vmin\u001b[38;5;241m=\u001b[39m\u001b[38;5;241m0\u001b[39m, vmax\u001b[38;5;241m=\u001b[39m\u001b[38;5;241m255\u001b[39m)\n\u001b[1;32m---> 94\u001b[0m \u001b[43mplt\u001b[49m\u001b[38;5;241;43m.\u001b[39;49m\u001b[43msavefig\u001b[49m\u001b[43m(\u001b[49m\u001b[43mos\u001b[49m\u001b[38;5;241;43m.\u001b[39;49m\u001b[43mpath\u001b[49m\u001b[38;5;241;43m.\u001b[39;49m\u001b[43mjoin\u001b[49m\u001b[43m(\u001b[49m\u001b[43mresult_folder\u001b[49m\u001b[43m,\u001b[49m\u001b[43m \u001b[49m\u001b[38;5;124;43mf\u001b[39;49m\u001b[38;5;124;43m\"\u001b[39;49m\u001b[38;5;124;43mresult_\u001b[39;49m\u001b[38;5;132;43;01m{\u001b[39;49;00m\u001b[43mfilename\u001b[49m\u001b[38;5;132;43;01m}\u001b[39;49;00m\u001b[38;5;124;43m\"\u001b[39;49m\u001b[43m)\u001b[49m\u001b[43m)\u001b[49m\n\u001b[0;32m     95\u001b[0m \u001b[38;5;66;03m# plt.show()\u001b[39;00m\n\u001b[0;32m     96\u001b[0m i\u001b[38;5;241m+\u001b[39m\u001b[38;5;241m=\u001b[39m\u001b[38;5;241m50\u001b[39m\n",
      "File \u001b[1;32mc:\\Users\\Tautvydas\\AppData\\Local\\Programs\\Python\\Python312\\Lib\\site-packages\\matplotlib\\pyplot.py:1228\u001b[0m, in \u001b[0;36msavefig\u001b[1;34m(*args, **kwargs)\u001b[0m\n\u001b[0;32m   1225\u001b[0m fig \u001b[38;5;241m=\u001b[39m gcf()\n\u001b[0;32m   1226\u001b[0m \u001b[38;5;66;03m# savefig default implementation has no return, so mypy is unhappy\u001b[39;00m\n\u001b[0;32m   1227\u001b[0m \u001b[38;5;66;03m# presumably this is here because subclasses can return?\u001b[39;00m\n\u001b[1;32m-> 1228\u001b[0m res \u001b[38;5;241m=\u001b[39m \u001b[43mfig\u001b[49m\u001b[38;5;241;43m.\u001b[39;49m\u001b[43msavefig\u001b[49m\u001b[43m(\u001b[49m\u001b[38;5;241;43m*\u001b[39;49m\u001b[43margs\u001b[49m\u001b[43m,\u001b[49m\u001b[43m \u001b[49m\u001b[38;5;241;43m*\u001b[39;49m\u001b[38;5;241;43m*\u001b[39;49m\u001b[43mkwargs\u001b[49m\u001b[43m)\u001b[49m  \u001b[38;5;66;03m# type: ignore[func-returns-value]\u001b[39;00m\n\u001b[0;32m   1229\u001b[0m fig\u001b[38;5;241m.\u001b[39mcanvas\u001b[38;5;241m.\u001b[39mdraw_idle()  \u001b[38;5;66;03m# Need this if 'transparent=True', to reset colors.\u001b[39;00m\n\u001b[0;32m   1230\u001b[0m \u001b[38;5;28;01mreturn\u001b[39;00m res\n",
      "File \u001b[1;32mc:\\Users\\Tautvydas\\AppData\\Local\\Programs\\Python\\Python312\\Lib\\site-packages\\matplotlib\\figure.py:3395\u001b[0m, in \u001b[0;36mFigure.savefig\u001b[1;34m(self, fname, transparent, **kwargs)\u001b[0m\n\u001b[0;32m   3393\u001b[0m     \u001b[38;5;28;01mfor\u001b[39;00m ax \u001b[38;5;129;01min\u001b[39;00m \u001b[38;5;28mself\u001b[39m\u001b[38;5;241m.\u001b[39maxes:\n\u001b[0;32m   3394\u001b[0m         _recursively_make_axes_transparent(stack, ax)\n\u001b[1;32m-> 3395\u001b[0m \u001b[38;5;28;43mself\u001b[39;49m\u001b[38;5;241;43m.\u001b[39;49m\u001b[43mcanvas\u001b[49m\u001b[38;5;241;43m.\u001b[39;49m\u001b[43mprint_figure\u001b[49m\u001b[43m(\u001b[49m\u001b[43mfname\u001b[49m\u001b[43m,\u001b[49m\u001b[43m \u001b[49m\u001b[38;5;241;43m*\u001b[39;49m\u001b[38;5;241;43m*\u001b[39;49m\u001b[43mkwargs\u001b[49m\u001b[43m)\u001b[49m\n",
      "File \u001b[1;32mc:\\Users\\Tautvydas\\AppData\\Local\\Programs\\Python\\Python312\\Lib\\site-packages\\matplotlib\\backend_bases.py:2204\u001b[0m, in \u001b[0;36mFigureCanvasBase.print_figure\u001b[1;34m(self, filename, dpi, facecolor, edgecolor, orientation, format, bbox_inches, pad_inches, bbox_extra_artists, backend, **kwargs)\u001b[0m\n\u001b[0;32m   2200\u001b[0m \u001b[38;5;28;01mtry\u001b[39;00m:\n\u001b[0;32m   2201\u001b[0m     \u001b[38;5;66;03m# _get_renderer may change the figure dpi (as vector formats\u001b[39;00m\n\u001b[0;32m   2202\u001b[0m     \u001b[38;5;66;03m# force the figure dpi to 72), so we need to set it again here.\u001b[39;00m\n\u001b[0;32m   2203\u001b[0m     \u001b[38;5;28;01mwith\u001b[39;00m cbook\u001b[38;5;241m.\u001b[39m_setattr_cm(\u001b[38;5;28mself\u001b[39m\u001b[38;5;241m.\u001b[39mfigure, dpi\u001b[38;5;241m=\u001b[39mdpi):\n\u001b[1;32m-> 2204\u001b[0m         result \u001b[38;5;241m=\u001b[39m \u001b[43mprint_method\u001b[49m\u001b[43m(\u001b[49m\n\u001b[0;32m   2205\u001b[0m \u001b[43m            \u001b[49m\u001b[43mfilename\u001b[49m\u001b[43m,\u001b[49m\n\u001b[0;32m   2206\u001b[0m \u001b[43m            \u001b[49m\u001b[43mfacecolor\u001b[49m\u001b[38;5;241;43m=\u001b[39;49m\u001b[43mfacecolor\u001b[49m\u001b[43m,\u001b[49m\n\u001b[0;32m   2207\u001b[0m \u001b[43m            \u001b[49m\u001b[43medgecolor\u001b[49m\u001b[38;5;241;43m=\u001b[39;49m\u001b[43medgecolor\u001b[49m\u001b[43m,\u001b[49m\n\u001b[0;32m   2208\u001b[0m \u001b[43m            \u001b[49m\u001b[43morientation\u001b[49m\u001b[38;5;241;43m=\u001b[39;49m\u001b[43morientation\u001b[49m\u001b[43m,\u001b[49m\n\u001b[0;32m   2209\u001b[0m \u001b[43m            \u001b[49m\u001b[43mbbox_inches_restore\u001b[49m\u001b[38;5;241;43m=\u001b[39;49m\u001b[43m_bbox_inches_restore\u001b[49m\u001b[43m,\u001b[49m\n\u001b[0;32m   2210\u001b[0m \u001b[43m            \u001b[49m\u001b[38;5;241;43m*\u001b[39;49m\u001b[38;5;241;43m*\u001b[39;49m\u001b[43mkwargs\u001b[49m\u001b[43m)\u001b[49m\n\u001b[0;32m   2211\u001b[0m \u001b[38;5;28;01mfinally\u001b[39;00m:\n\u001b[0;32m   2212\u001b[0m     \u001b[38;5;28;01mif\u001b[39;00m bbox_inches \u001b[38;5;129;01mand\u001b[39;00m restore_bbox:\n",
      "File \u001b[1;32mc:\\Users\\Tautvydas\\AppData\\Local\\Programs\\Python\\Python312\\Lib\\site-packages\\matplotlib\\backend_bases.py:2054\u001b[0m, in \u001b[0;36mFigureCanvasBase._switch_canvas_and_return_print_method.<locals>.<lambda>\u001b[1;34m(*args, **kwargs)\u001b[0m\n\u001b[0;32m   2050\u001b[0m     optional_kws \u001b[38;5;241m=\u001b[39m {  \u001b[38;5;66;03m# Passed by print_figure for other renderers.\u001b[39;00m\n\u001b[0;32m   2051\u001b[0m         \u001b[38;5;124m\"\u001b[39m\u001b[38;5;124mdpi\u001b[39m\u001b[38;5;124m\"\u001b[39m, \u001b[38;5;124m\"\u001b[39m\u001b[38;5;124mfacecolor\u001b[39m\u001b[38;5;124m\"\u001b[39m, \u001b[38;5;124m\"\u001b[39m\u001b[38;5;124medgecolor\u001b[39m\u001b[38;5;124m\"\u001b[39m, \u001b[38;5;124m\"\u001b[39m\u001b[38;5;124morientation\u001b[39m\u001b[38;5;124m\"\u001b[39m,\n\u001b[0;32m   2052\u001b[0m         \u001b[38;5;124m\"\u001b[39m\u001b[38;5;124mbbox_inches_restore\u001b[39m\u001b[38;5;124m\"\u001b[39m}\n\u001b[0;32m   2053\u001b[0m     skip \u001b[38;5;241m=\u001b[39m optional_kws \u001b[38;5;241m-\u001b[39m {\u001b[38;5;241m*\u001b[39minspect\u001b[38;5;241m.\u001b[39msignature(meth)\u001b[38;5;241m.\u001b[39mparameters}\n\u001b[1;32m-> 2054\u001b[0m     print_method \u001b[38;5;241m=\u001b[39m functools\u001b[38;5;241m.\u001b[39mwraps(meth)(\u001b[38;5;28;01mlambda\u001b[39;00m \u001b[38;5;241m*\u001b[39margs, \u001b[38;5;241m*\u001b[39m\u001b[38;5;241m*\u001b[39mkwargs: \u001b[43mmeth\u001b[49m\u001b[43m(\u001b[49m\n\u001b[0;32m   2055\u001b[0m \u001b[43m        \u001b[49m\u001b[38;5;241;43m*\u001b[39;49m\u001b[43margs\u001b[49m\u001b[43m,\u001b[49m\u001b[43m \u001b[49m\u001b[38;5;241;43m*\u001b[39;49m\u001b[38;5;241;43m*\u001b[39;49m\u001b[43m{\u001b[49m\u001b[43mk\u001b[49m\u001b[43m:\u001b[49m\u001b[43m \u001b[49m\u001b[43mv\u001b[49m\u001b[43m \u001b[49m\u001b[38;5;28;43;01mfor\u001b[39;49;00m\u001b[43m \u001b[49m\u001b[43mk\u001b[49m\u001b[43m,\u001b[49m\u001b[43m \u001b[49m\u001b[43mv\u001b[49m\u001b[43m \u001b[49m\u001b[38;5;129;43;01min\u001b[39;49;00m\u001b[43m \u001b[49m\u001b[43mkwargs\u001b[49m\u001b[38;5;241;43m.\u001b[39;49m\u001b[43mitems\u001b[49m\u001b[43m(\u001b[49m\u001b[43m)\u001b[49m\u001b[43m \u001b[49m\u001b[38;5;28;43;01mif\u001b[39;49;00m\u001b[43m \u001b[49m\u001b[43mk\u001b[49m\u001b[43m \u001b[49m\u001b[38;5;129;43;01mnot\u001b[39;49;00m\u001b[43m \u001b[49m\u001b[38;5;129;43;01min\u001b[39;49;00m\u001b[43m \u001b[49m\u001b[43mskip\u001b[49m\u001b[43m}\u001b[49m\u001b[43m)\u001b[49m)\n\u001b[0;32m   2056\u001b[0m \u001b[38;5;28;01melse\u001b[39;00m:  \u001b[38;5;66;03m# Let third-parties do as they see fit.\u001b[39;00m\n\u001b[0;32m   2057\u001b[0m     print_method \u001b[38;5;241m=\u001b[39m meth\n",
      "File \u001b[1;32mc:\\Users\\Tautvydas\\AppData\\Local\\Programs\\Python\\Python312\\Lib\\site-packages\\matplotlib\\backends\\backend_agg.py:496\u001b[0m, in \u001b[0;36mFigureCanvasAgg.print_png\u001b[1;34m(self, filename_or_obj, metadata, pil_kwargs)\u001b[0m\n\u001b[0;32m    449\u001b[0m \u001b[38;5;28;01mdef\u001b[39;00m \u001b[38;5;21mprint_png\u001b[39m(\u001b[38;5;28mself\u001b[39m, filename_or_obj, \u001b[38;5;241m*\u001b[39m, metadata\u001b[38;5;241m=\u001b[39m\u001b[38;5;28;01mNone\u001b[39;00m, pil_kwargs\u001b[38;5;241m=\u001b[39m\u001b[38;5;28;01mNone\u001b[39;00m):\n\u001b[0;32m    450\u001b[0m \u001b[38;5;250m    \u001b[39m\u001b[38;5;124;03m\"\"\"\u001b[39;00m\n\u001b[0;32m    451\u001b[0m \u001b[38;5;124;03m    Write the figure to a PNG file.\u001b[39;00m\n\u001b[0;32m    452\u001b[0m \n\u001b[1;32m   (...)\u001b[0m\n\u001b[0;32m    494\u001b[0m \u001b[38;5;124;03m        *metadata*, including the default 'Software' key.\u001b[39;00m\n\u001b[0;32m    495\u001b[0m \u001b[38;5;124;03m    \"\"\"\u001b[39;00m\n\u001b[1;32m--> 496\u001b[0m     \u001b[38;5;28;43mself\u001b[39;49m\u001b[38;5;241;43m.\u001b[39;49m\u001b[43m_print_pil\u001b[49m\u001b[43m(\u001b[49m\u001b[43mfilename_or_obj\u001b[49m\u001b[43m,\u001b[49m\u001b[43m \u001b[49m\u001b[38;5;124;43m\"\u001b[39;49m\u001b[38;5;124;43mpng\u001b[39;49m\u001b[38;5;124;43m\"\u001b[39;49m\u001b[43m,\u001b[49m\u001b[43m \u001b[49m\u001b[43mpil_kwargs\u001b[49m\u001b[43m,\u001b[49m\u001b[43m \u001b[49m\u001b[43mmetadata\u001b[49m\u001b[43m)\u001b[49m\n",
      "File \u001b[1;32mc:\\Users\\Tautvydas\\AppData\\Local\\Programs\\Python\\Python312\\Lib\\site-packages\\matplotlib\\backends\\backend_agg.py:444\u001b[0m, in \u001b[0;36mFigureCanvasAgg._print_pil\u001b[1;34m(self, filename_or_obj, fmt, pil_kwargs, metadata)\u001b[0m\n\u001b[0;32m    439\u001b[0m \u001b[38;5;28;01mdef\u001b[39;00m \u001b[38;5;21m_print_pil\u001b[39m(\u001b[38;5;28mself\u001b[39m, filename_or_obj, fmt, pil_kwargs, metadata\u001b[38;5;241m=\u001b[39m\u001b[38;5;28;01mNone\u001b[39;00m):\n\u001b[0;32m    440\u001b[0m \u001b[38;5;250m    \u001b[39m\u001b[38;5;124;03m\"\"\"\u001b[39;00m\n\u001b[0;32m    441\u001b[0m \u001b[38;5;124;03m    Draw the canvas, then save it using `.image.imsave` (to which\u001b[39;00m\n\u001b[0;32m    442\u001b[0m \u001b[38;5;124;03m    *pil_kwargs* and *metadata* are forwarded).\u001b[39;00m\n\u001b[0;32m    443\u001b[0m \u001b[38;5;124;03m    \"\"\"\u001b[39;00m\n\u001b[1;32m--> 444\u001b[0m     \u001b[43mFigureCanvasAgg\u001b[49m\u001b[38;5;241;43m.\u001b[39;49m\u001b[43mdraw\u001b[49m\u001b[43m(\u001b[49m\u001b[38;5;28;43mself\u001b[39;49m\u001b[43m)\u001b[49m\n\u001b[0;32m    445\u001b[0m     mpl\u001b[38;5;241m.\u001b[39mimage\u001b[38;5;241m.\u001b[39mimsave(\n\u001b[0;32m    446\u001b[0m         filename_or_obj, \u001b[38;5;28mself\u001b[39m\u001b[38;5;241m.\u001b[39mbuffer_rgba(), \u001b[38;5;28mformat\u001b[39m\u001b[38;5;241m=\u001b[39mfmt, origin\u001b[38;5;241m=\u001b[39m\u001b[38;5;124m\"\u001b[39m\u001b[38;5;124mupper\u001b[39m\u001b[38;5;124m\"\u001b[39m,\n\u001b[0;32m    447\u001b[0m         dpi\u001b[38;5;241m=\u001b[39m\u001b[38;5;28mself\u001b[39m\u001b[38;5;241m.\u001b[39mfigure\u001b[38;5;241m.\u001b[39mdpi, metadata\u001b[38;5;241m=\u001b[39mmetadata, pil_kwargs\u001b[38;5;241m=\u001b[39mpil_kwargs)\n",
      "File \u001b[1;32mc:\\Users\\Tautvydas\\AppData\\Local\\Programs\\Python\\Python312\\Lib\\site-packages\\matplotlib\\backends\\backend_agg.py:387\u001b[0m, in \u001b[0;36mFigureCanvasAgg.draw\u001b[1;34m(self)\u001b[0m\n\u001b[0;32m    384\u001b[0m \u001b[38;5;66;03m# Acquire a lock on the shared font cache.\u001b[39;00m\n\u001b[0;32m    385\u001b[0m \u001b[38;5;28;01mwith\u001b[39;00m (\u001b[38;5;28mself\u001b[39m\u001b[38;5;241m.\u001b[39mtoolbar\u001b[38;5;241m.\u001b[39m_wait_cursor_for_draw_cm() \u001b[38;5;28;01mif\u001b[39;00m \u001b[38;5;28mself\u001b[39m\u001b[38;5;241m.\u001b[39mtoolbar\n\u001b[0;32m    386\u001b[0m       \u001b[38;5;28;01melse\u001b[39;00m nullcontext()):\n\u001b[1;32m--> 387\u001b[0m     \u001b[38;5;28;43mself\u001b[39;49m\u001b[38;5;241;43m.\u001b[39;49m\u001b[43mfigure\u001b[49m\u001b[38;5;241;43m.\u001b[39;49m\u001b[43mdraw\u001b[49m\u001b[43m(\u001b[49m\u001b[38;5;28;43mself\u001b[39;49m\u001b[38;5;241;43m.\u001b[39;49m\u001b[43mrenderer\u001b[49m\u001b[43m)\u001b[49m\n\u001b[0;32m    388\u001b[0m     \u001b[38;5;66;03m# A GUI class may be need to update a window using this draw, so\u001b[39;00m\n\u001b[0;32m    389\u001b[0m     \u001b[38;5;66;03m# don't forget to call the superclass.\u001b[39;00m\n\u001b[0;32m    390\u001b[0m     \u001b[38;5;28msuper\u001b[39m()\u001b[38;5;241m.\u001b[39mdraw()\n",
      "File \u001b[1;32mc:\\Users\\Tautvydas\\AppData\\Local\\Programs\\Python\\Python312\\Lib\\site-packages\\matplotlib\\artist.py:95\u001b[0m, in \u001b[0;36m_finalize_rasterization.<locals>.draw_wrapper\u001b[1;34m(artist, renderer, *args, **kwargs)\u001b[0m\n\u001b[0;32m     93\u001b[0m \u001b[38;5;129m@wraps\u001b[39m(draw)\n\u001b[0;32m     94\u001b[0m \u001b[38;5;28;01mdef\u001b[39;00m \u001b[38;5;21mdraw_wrapper\u001b[39m(artist, renderer, \u001b[38;5;241m*\u001b[39margs, \u001b[38;5;241m*\u001b[39m\u001b[38;5;241m*\u001b[39mkwargs):\n\u001b[1;32m---> 95\u001b[0m     result \u001b[38;5;241m=\u001b[39m \u001b[43mdraw\u001b[49m\u001b[43m(\u001b[49m\u001b[43martist\u001b[49m\u001b[43m,\u001b[49m\u001b[43m \u001b[49m\u001b[43mrenderer\u001b[49m\u001b[43m,\u001b[49m\u001b[43m \u001b[49m\u001b[38;5;241;43m*\u001b[39;49m\u001b[43margs\u001b[49m\u001b[43m,\u001b[49m\u001b[43m \u001b[49m\u001b[38;5;241;43m*\u001b[39;49m\u001b[38;5;241;43m*\u001b[39;49m\u001b[43mkwargs\u001b[49m\u001b[43m)\u001b[49m\n\u001b[0;32m     96\u001b[0m     \u001b[38;5;28;01mif\u001b[39;00m renderer\u001b[38;5;241m.\u001b[39m_rasterizing:\n\u001b[0;32m     97\u001b[0m         renderer\u001b[38;5;241m.\u001b[39mstop_rasterizing()\n",
      "File \u001b[1;32mc:\\Users\\Tautvydas\\AppData\\Local\\Programs\\Python\\Python312\\Lib\\site-packages\\matplotlib\\artist.py:72\u001b[0m, in \u001b[0;36mallow_rasterization.<locals>.draw_wrapper\u001b[1;34m(artist, renderer)\u001b[0m\n\u001b[0;32m     69\u001b[0m     \u001b[38;5;28;01mif\u001b[39;00m artist\u001b[38;5;241m.\u001b[39mget_agg_filter() \u001b[38;5;129;01mis\u001b[39;00m \u001b[38;5;129;01mnot\u001b[39;00m \u001b[38;5;28;01mNone\u001b[39;00m:\n\u001b[0;32m     70\u001b[0m         renderer\u001b[38;5;241m.\u001b[39mstart_filter()\n\u001b[1;32m---> 72\u001b[0m     \u001b[38;5;28;01mreturn\u001b[39;00m \u001b[43mdraw\u001b[49m\u001b[43m(\u001b[49m\u001b[43martist\u001b[49m\u001b[43m,\u001b[49m\u001b[43m \u001b[49m\u001b[43mrenderer\u001b[49m\u001b[43m)\u001b[49m\n\u001b[0;32m     73\u001b[0m \u001b[38;5;28;01mfinally\u001b[39;00m:\n\u001b[0;32m     74\u001b[0m     \u001b[38;5;28;01mif\u001b[39;00m artist\u001b[38;5;241m.\u001b[39mget_agg_filter() \u001b[38;5;129;01mis\u001b[39;00m \u001b[38;5;129;01mnot\u001b[39;00m \u001b[38;5;28;01mNone\u001b[39;00m:\n",
      "File \u001b[1;32mc:\\Users\\Tautvydas\\AppData\\Local\\Programs\\Python\\Python312\\Lib\\site-packages\\matplotlib\\figure.py:3162\u001b[0m, in \u001b[0;36mFigure.draw\u001b[1;34m(self, renderer)\u001b[0m\n\u001b[0;32m   3159\u001b[0m             \u001b[38;5;66;03m# ValueError can occur when resizing a window.\u001b[39;00m\n\u001b[0;32m   3161\u001b[0m     \u001b[38;5;28mself\u001b[39m\u001b[38;5;241m.\u001b[39mpatch\u001b[38;5;241m.\u001b[39mdraw(renderer)\n\u001b[1;32m-> 3162\u001b[0m     \u001b[43mmimage\u001b[49m\u001b[38;5;241;43m.\u001b[39;49m\u001b[43m_draw_list_compositing_images\u001b[49m\u001b[43m(\u001b[49m\n\u001b[0;32m   3163\u001b[0m \u001b[43m        \u001b[49m\u001b[43mrenderer\u001b[49m\u001b[43m,\u001b[49m\u001b[43m \u001b[49m\u001b[38;5;28;43mself\u001b[39;49m\u001b[43m,\u001b[49m\u001b[43m \u001b[49m\u001b[43martists\u001b[49m\u001b[43m,\u001b[49m\u001b[43m \u001b[49m\u001b[38;5;28;43mself\u001b[39;49m\u001b[38;5;241;43m.\u001b[39;49m\u001b[43msuppressComposite\u001b[49m\u001b[43m)\u001b[49m\n\u001b[0;32m   3165\u001b[0m     renderer\u001b[38;5;241m.\u001b[39mclose_group(\u001b[38;5;124m'\u001b[39m\u001b[38;5;124mfigure\u001b[39m\u001b[38;5;124m'\u001b[39m)\n\u001b[0;32m   3166\u001b[0m \u001b[38;5;28;01mfinally\u001b[39;00m:\n",
      "File \u001b[1;32mc:\\Users\\Tautvydas\\AppData\\Local\\Programs\\Python\\Python312\\Lib\\site-packages\\matplotlib\\image.py:132\u001b[0m, in \u001b[0;36m_draw_list_compositing_images\u001b[1;34m(renderer, parent, artists, suppress_composite)\u001b[0m\n\u001b[0;32m    130\u001b[0m \u001b[38;5;28;01mif\u001b[39;00m not_composite \u001b[38;5;129;01mor\u001b[39;00m \u001b[38;5;129;01mnot\u001b[39;00m has_images:\n\u001b[0;32m    131\u001b[0m     \u001b[38;5;28;01mfor\u001b[39;00m a \u001b[38;5;129;01min\u001b[39;00m artists:\n\u001b[1;32m--> 132\u001b[0m         \u001b[43ma\u001b[49m\u001b[38;5;241;43m.\u001b[39;49m\u001b[43mdraw\u001b[49m\u001b[43m(\u001b[49m\u001b[43mrenderer\u001b[49m\u001b[43m)\u001b[49m\n\u001b[0;32m    133\u001b[0m \u001b[38;5;28;01melse\u001b[39;00m:\n\u001b[0;32m    134\u001b[0m     \u001b[38;5;66;03m# Composite any adjacent images together\u001b[39;00m\n\u001b[0;32m    135\u001b[0m     image_group \u001b[38;5;241m=\u001b[39m []\n",
      "File \u001b[1;32mc:\\Users\\Tautvydas\\AppData\\Local\\Programs\\Python\\Python312\\Lib\\site-packages\\matplotlib\\artist.py:72\u001b[0m, in \u001b[0;36mallow_rasterization.<locals>.draw_wrapper\u001b[1;34m(artist, renderer)\u001b[0m\n\u001b[0;32m     69\u001b[0m     \u001b[38;5;28;01mif\u001b[39;00m artist\u001b[38;5;241m.\u001b[39mget_agg_filter() \u001b[38;5;129;01mis\u001b[39;00m \u001b[38;5;129;01mnot\u001b[39;00m \u001b[38;5;28;01mNone\u001b[39;00m:\n\u001b[0;32m     70\u001b[0m         renderer\u001b[38;5;241m.\u001b[39mstart_filter()\n\u001b[1;32m---> 72\u001b[0m     \u001b[38;5;28;01mreturn\u001b[39;00m \u001b[43mdraw\u001b[49m\u001b[43m(\u001b[49m\u001b[43martist\u001b[49m\u001b[43m,\u001b[49m\u001b[43m \u001b[49m\u001b[43mrenderer\u001b[49m\u001b[43m)\u001b[49m\n\u001b[0;32m     73\u001b[0m \u001b[38;5;28;01mfinally\u001b[39;00m:\n\u001b[0;32m     74\u001b[0m     \u001b[38;5;28;01mif\u001b[39;00m artist\u001b[38;5;241m.\u001b[39mget_agg_filter() \u001b[38;5;129;01mis\u001b[39;00m \u001b[38;5;129;01mnot\u001b[39;00m \u001b[38;5;28;01mNone\u001b[39;00m:\n",
      "File \u001b[1;32mc:\\Users\\Tautvydas\\AppData\\Local\\Programs\\Python\\Python312\\Lib\\site-packages\\matplotlib\\axes\\_base.py:3137\u001b[0m, in \u001b[0;36m_AxesBase.draw\u001b[1;34m(self, renderer)\u001b[0m\n\u001b[0;32m   3134\u001b[0m \u001b[38;5;28;01mif\u001b[39;00m artists_rasterized:\n\u001b[0;32m   3135\u001b[0m     _draw_rasterized(\u001b[38;5;28mself\u001b[39m\u001b[38;5;241m.\u001b[39mfigure, artists_rasterized, renderer)\n\u001b[1;32m-> 3137\u001b[0m \u001b[43mmimage\u001b[49m\u001b[38;5;241;43m.\u001b[39;49m\u001b[43m_draw_list_compositing_images\u001b[49m\u001b[43m(\u001b[49m\n\u001b[0;32m   3138\u001b[0m \u001b[43m    \u001b[49m\u001b[43mrenderer\u001b[49m\u001b[43m,\u001b[49m\u001b[43m \u001b[49m\u001b[38;5;28;43mself\u001b[39;49m\u001b[43m,\u001b[49m\u001b[43m \u001b[49m\u001b[43martists\u001b[49m\u001b[43m,\u001b[49m\u001b[43m \u001b[49m\u001b[38;5;28;43mself\u001b[39;49m\u001b[38;5;241;43m.\u001b[39;49m\u001b[43mfigure\u001b[49m\u001b[38;5;241;43m.\u001b[39;49m\u001b[43msuppressComposite\u001b[49m\u001b[43m)\u001b[49m\n\u001b[0;32m   3140\u001b[0m renderer\u001b[38;5;241m.\u001b[39mclose_group(\u001b[38;5;124m'\u001b[39m\u001b[38;5;124maxes\u001b[39m\u001b[38;5;124m'\u001b[39m)\n\u001b[0;32m   3141\u001b[0m \u001b[38;5;28mself\u001b[39m\u001b[38;5;241m.\u001b[39mstale \u001b[38;5;241m=\u001b[39m \u001b[38;5;28;01mFalse\u001b[39;00m\n",
      "File \u001b[1;32mc:\\Users\\Tautvydas\\AppData\\Local\\Programs\\Python\\Python312\\Lib\\site-packages\\matplotlib\\image.py:132\u001b[0m, in \u001b[0;36m_draw_list_compositing_images\u001b[1;34m(renderer, parent, artists, suppress_composite)\u001b[0m\n\u001b[0;32m    130\u001b[0m \u001b[38;5;28;01mif\u001b[39;00m not_composite \u001b[38;5;129;01mor\u001b[39;00m \u001b[38;5;129;01mnot\u001b[39;00m has_images:\n\u001b[0;32m    131\u001b[0m     \u001b[38;5;28;01mfor\u001b[39;00m a \u001b[38;5;129;01min\u001b[39;00m artists:\n\u001b[1;32m--> 132\u001b[0m         \u001b[43ma\u001b[49m\u001b[38;5;241;43m.\u001b[39;49m\u001b[43mdraw\u001b[49m\u001b[43m(\u001b[49m\u001b[43mrenderer\u001b[49m\u001b[43m)\u001b[49m\n\u001b[0;32m    133\u001b[0m \u001b[38;5;28;01melse\u001b[39;00m:\n\u001b[0;32m    134\u001b[0m     \u001b[38;5;66;03m# Composite any adjacent images together\u001b[39;00m\n\u001b[0;32m    135\u001b[0m     image_group \u001b[38;5;241m=\u001b[39m []\n",
      "File \u001b[1;32mc:\\Users\\Tautvydas\\AppData\\Local\\Programs\\Python\\Python312\\Lib\\site-packages\\matplotlib\\artist.py:72\u001b[0m, in \u001b[0;36mallow_rasterization.<locals>.draw_wrapper\u001b[1;34m(artist, renderer)\u001b[0m\n\u001b[0;32m     69\u001b[0m     \u001b[38;5;28;01mif\u001b[39;00m artist\u001b[38;5;241m.\u001b[39mget_agg_filter() \u001b[38;5;129;01mis\u001b[39;00m \u001b[38;5;129;01mnot\u001b[39;00m \u001b[38;5;28;01mNone\u001b[39;00m:\n\u001b[0;32m     70\u001b[0m         renderer\u001b[38;5;241m.\u001b[39mstart_filter()\n\u001b[1;32m---> 72\u001b[0m     \u001b[38;5;28;01mreturn\u001b[39;00m \u001b[43mdraw\u001b[49m\u001b[43m(\u001b[49m\u001b[43martist\u001b[49m\u001b[43m,\u001b[49m\u001b[43m \u001b[49m\u001b[43mrenderer\u001b[49m\u001b[43m)\u001b[49m\n\u001b[0;32m     73\u001b[0m \u001b[38;5;28;01mfinally\u001b[39;00m:\n\u001b[0;32m     74\u001b[0m     \u001b[38;5;28;01mif\u001b[39;00m artist\u001b[38;5;241m.\u001b[39mget_agg_filter() \u001b[38;5;129;01mis\u001b[39;00m \u001b[38;5;129;01mnot\u001b[39;00m \u001b[38;5;28;01mNone\u001b[39;00m:\n",
      "File \u001b[1;32mc:\\Users\\Tautvydas\\AppData\\Local\\Programs\\Python\\Python312\\Lib\\site-packages\\matplotlib\\image.py:653\u001b[0m, in \u001b[0;36m_ImageBase.draw\u001b[1;34m(self, renderer)\u001b[0m\n\u001b[0;32m    651\u001b[0m         renderer\u001b[38;5;241m.\u001b[39mdraw_image(gc, l, b, im, trans)\n\u001b[0;32m    652\u001b[0m \u001b[38;5;28;01melse\u001b[39;00m:\n\u001b[1;32m--> 653\u001b[0m     im, l, b, trans \u001b[38;5;241m=\u001b[39m \u001b[38;5;28;43mself\u001b[39;49m\u001b[38;5;241;43m.\u001b[39;49m\u001b[43mmake_image\u001b[49m\u001b[43m(\u001b[49m\n\u001b[0;32m    654\u001b[0m \u001b[43m        \u001b[49m\u001b[43mrenderer\u001b[49m\u001b[43m,\u001b[49m\u001b[43m \u001b[49m\u001b[43mrenderer\u001b[49m\u001b[38;5;241;43m.\u001b[39;49m\u001b[43mget_image_magnification\u001b[49m\u001b[43m(\u001b[49m\u001b[43m)\u001b[49m\u001b[43m)\u001b[49m\n\u001b[0;32m    655\u001b[0m     \u001b[38;5;28;01mif\u001b[39;00m im \u001b[38;5;129;01mis\u001b[39;00m \u001b[38;5;129;01mnot\u001b[39;00m \u001b[38;5;28;01mNone\u001b[39;00m:\n\u001b[0;32m    656\u001b[0m         renderer\u001b[38;5;241m.\u001b[39mdraw_image(gc, l, b, im)\n",
      "File \u001b[1;32mc:\\Users\\Tautvydas\\AppData\\Local\\Programs\\Python\\Python312\\Lib\\site-packages\\matplotlib\\image.py:952\u001b[0m, in \u001b[0;36mAxesImage.make_image\u001b[1;34m(self, renderer, magnification, unsampled)\u001b[0m\n\u001b[0;32m    949\u001b[0m transformed_bbox \u001b[38;5;241m=\u001b[39m TransformedBbox(bbox, trans)\n\u001b[0;32m    950\u001b[0m clip \u001b[38;5;241m=\u001b[39m ((\u001b[38;5;28mself\u001b[39m\u001b[38;5;241m.\u001b[39mget_clip_box() \u001b[38;5;129;01mor\u001b[39;00m \u001b[38;5;28mself\u001b[39m\u001b[38;5;241m.\u001b[39maxes\u001b[38;5;241m.\u001b[39mbbox) \u001b[38;5;28;01mif\u001b[39;00m \u001b[38;5;28mself\u001b[39m\u001b[38;5;241m.\u001b[39mget_clip_on()\n\u001b[0;32m    951\u001b[0m         \u001b[38;5;28;01melse\u001b[39;00m \u001b[38;5;28mself\u001b[39m\u001b[38;5;241m.\u001b[39mfigure\u001b[38;5;241m.\u001b[39mbbox)\n\u001b[1;32m--> 952\u001b[0m \u001b[38;5;28;01mreturn\u001b[39;00m \u001b[38;5;28;43mself\u001b[39;49m\u001b[38;5;241;43m.\u001b[39;49m\u001b[43m_make_image\u001b[49m\u001b[43m(\u001b[49m\u001b[38;5;28;43mself\u001b[39;49m\u001b[38;5;241;43m.\u001b[39;49m\u001b[43m_A\u001b[49m\u001b[43m,\u001b[49m\u001b[43m \u001b[49m\u001b[43mbbox\u001b[49m\u001b[43m,\u001b[49m\u001b[43m \u001b[49m\u001b[43mtransformed_bbox\u001b[49m\u001b[43m,\u001b[49m\u001b[43m \u001b[49m\u001b[43mclip\u001b[49m\u001b[43m,\u001b[49m\n\u001b[0;32m    953\u001b[0m \u001b[43m                        \u001b[49m\u001b[43mmagnification\u001b[49m\u001b[43m,\u001b[49m\u001b[43m \u001b[49m\u001b[43munsampled\u001b[49m\u001b[38;5;241;43m=\u001b[39;49m\u001b[43munsampled\u001b[49m\u001b[43m)\u001b[49m\n",
      "File \u001b[1;32mc:\\Users\\Tautvydas\\AppData\\Local\\Programs\\Python\\Python312\\Lib\\site-packages\\matplotlib\\image.py:504\u001b[0m, in \u001b[0;36m_ImageBase._make_image\u001b[1;34m(self, A, in_bbox, out_bbox, clip_bbox, magnification, unsampled, round_to_pixel_border)\u001b[0m\n\u001b[0;32m    502\u001b[0m vrange \u001b[38;5;241m+\u001b[39m\u001b[38;5;241m=\u001b[39m offset\n\u001b[0;32m    503\u001b[0m \u001b[38;5;66;03m# resample the input data to the correct resolution and shape\u001b[39;00m\n\u001b[1;32m--> 504\u001b[0m A_resampled \u001b[38;5;241m=\u001b[39m \u001b[43m_resample\u001b[49m\u001b[43m(\u001b[49m\u001b[38;5;28;43mself\u001b[39;49m\u001b[43m,\u001b[49m\u001b[43m \u001b[49m\u001b[43mA_scaled\u001b[49m\u001b[43m,\u001b[49m\u001b[43m \u001b[49m\u001b[43mout_shape\u001b[49m\u001b[43m,\u001b[49m\u001b[43m \u001b[49m\u001b[43mt\u001b[49m\u001b[43m)\u001b[49m\n\u001b[0;32m    505\u001b[0m \u001b[38;5;28;01mdel\u001b[39;00m A_scaled  \u001b[38;5;66;03m# Make sure we don't use A_scaled anymore!\u001b[39;00m\n\u001b[0;32m    506\u001b[0m \u001b[38;5;66;03m# Un-scale the resampled data to approximately the original\u001b[39;00m\n\u001b[0;32m    507\u001b[0m \u001b[38;5;66;03m# range. Things that interpolated to outside the original range\u001b[39;00m\n\u001b[0;32m    508\u001b[0m \u001b[38;5;66;03m# will still be outside, but possibly clipped in the case of\u001b[39;00m\n\u001b[0;32m    509\u001b[0m \u001b[38;5;66;03m# higher order interpolation + drastically changing data.\u001b[39;00m\n",
      "File \u001b[1;32mc:\\Users\\Tautvydas\\AppData\\Local\\Programs\\Python\\Python312\\Lib\\site-packages\\matplotlib\\image.py:208\u001b[0m, in \u001b[0;36m_resample\u001b[1;34m(image_obj, data, out_shape, transform, resample, alpha)\u001b[0m\n\u001b[0;32m    206\u001b[0m \u001b[38;5;28;01mif\u001b[39;00m resample \u001b[38;5;129;01mis\u001b[39;00m \u001b[38;5;28;01mNone\u001b[39;00m:\n\u001b[0;32m    207\u001b[0m     resample \u001b[38;5;241m=\u001b[39m image_obj\u001b[38;5;241m.\u001b[39mget_resample()\n\u001b[1;32m--> 208\u001b[0m \u001b[43m_image\u001b[49m\u001b[38;5;241;43m.\u001b[39;49m\u001b[43mresample\u001b[49m\u001b[43m(\u001b[49m\u001b[43mdata\u001b[49m\u001b[43m,\u001b[49m\u001b[43m \u001b[49m\u001b[43mout\u001b[49m\u001b[43m,\u001b[49m\u001b[43m \u001b[49m\u001b[43mtransform\u001b[49m\u001b[43m,\u001b[49m\n\u001b[0;32m    209\u001b[0m \u001b[43m                \u001b[49m\u001b[43m_interpd_\u001b[49m\u001b[43m[\u001b[49m\u001b[43minterpolation\u001b[49m\u001b[43m]\u001b[49m\u001b[43m,\u001b[49m\n\u001b[0;32m    210\u001b[0m \u001b[43m                \u001b[49m\u001b[43mresample\u001b[49m\u001b[43m,\u001b[49m\n\u001b[0;32m    211\u001b[0m \u001b[43m                \u001b[49m\u001b[43malpha\u001b[49m\u001b[43m,\u001b[49m\n\u001b[0;32m    212\u001b[0m \u001b[43m                \u001b[49m\u001b[43mimage_obj\u001b[49m\u001b[38;5;241;43m.\u001b[39;49m\u001b[43mget_filternorm\u001b[49m\u001b[43m(\u001b[49m\u001b[43m)\u001b[49m\u001b[43m,\u001b[49m\n\u001b[0;32m    213\u001b[0m \u001b[43m                \u001b[49m\u001b[43mimage_obj\u001b[49m\u001b[38;5;241;43m.\u001b[39;49m\u001b[43mget_filterrad\u001b[49m\u001b[43m(\u001b[49m\u001b[43m)\u001b[49m\u001b[43m)\u001b[49m\n\u001b[0;32m    214\u001b[0m \u001b[38;5;28;01mreturn\u001b[39;00m out\n",
      "\u001b[1;31mKeyboardInterrupt\u001b[0m: "
     ]
    },
    {
     "data": {
      "image/png": "[encoded data removed]",
      "text/plain": [
       "<Figure size 640x480 with 1 Axes>"
      ]
     },
     "metadata": {},
     "output_type": "display_data"
    }
   ],
   "source": [
    "test='1'\n",
    "input_path='Tiffs_Validation'\n",
    "input_tiff=f'Video{test}.tif'\n",
    "params={\n",
    "    'r_in':3,\n",
    "    'r_out':7,\n",
    "    'ring_index':1,\n",
    "    'allowed_change':1,\n",
    "    'input_path':input_path,\n",
    "    'input_tiff':input_tiff,\n",
    "    'output_base_path':f'Results_Validation/Video{test}'    \n",
    "}\n",
    "post_processing(**params)"
   ]
  },
  {
   "cell_type": "markdown",
   "metadata": {},
   "source": [
    "# main code"
   ]
  },
  {
   "cell_type": "code",
   "execution_count": 6,
   "metadata": {},
   "outputs": [],
   "source": [
    "output_path = Path(f'Results_Validation/VideoLarge') / Path(f'036 melted_ref_beads_steps.ome.tif').stem\n",
    "output_path.mkdir(parents=True, exist_ok=True)\n",
    "tiff_to_png(f'036 melted_ref_beads_steps.ome.tif', 'Tiffs', output_path)"
   ]
  },
  {
   "cell_type": "code",
   "execution_count": 26,
   "metadata": {},
   "outputs": [],
   "source": [
    "def ring_search(r_in,r_out,ring_index,allowed_change,input_path,input_tiff,output_base_path):\n",
    "    # autoencoder = tf.keras.models.load_model('autoencoder_model_256.h5')\n",
    "\n",
    "    brightness_target_median=49\n",
    "    #  For guarding against index changes\n",
    "    prev_circle=None\n",
    "    prev_circle_radius=None\n",
    "    prev_ccol=None\n",
    "    prev_crow=None\n",
    "    prev_movement=0\n",
    "    cross_length = 10 #Center cross\n",
    "    ring_index_start=ring_index\n",
    "\n",
    "    output_path = Path(output_base_path) / Path(input_tiff).stem\n",
    "    output_path.mkdir(parents=True, exist_ok=True)\n",
    "    tiff_to_png(input_tiff, input_path, output_path)\n",
    "    test_number=input_tiff.split('.')[0]\n",
    "    # print(test_number)\n",
    "\n",
    "    result_folder = f\"Results_Validation/{test_number}/\" + Path(input_tiff).stem + f\"_Results_bw{r_in}{r_out}_{ring_index}\"\n",
    "    # print(result_folder)\n",
    "    Path(result_folder).mkdir(parents=True, exist_ok=True)\n",
    "\n",
    "    error_log = []\n",
    "\n",
    "    df = pd.DataFrame(columns=['center_y(ccol)', 'center_x(crow)', 'circle_radius'])\n",
    "\n",
    "    filenames=os.listdir(output_path)\n",
    "\n",
    "    for filename in filenames:\n",
    "        file_path = os.path.join(output_path, filename)\n",
    "        image = cv2.imread(file_path, cv2.IMREAD_GRAYSCALE)\n",
    "        brightness=image_background_brightness(image)\n",
    "        # image=pad_image(image=image,padding_value=brightness[0])\n",
    "        imageBright = cv2.convertScaleAbs(image,10,1.5)\n",
    "        \n",
    "        # background_brightness_median = image_background_brightness(image)[1]\n",
    "        # brightness_change=brightness_target_median-background_brightness_median\n",
    "        # imageBright= np.clip(image + brightness_change, 0, 255).astype('uint8')\n",
    "\n",
    "        # imageBright=image\n",
    "        # fig, axes = plt.subplots(2, 3, figsize=(15, 10)) #Orig\n",
    "        fig, axes = plt.subplots(2, 4, figsize=(15, 10))\n",
    "        axes = axes.ravel()\n",
    "\n",
    "        axes[0].imshow(imageBright, cmap='gray', vmin=0, vmax=255)\n",
    "        axes[0].set_title('Original Image')\n",
    "\n",
    "        ftimage = fft2(imageBright)\n",
    "        ftimage = fftshift(ftimage)\n",
    "        axes[1].imshow(20 * np.log(np.abs(ftimage) + 1), cmap='gray', vmin=0, vmax=255)\n",
    "        axes[1].set_title('Fourier Transform')\n",
    "\n",
    "        rows, cols = ftimage.shape\n",
    "        crow, ccol = rows // 2, cols // 2\n",
    "        mask = np.zeros((rows, cols), dtype=np.uint8)\n",
    "\n",
    "        x, y = np.ogrid[:rows, :cols]\n",
    "        mask_area = np.logical_and(((x - crow)**2 + (y - ccol)**2 >= r_in**2),\n",
    "                                ((x - crow)**2 + (y - ccol)**2 <= r_out**2))\n",
    "        mask[mask_area] = 1\n",
    "        axes[2].imshow(mask, cmap='gray')\n",
    "        axes[2].set_title('Bandpass Filter')\n",
    "\n",
    "        m_app_ftimage = ftimage * mask\n",
    "        i_ftimage = ifftshift(m_app_ftimage)\n",
    "        result_img = ifft2(i_ftimage)\n",
    "        tmp = np.log(np.abs(result_img) + 1)\n",
    "        axes[3].imshow(tmp, cmap='gray', vmin=tmp.min(), vmax=tmp.max())\n",
    "        axes[3].set_title('Filtered Image')\n",
    "\n",
    "        axes[4].plot(tmp[int(tmp.shape[0]/2), :], color='blue')\n",
    "        axes[4].set_title('Intensity Profile')\n",
    "\n",
    "        # crow, ccol = unravel_index(tmp.argmax(), tmp.shape)\n",
    "        crow, ccol = unravel_index(tmp.argmax(), result_img.shape)\n",
    "        \n",
    "        \n",
    "        central_line_y = tmp[crow, :]\n",
    "        central_line_x = tmp[:, ccol]\n",
    "\n",
    "        smoothed_central_line_y = moving_average(central_line_y, window_size=4)\n",
    "        smoothed_central_line_x = moving_average(central_line_x, window_size=4)\n",
    "\n",
    "        peaks_y = argrelextrema(smoothed_central_line_y, np.greater)[0]\n",
    "        peaks_x = argrelextrema(smoothed_central_line_x, np.greater)[0]\n",
    "        \n",
    "        minimums_y = argrelextrema(smoothed_central_line_y, np.less)[0]\n",
    "        minimums_x = argrelextrema(smoothed_central_line_x, np.less)[0]\n",
    "\n",
    "        # peaks_x=np.array(merge_peaks_by_distance(peaks_x,30))\n",
    "        # peaks_y=np.array(merge_peaks_by_distance(peaks_y,30))\n",
    "\n",
    "        if len(peaks_x) > 1 and len(peaks_y) > 1:\n",
    "            ccol, x_distance = get_center_from_peaks(peaks_y, ccol)\n",
    "            crow, y_distance = get_center_from_peaks(peaks_x, crow)\n",
    "            # ccol, x_distance = get_center_from_minimums(minimums_y, ccol)\n",
    "            # crow, y_distance = get_center_from_minimums(minimums_x, crow)\n",
    "            # print(f'{ccol} {crow}')\n",
    "            circle_radius = circle_radius_fun(peaks_x,peaks_y,ring_index,ccol,crow)\n",
    "            \n",
    "\n",
    "            circle_radius,ring_index=circle_change_limiter(circle_radius,prev_circle_radius,allowed_change,ring_index,peaks_x,peaks_y,ccol,crow)\n",
    "                \n",
    "            circle_img = cv2.circle(image.copy(), (ccol, crow), int(circle_radius), (255, 0, 0), 2)\n",
    "            # circle_img = cv2.circle(denoised_image.copy(), (ccol, crow), int(circle_radius), (255, 0, 0), 2)\n",
    "            cv2.line(circle_img,(ccol - cross_length, crow), (ccol + cross_length, crow), (255, 255, 255), 1)\n",
    "            cv2.line(circle_img, (ccol, crow - cross_length), (ccol, crow + cross_length), (255, 255, 255), 1)\n",
    "            # circle_img=pad_image(image=circle_img,padding_value=brightness[0])\n",
    "            axes[5].imshow(circle_img, cmap='gray', vmin=0, vmax=255)\n",
    "            axes[5].set_title('Result with Circle')\n",
    "        else:\n",
    "            error_log.append([filename, 'Frame with no valid peaks', r_in, r_out, 2])\n",
    "            axes[5].imshow(image, cmap='gray', vmin=0, vmax=255)\n",
    "            axes[5].set_title('Result with Circle (No valid peaks)')\n",
    "\n",
    "        # Plot intensity profiles and highlight peaks\n",
    "        axes[6].plot(smoothed_central_line_y, color='blue')\n",
    "        for peak in peaks_y:\n",
    "            axes[6].axvline(x=peak, color='red', linestyle='--')  # Mark peaks with red dashed lines\n",
    "        axes[6].set_title('Intensity Profile (Y-Axis) with Peaks')\n",
    "\n",
    "        axes[7].plot(smoothed_central_line_x, color='green')\n",
    "        for peak in peaks_x:\n",
    "            axes[7].axvline(x=peak, color='red', linestyle='--') \n",
    "        axes[7].set_title('Intensity Profile (X-Axis) with Peaks')\n",
    "\n",
    "        prev_circle_radius=circle_radius\n",
    "        prev_ccol=ccol\n",
    "        prev_crow=crow\n",
    "\n",
    "        df_append= pd.DataFrame(columns=['center_y(ccol)','center_x(crow)','circle_radius'])\n",
    "        new_data={'center_y(ccol)':ccol,'center_x(crow)':crow,'circle_radius':circle_radius}\n",
    "        df = pd.concat([df, pd.DataFrame([new_data])], ignore_index=True)\n",
    "        plt.tight_layout()\n",
    "\n",
    "        filename=filename+f'brigtness_med-{brightness[0]}_brightness_avg-{brightness[1]}'\n",
    "        df.to_excel(f\"ExcelsLarge/Video{test_number}_{r_in}{r_out}_{ring_index_start}.xlsx\")\n",
    "\n",
    "        # plt.savefig(os.path.join(result_folder, f\"composite_{filename}.png\"))\n",
    "        # plt.show()\n",
    "        plt.clf()\n",
    "        plt.cla()\n",
    "        plt.close('all')\n",
    "        plt.close(fig)\n",
    "        del fig, circle_img, image\n",
    "        gc.collect()\n",
    "        # print(circle_radius)\n",
    "    # df.to_excel(f\"Video{test_number}_{r_in}{r_out}_{ring_index}_brightened.xlsx\")\n",
    "    # print(\"All images processed and saved in the results folder.\")"
   ]
  },
  {
   "cell_type": "code",
   "execution_count": null,
   "metadata": {},
   "outputs": [],
   "source": []
  },
  {
   "cell_type": "markdown",
   "metadata": {},
   "source": [
    "# Grid Test"
   ]
  },
  {
   "cell_type": "code",
   "execution_count": 27,
   "metadata": {},
   "outputs": [
    {
     "name": "stderr",
     "output_type": "stream",
     "text": [
      "C:\\Users\\Tautvydas\\AppData\\Local\\Temp\\ipykernel_137156\\4013083096.py:134: FutureWarning: The behavior of DataFrame concatenation with empty or all-NA entries is deprecated. In a future version, this will no longer exclude empty or all-NA columns when determining the result dtypes. To retain the old behavior, exclude the relevant entries before the concat operation.\n",
      "  df = pd.concat([df, pd.DataFrame([new_data])], ignore_index=True)\n",
      "C:\\Users\\Tautvydas\\AppData\\Local\\Temp\\ipykernel_137156\\4013083096.py:134: FutureWarning: The behavior of DataFrame concatenation with empty or all-NA entries is deprecated. In a future version, this will no longer exclude empty or all-NA columns when determining the result dtypes. To retain the old behavior, exclude the relevant entries before the concat operation.\n",
      "  df = pd.concat([df, pd.DataFrame([new_data])], ignore_index=True)\n",
      "C:\\Users\\Tautvydas\\AppData\\Local\\Temp\\ipykernel_137156\\4013083096.py:134: FutureWarning: The behavior of DataFrame concatenation with empty or all-NA entries is deprecated. In a future version, this will no longer exclude empty or all-NA columns when determining the result dtypes. To retain the old behavior, exclude the relevant entries before the concat operation.\n",
      "  df = pd.concat([df, pd.DataFrame([new_data])], ignore_index=True)\n",
      "C:\\Users\\Tautvydas\\AppData\\Local\\Temp\\ipykernel_137156\\4013083096.py:134: FutureWarning: The behavior of DataFrame concatenation with empty or all-NA entries is deprecated. In a future version, this will no longer exclude empty or all-NA columns when determining the result dtypes. To retain the old behavior, exclude the relevant entries before the concat operation.\n",
      "  df = pd.concat([df, pd.DataFrame([new_data])], ignore_index=True)\n",
      "C:\\Users\\Tautvydas\\AppData\\Local\\Temp\\ipykernel_137156\\4013083096.py:134: FutureWarning: The behavior of DataFrame concatenation with empty or all-NA entries is deprecated. In a future version, this will no longer exclude empty or all-NA columns when determining the result dtypes. To retain the old behavior, exclude the relevant entries before the concat operation.\n",
      "  df = pd.concat([df, pd.DataFrame([new_data])], ignore_index=True)\n",
      "C:\\Users\\Tautvydas\\AppData\\Local\\Temp\\ipykernel_137156\\4013083096.py:134: FutureWarning: The behavior of DataFrame concatenation with empty or all-NA entries is deprecated. In a future version, this will no longer exclude empty or all-NA columns when determining the result dtypes. To retain the old behavior, exclude the relevant entries before the concat operation.\n",
      "  df = pd.concat([df, pd.DataFrame([new_data])], ignore_index=True)\n",
      "C:\\Users\\Tautvydas\\AppData\\Local\\Temp\\ipykernel_137156\\4013083096.py:134: FutureWarning: The behavior of DataFrame concatenation with empty or all-NA entries is deprecated. In a future version, this will no longer exclude empty or all-NA columns when determining the result dtypes. To retain the old behavior, exclude the relevant entries before the concat operation.\n",
      "  df = pd.concat([df, pd.DataFrame([new_data])], ignore_index=True)\n",
      "C:\\Users\\Tautvydas\\AppData\\Local\\Temp\\ipykernel_137156\\4013083096.py:134: FutureWarning: The behavior of DataFrame concatenation with empty or all-NA entries is deprecated. In a future version, this will no longer exclude empty or all-NA columns when determining the result dtypes. To retain the old behavior, exclude the relevant entries before the concat operation.\n",
      "  df = pd.concat([df, pd.DataFrame([new_data])], ignore_index=True)\n",
      "C:\\Users\\Tautvydas\\AppData\\Local\\Temp\\ipykernel_137156\\4013083096.py:134: FutureWarning: The behavior of DataFrame concatenation with empty or all-NA entries is deprecated. In a future version, this will no longer exclude empty or all-NA columns when determining the result dtypes. To retain the old behavior, exclude the relevant entries before the concat operation.\n",
      "  df = pd.concat([df, pd.DataFrame([new_data])], ignore_index=True)\n",
      "C:\\Users\\Tautvydas\\AppData\\Local\\Temp\\ipykernel_137156\\4013083096.py:134: FutureWarning: The behavior of DataFrame concatenation with empty or all-NA entries is deprecated. In a future version, this will no longer exclude empty or all-NA columns when determining the result dtypes. To retain the old behavior, exclude the relevant entries before the concat operation.\n",
      "  df = pd.concat([df, pd.DataFrame([new_data])], ignore_index=True)\n",
      "C:\\Users\\Tautvydas\\AppData\\Local\\Temp\\ipykernel_137156\\4013083096.py:134: FutureWarning: The behavior of DataFrame concatenation with empty or all-NA entries is deprecated. In a future version, this will no longer exclude empty or all-NA columns when determining the result dtypes. To retain the old behavior, exclude the relevant entries before the concat operation.\n",
      "  df = pd.concat([df, pd.DataFrame([new_data])], ignore_index=True)\n",
      "C:\\Users\\Tautvydas\\AppData\\Local\\Temp\\ipykernel_137156\\4013083096.py:134: FutureWarning: The behavior of DataFrame concatenation with empty or all-NA entries is deprecated. In a future version, this will no longer exclude empty or all-NA columns when determining the result dtypes. To retain the old behavior, exclude the relevant entries before the concat operation.\n",
      "  df = pd.concat([df, pd.DataFrame([new_data])], ignore_index=True)\n",
      "C:\\Users\\Tautvydas\\AppData\\Local\\Temp\\ipykernel_137156\\4013083096.py:134: FutureWarning: The behavior of DataFrame concatenation with empty or all-NA entries is deprecated. In a future version, this will no longer exclude empty or all-NA columns when determining the result dtypes. To retain the old behavior, exclude the relevant entries before the concat operation.\n",
      "  df = pd.concat([df, pd.DataFrame([new_data])], ignore_index=True)\n",
      "C:\\Users\\Tautvydas\\AppData\\Local\\Temp\\ipykernel_137156\\4013083096.py:134: FutureWarning: The behavior of DataFrame concatenation with empty or all-NA entries is deprecated. In a future version, this will no longer exclude empty or all-NA columns when determining the result dtypes. To retain the old behavior, exclude the relevant entries before the concat operation.\n",
      "  df = pd.concat([df, pd.DataFrame([new_data])], ignore_index=True)\n",
      "C:\\Users\\Tautvydas\\AppData\\Local\\Temp\\ipykernel_137156\\4013083096.py:134: FutureWarning: The behavior of DataFrame concatenation with empty or all-NA entries is deprecated. In a future version, this will no longer exclude empty or all-NA columns when determining the result dtypes. To retain the old behavior, exclude the relevant entries before the concat operation.\n",
      "  df = pd.concat([df, pd.DataFrame([new_data])], ignore_index=True)\n",
      "C:\\Users\\Tautvydas\\AppData\\Local\\Temp\\ipykernel_137156\\4013083096.py:134: FutureWarning: The behavior of DataFrame concatenation with empty or all-NA entries is deprecated. In a future version, this will no longer exclude empty or all-NA columns when determining the result dtypes. To retain the old behavior, exclude the relevant entries before the concat operation.\n",
      "  df = pd.concat([df, pd.DataFrame([new_data])], ignore_index=True)\n",
      "C:\\Users\\Tautvydas\\AppData\\Local\\Temp\\ipykernel_137156\\4013083096.py:134: FutureWarning: The behavior of DataFrame concatenation with empty or all-NA entries is deprecated. In a future version, this will no longer exclude empty or all-NA columns when determining the result dtypes. To retain the old behavior, exclude the relevant entries before the concat operation.\n",
      "  df = pd.concat([df, pd.DataFrame([new_data])], ignore_index=True)\n",
      "C:\\Users\\Tautvydas\\AppData\\Local\\Temp\\ipykernel_137156\\4013083096.py:134: FutureWarning: The behavior of DataFrame concatenation with empty or all-NA entries is deprecated. In a future version, this will no longer exclude empty or all-NA columns when determining the result dtypes. To retain the old behavior, exclude the relevant entries before the concat operation.\n",
      "  df = pd.concat([df, pd.DataFrame([new_data])], ignore_index=True)\n",
      "C:\\Users\\Tautvydas\\AppData\\Local\\Temp\\ipykernel_137156\\4013083096.py:134: FutureWarning: The behavior of DataFrame concatenation with empty or all-NA entries is deprecated. In a future version, this will no longer exclude empty or all-NA columns when determining the result dtypes. To retain the old behavior, exclude the relevant entries before the concat operation.\n",
      "  df = pd.concat([df, pd.DataFrame([new_data])], ignore_index=True)\n",
      "C:\\Users\\Tautvydas\\AppData\\Local\\Temp\\ipykernel_137156\\4013083096.py:134: FutureWarning: The behavior of DataFrame concatenation with empty or all-NA entries is deprecated. In a future version, this will no longer exclude empty or all-NA columns when determining the result dtypes. To retain the old behavior, exclude the relevant entries before the concat operation.\n",
      "  df = pd.concat([df, pd.DataFrame([new_data])], ignore_index=True)\n",
      "C:\\Users\\Tautvydas\\AppData\\Local\\Temp\\ipykernel_137156\\4013083096.py:134: FutureWarning: The behavior of DataFrame concatenation with empty or all-NA entries is deprecated. In a future version, this will no longer exclude empty or all-NA columns when determining the result dtypes. To retain the old behavior, exclude the relevant entries before the concat operation.\n",
      "  df = pd.concat([df, pd.DataFrame([new_data])], ignore_index=True)\n"
     ]
    },
    {
     "name": "stdout",
     "output_type": "stream",
     "text": [
      "index 13 is out of bounds for axis 0 with size 13\n",
      "{'r_in': 3, 'r_out': 9, 'ring_index': 1, 'allowed_change': 1, 'input_path': 'Tiffs_Validation', 'input_tiff': 'Video1.tif', 'output_base_path': 'Results_Validation/Video1'}\n"
     ]
    },
    {
     "name": "stderr",
     "output_type": "stream",
     "text": [
      "C:\\Users\\Tautvydas\\AppData\\Local\\Temp\\ipykernel_137156\\4013083096.py:134: FutureWarning: The behavior of DataFrame concatenation with empty or all-NA entries is deprecated. In a future version, this will no longer exclude empty or all-NA columns when determining the result dtypes. To retain the old behavior, exclude the relevant entries before the concat operation.\n",
      "  df = pd.concat([df, pd.DataFrame([new_data])], ignore_index=True)\n",
      "C:\\Users\\Tautvydas\\AppData\\Local\\Temp\\ipykernel_137156\\4013083096.py:134: FutureWarning: The behavior of DataFrame concatenation with empty or all-NA entries is deprecated. In a future version, this will no longer exclude empty or all-NA columns when determining the result dtypes. To retain the old behavior, exclude the relevant entries before the concat operation.\n",
      "  df = pd.concat([df, pd.DataFrame([new_data])], ignore_index=True)\n",
      "C:\\Users\\Tautvydas\\AppData\\Local\\Temp\\ipykernel_137156\\4013083096.py:134: FutureWarning: The behavior of DataFrame concatenation with empty or all-NA entries is deprecated. In a future version, this will no longer exclude empty or all-NA columns when determining the result dtypes. To retain the old behavior, exclude the relevant entries before the concat operation.\n",
      "  df = pd.concat([df, pd.DataFrame([new_data])], ignore_index=True)\n",
      "C:\\Users\\Tautvydas\\AppData\\Local\\Temp\\ipykernel_137156\\4013083096.py:134: FutureWarning: The behavior of DataFrame concatenation with empty or all-NA entries is deprecated. In a future version, this will no longer exclude empty or all-NA columns when determining the result dtypes. To retain the old behavior, exclude the relevant entries before the concat operation.\n",
      "  df = pd.concat([df, pd.DataFrame([new_data])], ignore_index=True)\n",
      "C:\\Users\\Tautvydas\\AppData\\Local\\Temp\\ipykernel_137156\\4013083096.py:134: FutureWarning: The behavior of DataFrame concatenation with empty or all-NA entries is deprecated. In a future version, this will no longer exclude empty or all-NA columns when determining the result dtypes. To retain the old behavior, exclude the relevant entries before the concat operation.\n",
      "  df = pd.concat([df, pd.DataFrame([new_data])], ignore_index=True)\n",
      "C:\\Users\\Tautvydas\\AppData\\Local\\Temp\\ipykernel_137156\\4013083096.py:134: FutureWarning: The behavior of DataFrame concatenation with empty or all-NA entries is deprecated. In a future version, this will no longer exclude empty or all-NA columns when determining the result dtypes. To retain the old behavior, exclude the relevant entries before the concat operation.\n",
      "  df = pd.concat([df, pd.DataFrame([new_data])], ignore_index=True)\n",
      "C:\\Users\\Tautvydas\\AppData\\Local\\Temp\\ipykernel_137156\\4013083096.py:134: FutureWarning: The behavior of DataFrame concatenation with empty or all-NA entries is deprecated. In a future version, this will no longer exclude empty or all-NA columns when determining the result dtypes. To retain the old behavior, exclude the relevant entries before the concat operation.\n",
      "  df = pd.concat([df, pd.DataFrame([new_data])], ignore_index=True)\n",
      "C:\\Users\\Tautvydas\\AppData\\Local\\Temp\\ipykernel_137156\\4013083096.py:134: FutureWarning: The behavior of DataFrame concatenation with empty or all-NA entries is deprecated. In a future version, this will no longer exclude empty or all-NA columns when determining the result dtypes. To retain the old behavior, exclude the relevant entries before the concat operation.\n",
      "  df = pd.concat([df, pd.DataFrame([new_data])], ignore_index=True)\n",
      "C:\\Users\\Tautvydas\\AppData\\Local\\Temp\\ipykernel_137156\\4013083096.py:134: FutureWarning: The behavior of DataFrame concatenation with empty or all-NA entries is deprecated. In a future version, this will no longer exclude empty or all-NA columns when determining the result dtypes. To retain the old behavior, exclude the relevant entries before the concat operation.\n",
      "  df = pd.concat([df, pd.DataFrame([new_data])], ignore_index=True)\n",
      "C:\\Users\\Tautvydas\\AppData\\Local\\Temp\\ipykernel_137156\\4013083096.py:134: FutureWarning: The behavior of DataFrame concatenation with empty or all-NA entries is deprecated. In a future version, this will no longer exclude empty or all-NA columns when determining the result dtypes. To retain the old behavior, exclude the relevant entries before the concat operation.\n",
      "  df = pd.concat([df, pd.DataFrame([new_data])], ignore_index=True)\n",
      "C:\\Users\\Tautvydas\\AppData\\Local\\Temp\\ipykernel_137156\\4013083096.py:134: FutureWarning: The behavior of DataFrame concatenation with empty or all-NA entries is deprecated. In a future version, this will no longer exclude empty or all-NA columns when determining the result dtypes. To retain the old behavior, exclude the relevant entries before the concat operation.\n",
      "  df = pd.concat([df, pd.DataFrame([new_data])], ignore_index=True)\n",
      "C:\\Users\\Tautvydas\\AppData\\Local\\Temp\\ipykernel_137156\\4013083096.py:134: FutureWarning: The behavior of DataFrame concatenation with empty or all-NA entries is deprecated. In a future version, this will no longer exclude empty or all-NA columns when determining the result dtypes. To retain the old behavior, exclude the relevant entries before the concat operation.\n",
      "  df = pd.concat([df, pd.DataFrame([new_data])], ignore_index=True)\n",
      "C:\\Users\\Tautvydas\\AppData\\Local\\Temp\\ipykernel_137156\\4013083096.py:134: FutureWarning: The behavior of DataFrame concatenation with empty or all-NA entries is deprecated. In a future version, this will no longer exclude empty or all-NA columns when determining the result dtypes. To retain the old behavior, exclude the relevant entries before the concat operation.\n",
      "  df = pd.concat([df, pd.DataFrame([new_data])], ignore_index=True)\n",
      "C:\\Users\\Tautvydas\\AppData\\Local\\Temp\\ipykernel_137156\\4013083096.py:134: FutureWarning: The behavior of DataFrame concatenation with empty or all-NA entries is deprecated. In a future version, this will no longer exclude empty or all-NA columns when determining the result dtypes. To retain the old behavior, exclude the relevant entries before the concat operation.\n",
      "  df = pd.concat([df, pd.DataFrame([new_data])], ignore_index=True)\n",
      "C:\\Users\\Tautvydas\\AppData\\Local\\Temp\\ipykernel_137156\\4013083096.py:134: FutureWarning: The behavior of DataFrame concatenation with empty or all-NA entries is deprecated. In a future version, this will no longer exclude empty or all-NA columns when determining the result dtypes. To retain the old behavior, exclude the relevant entries before the concat operation.\n",
      "  df = pd.concat([df, pd.DataFrame([new_data])], ignore_index=True)\n",
      "C:\\Users\\Tautvydas\\AppData\\Local\\Temp\\ipykernel_137156\\4013083096.py:134: FutureWarning: The behavior of DataFrame concatenation with empty or all-NA entries is deprecated. In a future version, this will no longer exclude empty or all-NA columns when determining the result dtypes. To retain the old behavior, exclude the relevant entries before the concat operation.\n",
      "  df = pd.concat([df, pd.DataFrame([new_data])], ignore_index=True)\n",
      "C:\\Users\\Tautvydas\\AppData\\Local\\Temp\\ipykernel_137156\\4013083096.py:134: FutureWarning: The behavior of DataFrame concatenation with empty or all-NA entries is deprecated. In a future version, this will no longer exclude empty or all-NA columns when determining the result dtypes. To retain the old behavior, exclude the relevant entries before the concat operation.\n",
      "  df = pd.concat([df, pd.DataFrame([new_data])], ignore_index=True)\n",
      "C:\\Users\\Tautvydas\\AppData\\Local\\Temp\\ipykernel_137156\\4013083096.py:134: FutureWarning: The behavior of DataFrame concatenation with empty or all-NA entries is deprecated. In a future version, this will no longer exclude empty or all-NA columns when determining the result dtypes. To retain the old behavior, exclude the relevant entries before the concat operation.\n",
      "  df = pd.concat([df, pd.DataFrame([new_data])], ignore_index=True)\n",
      "C:\\Users\\Tautvydas\\AppData\\Local\\Temp\\ipykernel_137156\\4013083096.py:134: FutureWarning: The behavior of DataFrame concatenation with empty or all-NA entries is deprecated. In a future version, this will no longer exclude empty or all-NA columns when determining the result dtypes. To retain the old behavior, exclude the relevant entries before the concat operation.\n",
      "  df = pd.concat([df, pd.DataFrame([new_data])], ignore_index=True)\n",
      "C:\\Users\\Tautvydas\\AppData\\Local\\Temp\\ipykernel_137156\\4013083096.py:134: FutureWarning: The behavior of DataFrame concatenation with empty or all-NA entries is deprecated. In a future version, this will no longer exclude empty or all-NA columns when determining the result dtypes. To retain the old behavior, exclude the relevant entries before the concat operation.\n",
      "  df = pd.concat([df, pd.DataFrame([new_data])], ignore_index=True)\n",
      "C:\\Users\\Tautvydas\\AppData\\Local\\Temp\\ipykernel_137156\\4013083096.py:134: FutureWarning: The behavior of DataFrame concatenation with empty or all-NA entries is deprecated. In a future version, this will no longer exclude empty or all-NA columns when determining the result dtypes. To retain the old behavior, exclude the relevant entries before the concat operation.\n",
      "  df = pd.concat([df, pd.DataFrame([new_data])], ignore_index=True)\n",
      "C:\\Users\\Tautvydas\\AppData\\Local\\Temp\\ipykernel_137156\\4013083096.py:134: FutureWarning: The behavior of DataFrame concatenation with empty or all-NA entries is deprecated. In a future version, this will no longer exclude empty or all-NA columns when determining the result dtypes. To retain the old behavior, exclude the relevant entries before the concat operation.\n",
      "  df = pd.concat([df, pd.DataFrame([new_data])], ignore_index=True)\n",
      "C:\\Users\\Tautvydas\\AppData\\Local\\Temp\\ipykernel_137156\\4013083096.py:134: FutureWarning: The behavior of DataFrame concatenation with empty or all-NA entries is deprecated. In a future version, this will no longer exclude empty or all-NA columns when determining the result dtypes. To retain the old behavior, exclude the relevant entries before the concat operation.\n",
      "  df = pd.concat([df, pd.DataFrame([new_data])], ignore_index=True)\n",
      "C:\\Users\\Tautvydas\\AppData\\Local\\Temp\\ipykernel_137156\\4013083096.py:134: FutureWarning: The behavior of DataFrame concatenation with empty or all-NA entries is deprecated. In a future version, this will no longer exclude empty or all-NA columns when determining the result dtypes. To retain the old behavior, exclude the relevant entries before the concat operation.\n",
      "  df = pd.concat([df, pd.DataFrame([new_data])], ignore_index=True)\n",
      "C:\\Users\\Tautvydas\\AppData\\Local\\Temp\\ipykernel_137156\\4013083096.py:134: FutureWarning: The behavior of DataFrame concatenation with empty or all-NA entries is deprecated. In a future version, this will no longer exclude empty or all-NA columns when determining the result dtypes. To retain the old behavior, exclude the relevant entries before the concat operation.\n",
      "  df = pd.concat([df, pd.DataFrame([new_data])], ignore_index=True)\n",
      "C:\\Users\\Tautvydas\\AppData\\Local\\Temp\\ipykernel_137156\\4013083096.py:134: FutureWarning: The behavior of DataFrame concatenation with empty or all-NA entries is deprecated. In a future version, this will no longer exclude empty or all-NA columns when determining the result dtypes. To retain the old behavior, exclude the relevant entries before the concat operation.\n",
      "  df = pd.concat([df, pd.DataFrame([new_data])], ignore_index=True)\n",
      "C:\\Users\\Tautvydas\\AppData\\Local\\Temp\\ipykernel_137156\\4013083096.py:134: FutureWarning: The behavior of DataFrame concatenation with empty or all-NA entries is deprecated. In a future version, this will no longer exclude empty or all-NA columns when determining the result dtypes. To retain the old behavior, exclude the relevant entries before the concat operation.\n",
      "  df = pd.concat([df, pd.DataFrame([new_data])], ignore_index=True)\n",
      "C:\\Users\\Tautvydas\\AppData\\Local\\Temp\\ipykernel_137156\\4013083096.py:134: FutureWarning: The behavior of DataFrame concatenation with empty or all-NA entries is deprecated. In a future version, this will no longer exclude empty or all-NA columns when determining the result dtypes. To retain the old behavior, exclude the relevant entries before the concat operation.\n",
      "  df = pd.concat([df, pd.DataFrame([new_data])], ignore_index=True)\n",
      "C:\\Users\\Tautvydas\\AppData\\Local\\Temp\\ipykernel_137156\\4013083096.py:134: FutureWarning: The behavior of DataFrame concatenation with empty or all-NA entries is deprecated. In a future version, this will no longer exclude empty or all-NA columns when determining the result dtypes. To retain the old behavior, exclude the relevant entries before the concat operation.\n",
      "  df = pd.concat([df, pd.DataFrame([new_data])], ignore_index=True)\n"
     ]
    }
   ],
   "source": [
    "filter_sizes=[[3,6],[3,8],[3,9],[2,7],[2,8]]\n",
    "for filter in filter_sizes:\n",
    "    for i in range(1,11):\n",
    "        test=i\n",
    "        input_path='Tiffs_Validation'\n",
    "        input_tiff=f'Video{test}.tif'\n",
    "        params={\n",
    "            'r_in':filter[0],\n",
    "            'r_out':filter[1],\n",
    "            'ring_index':1,\n",
    "            'allowed_change':1,\n",
    "            'input_path':input_path,\n",
    "            'input_tiff':input_tiff,\n",
    "            'output_base_path':f'Results_Validation/Video{test}'\n",
    "        }\n",
    "        try:\n",
    "            ring_search(**params)\n",
    "        except Exception as e:\n",
    "            print(e)\n",
    "            print(params)\n",
    "            continue\n"
   ]
  },
  {
   "cell_type": "code",
   "execution_count": null,
   "metadata": {},
   "outputs": [],
   "source": [
    "test_values = ['2','3','4','5','6','7','8','9']\n",
    "r_vals=[[3,7],[6,9]]\n",
    "ring_index_values = [1, 2]  # List of ring_index values\n",
    "\n",
    "for test, r_val, ring_index in itertools.product(test_values, r_vals, ring_index_values):\n",
    "    try:\n",
    "        # Test each combination\n",
    "        params = {\n",
    "            'r_in': r_val[0],\n",
    "            'r_out': r_val[1],\n",
    "            'ring_index': ring_index,\n",
    "            'allowed_change': 1,\n",
    "            'input_path': 'Tiffs_Validation',\n",
    "            'input_tiff': f'Video{test}.tif',\n",
    "            'output_base_path': f'Results_Validation/Video{test}'\n",
    "        }\n",
    "        # ring_search(**params)\n",
    "        post_processing(**params)\n",
    "    except Exception as e:\n",
    "        print(f\"Test failed for parameters: test={test}, r_in={r_val[0]}, r_out={r_val[1]}, ring_index={ring_index}\")\n",
    "        print(f\"Error: {e}\")\n",
    "        continue"
   ]
  },
  {
   "cell_type": "code",
   "execution_count": 44,
   "metadata": {},
   "outputs": [
    {
     "name": "stderr",
     "output_type": "stream",
     "text": [
      "C:\\Users\\Tautvydas\\AppData\\Local\\Temp\\ipykernel_26700\\2816491021.py:30: FutureWarning: DataFrame.fillna with 'method' is deprecated and will raise in a future version. Use obj.ffill() or obj.bfill() instead.\n",
      "  preProcData.fillna(method='bfill', inplace=True) # for the beginning\n",
      "C:\\Users\\Tautvydas\\AppData\\Local\\Temp\\ipykernel_26700\\2816491021.py:30: FutureWarning: DataFrame.fillna with 'method' is deprecated and will raise in a future version. Use obj.ffill() or obj.bfill() instead.\n",
      "  preProcData.fillna(method='bfill', inplace=True) # for the beginning\n",
      "C:\\Users\\Tautvydas\\AppData\\Local\\Temp\\ipykernel_26700\\2816491021.py:30: FutureWarning: DataFrame.fillna with 'method' is deprecated and will raise in a future version. Use obj.ffill() or obj.bfill() instead.\n",
      "  preProcData.fillna(method='bfill', inplace=True) # for the beginning\n",
      "C:\\Users\\Tautvydas\\AppData\\Local\\Temp\\ipykernel_26700\\2816491021.py:30: FutureWarning: DataFrame.fillna with 'method' is deprecated and will raise in a future version. Use obj.ffill() or obj.bfill() instead.\n",
      "  preProcData.fillna(method='bfill', inplace=True) # for the beginning\n",
      "C:\\Users\\Tautvydas\\AppData\\Local\\Temp\\ipykernel_26700\\2816491021.py:30: FutureWarning: DataFrame.fillna with 'method' is deprecated and will raise in a future version. Use obj.ffill() or obj.bfill() instead.\n",
      "  preProcData.fillna(method='bfill', inplace=True) # for the beginning\n"
     ]
    }
   ],
   "source": [
    "for i in range (6,11):\n",
    "    test=i\n",
    "    input_path='Tiffs_Validation'\n",
    "    input_tiff=f'Video{test}.tif'\n",
    "    params={\n",
    "        'r_in':3,\n",
    "        'r_out':7,\n",
    "        'ring_index':1,\n",
    "        'allowed_change':1,\n",
    "        'input_path':input_path,\n",
    "        'input_tiff':input_tiff,\n",
    "        'output_base_path':f'Results_Validation/Video{test}'\n",
    "    }\n",
    "    post_processing(**params)"
   ]
  },
  {
   "cell_type": "code",
   "execution_count": 42,
   "metadata": {},
   "outputs": [
    {
     "name": "stdout",
     "output_type": "stream",
     "text": [
      "{'r_in': 6, 'r_out': 9, 'ring_index': 2, 'allowed_change': 1, 'input_path': 'Tiffs_Validation', 'input_tiff': 'Video3.tif', 'output_base_path': 'Results_Validation/Video3'}\n"
     ]
    },
    {
     "name": "stderr",
     "output_type": "stream",
     "text": [
      "C:\\Users\\Tautvydas\\AppData\\Local\\Temp\\ipykernel_26700\\2816491021.py:30: FutureWarning: DataFrame.fillna with 'method' is deprecated and will raise in a future version. Use obj.ffill() or obj.bfill() instead.\n",
      "  preProcData.fillna(method='bfill', inplace=True) # for the beginning\n"
     ]
    }
   ],
   "source": [
    "test='3'\n",
    "input_path='Tiffs_Validation'\n",
    "input_tiff=f'Video{test}.tif'\n",
    "# brightness=image_background_brightness(get_first_png(input_tiff, input_path))\n",
    "params={\n",
    "    'r_in':6,\n",
    "    'r_out':9,\n",
    "    'ring_index':2,\n",
    "    'allowed_change':1,\n",
    "    'input_path':input_path,\n",
    "    'input_tiff':input_tiff,\n",
    "    'output_base_path':f'Results_Validation/Video{test}'\n",
    "}\n",
    "\n",
    "print(params)\n",
    "# ring_search(**params)\n",
    "post_processing(**params)"
   ]
  }
 ],
 "metadata": {
  "kernelspec": {
   "display_name": "Python 3",
   "language": "python",
   "name": "python3"
  },
  "language_info": {
   "codemirror_mode": {
    "name": "ipython",
    "version": 3
   },
   "file_extension": ".py",
   "mimetype": "text/x-python",
   "name": "python",
   "nbconvert_exporter": "python",
   "pygments_lexer": "ipython3",
   "version": "3.12.4"
  }
 },
 "nbformat": 4,
 "nbformat_minor": 2
}
